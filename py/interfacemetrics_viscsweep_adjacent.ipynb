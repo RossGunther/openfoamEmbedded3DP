{
 "cells": [
  {
   "cell_type": "code",
   "execution_count": null,
   "metadata": {},
   "outputs": [],
   "source": [
    "%load_ext autoreload\n",
    "%autoreload 2\n",
    "LOGGERDEFINED=False"
   ]
  },
  {
   "cell_type": "code",
   "execution_count": null,
   "metadata": {},
   "outputs": [],
   "source": [
    "import os\n",
    "import sys\n",
    "sys.path.append(\"../\")\n",
    "import folderparser as fp\n",
    "import folderscraper as fs\n",
    "import interfacemetrics as intm\n",
    "from interfacePlots import *\n",
    "from config import cfg\n",
    "LOGGERDEFINED = fp.openLog('interfacemetrics_viscsweep.ipynb', LOGGERDEFINED, level='DEBUG', exportLog=True)"
   ]
  },
  {
   "cell_type": "code",
   "execution_count": null,
   "metadata": {},
   "outputs": [],
   "source": [
    "EFOLDERS = [os.path.join(cfg.path.server, s) for s in ['HBnewtsweep', 'newtHBsweep', 'newtnewtsweep', 'HBHBsweep']]\n",
    "EXPORTFOLDER = os.path.join(cfg.path.fig, 'viscositysweep', 'plots')"
   ]
  },
  {
   "cell_type": "markdown",
   "metadata": {},
   "source": [
    "# Generating files"
   ]
  },
  {
   "cell_type": "code",
   "execution_count": null,
   "metadata": {},
   "outputs": [],
   "source": [
    "import pandas as pd\n",
    "import ncreate3d as nc\n",
    "folder = r'\\\\cfs2e.nist.gov\\642\\NIST_Projects\\Additive Manufacturing and Rheology\\OpenFOAM\\simulations\\viscositysweep\\HBHBsweep\\nb347'\n",
    "x = nc.ble+nc.frontWidth*nc.niw+8*nc.niw # cross-section taken 8 inner diameters behind the nozzle\n",
    "# x = 1.4544\n",
    "p = intm.posSlice(folder,x)"
   ]
  },
  {
   "cell_type": "code",
   "execution_count": null,
   "metadata": {},
   "outputs": [],
   "source": [
    "import os\n",
    "import sys\n",
    "import pandas as pd\n",
    "import numpy as np\n",
    "from descartes import PolygonPatch\n",
    "import matplotlib.pyplot as plt\n",
    "\n",
    "SCALE = 0.001;\n",
    "\n",
    "yloc = nc.ncy-nc.niw # desired location of left edge of cross section\n",
    "y = p['y']\n",
    "z = p['z']\n",
    "ymin = min(y)\n",
    "y = [a-ymin+yloc for a in y]\n",
    "vertices = list(zip(y,z)) # list of tuples\n",
    "\n",
    "points = np.asarray(vertices) # numpy array of coordinate pairs\n",
    "\n",
    "# turn xs into 3d shape\n",
    "points3D = np.zeros((1,3))\n",
    "for x in np.linspace(-4.824,4.824,50):\n",
    "    for i in range(len(points)):\n",
    "        if np.all(points3D==0):\n",
    "            points3D = np.insert(points[i],0,x)\n",
    "        else:\n",
    "            points3D = np.vstack((points3D,np.insert(points[i],0,x)))\n",
    "\n",
    "# Create triangles\n",
    "from scipy.spatial import Delaunay\n",
    "tri = Delaunay(points3D)\n",
    "faces = tri.simplices\n",
    "\n",
    "# Create  stl\n",
    "from stl import mesh\n",
    "xs = mesh.Mesh(np.zeros(faces.shape[0], dtype=mesh.Mesh.dtype))\n",
    "for i, f in enumerate(faces):\n",
    "    for j in range(3):\n",
    "        xs.vectors[i][j] = points3D[f[j], :]*SCALE\n",
    "        \n",
    "xs.save('inkLine.stl')\n",
    "print('Done')"
   ]
  },
  {
   "cell_type": "code",
   "execution_count": null,
   "metadata": {},
   "outputs": [],
   "source": [
    "help(xs.vectors)"
   ]
  },
  {
   "cell_type": "code",
   "execution_count": null,
   "metadata": {},
   "outputs": [],
   "source": [
    "y = list(p['y'])\n",
    "z = list(p['z'])\n",
    "diffy = []\n",
    "diffz = []\n",
    "difffy = []\n",
    "difffz = []\n",
    "listt = []\n",
    "count = 0\n",
    "for i in range(len(y)-1):\n",
    "    dy = y[i+1]-y[i]\n",
    "    dz = z[i+1]-z[i]\n",
    "    diffy.append(dy)\n",
    "    diffz.append(dz)\n",
    "    # if d < 0.0001:\n",
    "    #     listt.append(i)\n",
    "        \n",
    "# for j in range(len(listt)):\n",
    "#     if j not in listt:\n",
    "#         count+=1\n",
    "        \n",
    "# print(count)\n",
    "# print(len(y))\n",
    "\n",
    "for i in range(len(diffz)-1):\n",
    "    dy = diffy[i+1]-diffy[i]\n",
    "    dz = diffz[i+1]-diffz[i]\n",
    "    difffy.append(dy)\n",
    "    difffz.append(dz)\n",
    "    \n",
    "# for i in range(len(difffz)):\n",
    "#     if difffy[i]<0.000\n",
    "    \n",
    "# print(listt)\n",
    "# print(len(np.unique(diffy)))\n",
    "# print(len(np.unique(diffz)))\n",
    "print(len(diffz))\n",
    "# print(diffy)\n",
    "# print(diffz)"
   ]
  },
  {
   "cell_type": "code",
   "execution_count": null,
   "metadata": {},
   "outputs": [],
   "source": [
    "import matplotlib.pyplot as plt\n",
    "import numpy as np\n",
    "# import jpype\n",
    "# import asposecells\n",
    "# jpype.startJVM()\n",
    "# from asposecells.api import *\n",
    "\n",
    "# print(p[p['alpha']<.5])\n",
    "# print(min(p['y']))\n",
    "# print(min(p['z']))\n",
    "y = p['y']\n",
    "z = p['z']\n",
    "\n",
    "fig, ax = plt.subplots()\n",
    "ax.scatter(y, z)\n",
    "\n",
    "ax.set(xlabel='y', ylabel='z',\n",
    "       title='Cross-Section')\n",
    "ax.grid()\n",
    "plt.axis('scaled')\n",
    "plt.show()"
   ]
  },
  {
   "cell_type": "code",
   "execution_count": null,
   "metadata": {},
   "outputs": [],
   "source": [
    "import pandas as pd\n",
    "o = []\n",
    "for topfolder in [r'\\\\cfs2e.nist.gov\\642\\NIST_Projects\\Additive Manufacturing and Rheology\\OpenFOAM\\simulations\\viscositysweep\\archive\\mesh refinement']:\n",
    "    for f in fp.caseFolders(topfolder):\n",
    "        fs.populate(f)\n",
    "        l = fp.legendUnique(f)\n",
    "        if len(l)>0:\n",
    "            o.append(l)\n",
    "p = pd.DataFrame(o)\n",
    "p.to_csv(r'\\\\cfs2e.nist.gov\\642\\NIST_Projects\\Additive Manufacturing and Rheology\\OpenFOAM\\simulations\\viscositysweep\\archive\\mesh refinement\\legend_mesh.csv')"
   ]
  },
  {
   "cell_type": "code",
   "execution_count": null,
   "metadata": {},
   "outputs": [],
   "source": [
    "import pandas as pd\n",
    "o = []\n",
    "for topfolder in EFOLDERS:\n",
    "    for f in os.listdir(topfolder):\n",
    "        l = fp.legendUnique(os.path.join(topfolder, f))\n",
    "        if len(l)>0:\n",
    "            o.append(l)\n",
    "p = pd.DataFrame(o)\n",
    "p.to_csv(os.path.join(cfg.fig, 'viscositysweep', 'legend_general.csv'))"
   ]
  },
  {
   "cell_type": "code",
   "execution_count": null,
   "metadata": {},
   "outputs": [],
   "source": [
    "for topfolder in EFOLDERS:\n",
    "    for folder in fp.caseFolders(topfolder):\n",
    "        print(folder)\n",
    "        print(type(folder))\n",
    "        # intm.sumAndSteady(folder, True)"
   ]
  },
  {
   "cell_type": "markdown",
   "metadata": {},
   "source": [
    "# Plots"
   ]
  },
  {
   "cell_type": "code",
   "execution_count": null,
   "metadata": {},
   "outputs": [],
   "source": [
    "fullv = [10**i for i in range(-2, 6)]\n",
    "for TOPFOLDER in EFOLDERS:\n",
    "        xposition = 5\n",
    "        for t in [2.5]:\n",
    "            for s in [['arean', 1.0, 1.8]]:\n",
    "                metricPlots(TOPFOLDER, EXPORTFOLDER, t, xposition, s[0], xvar='nuink', yvar='nusup', split=True, sigmalist=[0,40], overwrite=True, nuinklist=fullv, nusuplist=fullv, adjustBounds=False, tmin=s[1], tmax=s[2])"
   ]
  },
  {
   "cell_type": "code",
   "execution_count": null,
   "metadata": {},
   "outputs": [],
   "source": [
    "fullv = [10**i for i in range(-2, 6)]\n",
    "for TOPFOLDER in EFOLDERS:\n",
    "        for sigma in [0, 40]:\n",
    "            imsize=1\n",
    "            steadyPlots(TOPFOLDER, imsize, EXPORTFOLDER, [sigma], xvar='nuink', yvar='nusup', overwrite=True, nuinklist=fullv, nusuplist=fullv, adjustBounds=False)"
   ]
  },
  {
   "cell_type": "code",
   "execution_count": null,
   "metadata": {},
   "outputs": [],
   "source": [
    "for s in ['newtnewtsweep', 'controls']:\n",
    "    TOPFOLDER = os.path.join(cfg.path.server, 'viscositysweep', s)\n",
    "    xvar = 'nuink'\n",
    "    yvar = 'nusup'\n",
    "    fullv = [10**i for i in range(1, 6)]\n",
    "    t = 2.5\n",
    "    sigma = 0\n",
    "    suplist = [10**3]\n",
    "    for ta in ['y_py', 'x_uslicex', 'y_umag', 'y_uzslicey']:\n",
    "        picPlots0(TOPFOLDER, EXPORTFOLDER, t, sigma, tag=ta, xvar=xvar, yvar=yvar, overwrite=False, nuinklist=fullv, nusuplist=suplist, adjustBounds=False)"
   ]
  },
  {
   "cell_type": "code",
   "execution_count": null,
   "metadata": {},
   "outputs": [],
   "source": [
    "for s in ['newtnewtsweep']:\n",
    "    TOPFOLDER = os.path.join(cfg.path.server, 'viscositysweep', s)\n",
    "    xvar = 'nuink/nusup'\n",
    "    yvar = '1/nusup'\n",
    "    t = 1\n",
    "    sigma = 0\n",
    "    for ta in ['y_umag']:\n",
    "        picPlots0(TOPFOLDER, EXPORTFOLDER, t, sigma, tag=ta, xvar=xvar, yvar=yvar, overwrite=True, adjustBounds=True)"
   ]
  },
  {
   "cell_type": "code",
   "execution_count": null,
   "metadata": {
    "scrolled": true
   },
   "outputs": [],
   "source": [
    "fullv = [10**i for i in range(-2, 6)]\n",
    "\n",
    "xvar = 'nuink'\n",
    "yvar = 'nusup'\n",
    "\n",
    "for TOPFOLDER in [EFOLDERS[0]]:\n",
    "    txtPlots0(TOPFOLDER, EXPORTFOLDER, xvar=xvar, yvar=yvar, overwrite=False)\n",
    "    timePlots(TOPFOLDER, EXPORTFOLDER, xvar=xvar, yvar=yvar, overwrite=False)\n",
    "    runtimePlots0(TOPFOLDER, EXPORTFOLDER, xvar=xvar, yvar=yvar, overwrite=False)\n",
    "    \n",
    "    xposition = 5\n",
    "    for t in [2.5]:\n",
    "        for s in [['arean', 0.7, 1.8], ['vertdispn', 0, 1], ['aspectratio', 0.6, 1.7], ['speeddecay', 0.5, 1.0]]:\n",
    "            metricPlots(TOPFOLDER, EXPORTFOLDER, t, xposition, s[0], xvar=xvar, yvar=yvar, split=True,\\\n",
    "                        sigmalist=[0,40], overwrite=False, nuinklist=fullv, nusuplist=fullv, \\\n",
    "                        adjustBounds=False, tmin=s[1], tmax=s[2])\n",
    "    for t in [0.5, 1, 2.5]:\n",
    "        for sigma in [0, 40]:\n",
    "            for ta in ['y_umag', 'y_viscy', 'y_uslicey', 'x_uslicex', 'x_viscx']:\n",
    "                picPlots0(TOPFOLDER, EXPORTFOLDER, t, sigma, tag=ta, xvar=xvar, yvar=yvar, overwrite=False,\\\n",
    "                          nuinklist=fullv, nusuplist=fullv, adjustBounds=False)\n",
    "    for t in [2.5]:\n",
    "        XSPlots0(TOPFOLDER, EXPORTFOLDER, t, xposition, [0, 40], xvar=xvar, yvar=yvar, overwrite=False,\\\n",
    "                 nuinklist=fullv, nusuplist=fullv, adjustBounds=False)\n",
    "    for sigma in [0, 40]:\n",
    "        imsize=1.3\n",
    "        steadyPlots(TOPFOLDER, imsize, EXPORTFOLDER, [sigma], xvar=xvar, yvar=yvar, overwrite=False, \\\n",
    "                    nuinklist=fullv, nusuplist=fullv, adjustBounds=False)"
   ]
  },
  {
   "cell_type": "code",
   "execution_count": null,
   "metadata": {
    "scrolled": true
   },
   "outputs": [],
   "source": [
    "fullv = [10**i for i in range(-2, 6)]\n",
    "\n",
    "xvar = 'nuink'\n",
    "yvar = 'nusup'\n",
    "\n",
    "for TOPFOLDER in EFOLDERS:\n",
    "    for t in range(0,26):\n",
    "        t = round(t/10, 1)\n",
    "        for sigma in [0, 40]:\n",
    "            for ta in ['y_umag']:\n",
    "                picPlots0(TOPFOLDER, EXPORTFOLDER, t, sigma, tag=ta, xvar=xvar, yvar=yvar, overwrite=False, nuinklist=fullv, nusuplist=fullv, adjustBounds=False, svg=False)"
   ]
  },
  {
   "cell_type": "code",
   "execution_count": null,
   "metadata": {},
   "outputs": [],
   "source": [
    "for mode in [0,1]:\n",
    "    flist = []\n",
    "    for f in [533, 37, 45, 53]:\n",
    "        flist.append(os.path.join(EFOLDERS[2], 'nb'+str(f)))\n",
    "    fig = linePlots(flist, intmp.divfunc, 1, 2.25, mode)\n",
    "    fig.savefig(os.path.join(EXPORTFOLDER, r'newtnewt_velz_t_1_x_1.5_div_sup100_sig_0_'+str(mode)+'.svg'))"
   ]
  },
  {
   "cell_type": "code",
   "execution_count": null,
   "metadata": {},
   "outputs": [],
   "source": [
    "for mode in [0,1]:\n",
    "    flist = []\n",
    "    for f in [247, 241, 253]:\n",
    "        flist.append(os.path.join(EFOLDERS[0], 'nb'+str(f)))\n",
    "    fig = linePlots(flist, intmp.inkfunc, 1, 2.25, mode)\n",
    "    fig.savefig(os.path.join(EXPORTFOLDER, 'HBnewt_velz_t_1_x_1.5_inkv_sup100_sig_0_'+str(mode)+'.svg'))"
   ]
  },
  {
   "cell_type": "code",
   "execution_count": null,
   "metadata": {},
   "outputs": [],
   "source": [
    "for mode in [0,1]:\n",
    "    flist = []\n",
    "    for f in [221, 227, 709]:\n",
    "        flist.append(os.path.join(EFOLDERS[1], 'nb'+str(f)))\n",
    "    fig = linePlots(flist, intmp.supfunc, 1, 2.25, mode)\n",
    "    fig.savefig(os.path.join(EXPORTFOLDER, 'newtHB_velz_t_1_x_1.5_supv_ink10_sig_0_'+str(mode)+'.svg'))"
   ]
  },
  {
   "cell_type": "code",
   "execution_count": null,
   "metadata": {},
   "outputs": [],
   "source": [
    "flist = []\n",
    "#for f in [32, 42, 52, 62]:\n",
    "for f in [40,50,60]:\n",
    "    flist.append(os.path.join(TOPFOLDER, 'nb'+str(f)))\n",
    "fig = lineplots(flist, intmp.supfunc, 5, 2.25)\n",
    "fig.savefig(os.path.join(EXPORTFOLDER, 'velz_t_5_sup_div0.1_sig_40.svg'))\n"
   ]
  },
  {
   "cell_type": "code",
   "execution_count": null,
   "metadata": {},
   "outputs": [],
   "source": [
    "flist = []\n",
    "for f in [22, 40, 41]:\n",
    "    flist.append(os.path.join(TOPFOLDER, 'nb'+str(f)))\n",
    "fig = linePlots(flist, intmp.sigfunc, 5, 2.25)\n",
    "fig.saveFig(os.path.join(EXPORTFOLDER, 'velz_t_5_sig_div0.1_sup_1.svg'))"
   ]
  },
  {
   "cell_type": "code",
   "execution_count": null,
   "metadata": {},
   "outputs": [],
   "source": [
    "# flist = []\n",
    "# for f in [50, 42, 62]:\n",
    "#     flist.append(os.path.join(TOPFOLDER, 'nb'+str(f)))\n",
    "flist = [os.path.join(EFOLDERS[2], 'nb37'), os.path.join(EFOLDERS[0], 'nb247')]\n",
    "for f in flist:\n",
    "    stabilityPlot(f, EXPORTFOLDER, 2.5, 3, export=True)"
   ]
  },
  {
   "cell_type": "code",
   "execution_count": null,
   "metadata": {},
   "outputs": [],
   "source": [
    "stabilityPlot(os.path.join(EFOLDERS[2], 'nb37'), EXPORTFOLDER, 2.5, 3, export=True)"
   ]
  },
  {
   "cell_type": "code",
   "execution_count": null,
   "metadata": {},
   "outputs": [],
   "source": [
    "t = 0\n",
    "for d in EFOLDERS:\n",
    "    for f in os.listdir(d):\n",
    "        l = intm.importLegend(os.path.join(d, f))\n",
    "        if not type(l) is int:\n",
    "            t1 = float(l.loc[5, 'val'])\n",
    "            if t1>0:\n",
    "                t+=t1\n",
    "t"
   ]
  },
  {
   "cell_type": "code",
   "execution_count": null,
   "metadata": {},
   "outputs": [],
   "source": [
    "import pandas as pd\n",
    "metrics = []\n",
    "for TOPFOLDER in EFOLDERS:\n",
    "    for f in os.listdir(TOPFOLDER):\n",
    "        try:\n",
    "            m = metricVals(os.path.join(TOPFOLDER, f), 2.5, 5, ['arean', 'vertdispn', 'aspectratio', 'speeddecay'])\n",
    "        except:\n",
    "            pass\n",
    "        else:\n",
    "            metrics.append(m)\n",
    "df = pd.DataFrame(metrics)\n",
    "df"
   ]
  },
  {
   "cell_type": "code",
   "execution_count": null,
   "metadata": {},
   "outputs": [],
   "source": [
    "fig, axs = plt.subplots(nrows=3, ncols=3,sharex='col', sharey='row',figsize=(6.5,6.5))\n",
    "cmap = plt.get_cmap('tab20c')\n",
    "\n",
    "for t in range(len(EFOLDERS)):\n",
    "    TOPFOLDER = EFOLDERS[t]\n",
    "    metrics = []\n",
    "    for f in os.listdir(TOPFOLDER):\n",
    "        try:\n",
    "            m = metricVals(os.path.join(TOPFOLDER, f), 2.5, 5, ['arean', 'vertdispn', 'aspectratio', 'speeddecay'])\n",
    "        except:\n",
    "            pass\n",
    "        else:\n",
    "            metrics.append(m)\n",
    "    df = pd.DataFrame(metrics)\n",
    "\n",
    "    df2 = df[df['arean']<3]\n",
    "    df2 = df2[df2['vertdispn']>-0.1]\n",
    "    df2 = df2[df2['vertdispn']<1.2]\n",
    "    df2 = df2[df2['speeddecay']<1.1]\n",
    "\n",
    "    slist = df.keys()\n",
    "    for i in range(4):\n",
    "        for j in range(i):\n",
    "            color = cmap(t/3)\n",
    "            if j==0 and i==1:\n",
    "                axs[j,i-1].scatter(df2[slist[i]], df2[slist[j]], s=5, color=color, label=os.path.basename(TOPFOLDER))\n",
    "            else:\n",
    "                axs[j,i-1].scatter(df2[slist[i]], df2[slist[j]], s=5, color=color)\n",
    "            axs[j,i-1].set_xlabel(slist[i])\n",
    "            axs[j,i-1].set_ylabel(slist[j])\n",
    "axs[0,0].legend()\n"
   ]
  },
  {
   "cell_type": "code",
   "execution_count": null,
   "metadata": {},
   "outputs": [],
   "source": [
    "intm.exportIm(os.path.join(EXPORTFOLDER, 'correlations'), fig)"
   ]
  }
 ],
 "metadata": {
  "kernelspec": {
   "display_name": "Python 3 (ipykernel)",
   "language": "python",
   "name": "python3"
  },
  "language_info": {
   "codemirror_mode": {
    "name": "ipython",
    "version": 3
   },
   "file_extension": ".py",
   "mimetype": "text/x-python",
   "name": "python",
   "nbconvert_exporter": "python",
   "pygments_lexer": "ipython3",
   "version": "3.9.12"
  }
 },
 "nbformat": 4,
 "nbformat_minor": 4
}
