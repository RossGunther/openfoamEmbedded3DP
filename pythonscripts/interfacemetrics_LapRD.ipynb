{
 "cells": [
  {
   "cell_type": "code",
   "execution_count": 1,
   "metadata": {},
   "outputs": [],
   "source": [
    "%load_ext autoreload\n",
    "%autoreload 2\n",
    "LOGGERDEFINED = False"
   ]
  },
  {
   "cell_type": "code",
   "execution_count": 2,
   "metadata": {},
   "outputs": [],
   "source": [
    "import os\n",
    "import sys\n",
    "sys.path.append(\"../\")\n",
    "import folderparser as fp\n",
    "import folderscraper as fs\n",
    "from interfacePlots import *\n",
    "from config import cfg\n",
    "LOGGERDEFINED = fp.openLog('interfacemetrics_LapRD.ipynb', LOGGERDEFINED, level='DEBUG', exportLog=True)"
   ]
  },
  {
   "cell_type": "code",
   "execution_count": 3,
   "metadata": {},
   "outputs": [],
   "source": [
    "EFOLDERS = [os.path.join(cfg.path.server, 'yieldingsweep', s) for s in ['LapRD', 'LapRDTall']]\n",
    "EXPORTFOLDER = os.path.join(cfg.path.fig, 'yieldingsweep', 'plots')"
   ]
  },
  {
   "cell_type": "markdown",
   "metadata": {},
   "source": [
    "# Generating files"
   ]
  },
  {
   "cell_type": "code",
   "execution_count": 6,
   "metadata": {},
   "outputs": [],
   "source": [
    "import traceback"
   ]
  },
  {
   "cell_type": "code",
   "execution_count": null,
   "metadata": {},
   "outputs": [],
   "source": [
    "import pandas as pd\n",
    "o = []\n",
    "for topfolder in EFOLDERS:\n",
    "    for f in os.listdir(topfolder):\n",
    "        ffull = os.path.join(topfolder, f)\n",
    "        try:\n",
    "            fs.populate(ffull)\n",
    "        except:\n",
    "            pass\n",
    "        else:\n",
    "            l = fp.legendUnique(ffull)\n",
    "            if len(l)>0:\n",
    "                o.append(l)\n",
    "p = pd.DataFrame(o)\n",
    "p.to_csv(os.path.join(cfg.path.fig, 'yieldingsweep','LapRD_legend_general.csv'))"
   ]
  },
  {
   "cell_type": "code",
   "execution_count": 5,
   "metadata": {},
   "outputs": [
    {
     "name": "stdout",
     "output_type": "stream",
     "text": [
      "DEBUG: //cfs2e.nist.gov/642/NIST_Projects/Additive Manufacturing and Rheology/OpenFOAM/simulations\\yieldingsweep\\LapRD\\nb1100\n",
      "INFO:     Exported //cfs2e.nist.gov/642/NIST_Projects/Additive Manufacturing and Rheology/OpenFOAM/simulations\\yieldingsweep\\LapRD\\nb1100\\sliceSummaries.csv\n",
      "INFO:     Exported //cfs2e.nist.gov/642/NIST_Projects/Additive Manufacturing and Rheology/OpenFOAM/simulations\\yieldingsweep\\LapRD\\nb1100\\steadyTimes.csv\n",
      "INFO:     Exported //cfs2e.nist.gov/642/NIST_Projects/Additive Manufacturing and Rheology/OpenFOAM/simulations\\yieldingsweep\\LapRD\\nb1100\\steadyPositions.csv\n",
      "DEBUG: //cfs2e.nist.gov/642/NIST_Projects/Additive Manufacturing and Rheology/OpenFOAM/simulations\\yieldingsweep\\LapRD\\nb1101\n",
      "INFO:     Exported //cfs2e.nist.gov/642/NIST_Projects/Additive Manufacturing and Rheology/OpenFOAM/simulations\\yieldingsweep\\LapRD\\nb1101\\sliceSummaries.csv\n",
      "INFO:     Exported //cfs2e.nist.gov/642/NIST_Projects/Additive Manufacturing and Rheology/OpenFOAM/simulations\\yieldingsweep\\LapRD\\nb1101\\steadyTimes.csv\n",
      "INFO:     Exported //cfs2e.nist.gov/642/NIST_Projects/Additive Manufacturing and Rheology/OpenFOAM/simulations\\yieldingsweep\\LapRD\\nb1101\\steadyPositions.csv\n",
      "DEBUG: //cfs2e.nist.gov/642/NIST_Projects/Additive Manufacturing and Rheology/OpenFOAM/simulations\\yieldingsweep\\LapRD\\nb1102\n",
      "INFO:     Exported //cfs2e.nist.gov/642/NIST_Projects/Additive Manufacturing and Rheology/OpenFOAM/simulations\\yieldingsweep\\LapRD\\nb1102\\sliceSummaries.csv\n",
      "INFO:     Exported //cfs2e.nist.gov/642/NIST_Projects/Additive Manufacturing and Rheology/OpenFOAM/simulations\\yieldingsweep\\LapRD\\nb1102\\steadyTimes.csv\n",
      "INFO:     Exported //cfs2e.nist.gov/642/NIST_Projects/Additive Manufacturing and Rheology/OpenFOAM/simulations\\yieldingsweep\\LapRD\\nb1102\\steadyPositions.csv\n",
      "DEBUG: //cfs2e.nist.gov/642/NIST_Projects/Additive Manufacturing and Rheology/OpenFOAM/simulations\\yieldingsweep\\LapRD\\nb1103\n",
      "INFO: No slices recorded in //cfs2e.nist.gov/642/NIST_Projects/Additive Manufacturing and Rheology/OpenFOAM/simulations\\yieldingsweep\\LapRD\\nb1103\n",
      "DEBUG: //cfs2e.nist.gov/642/NIST_Projects/Additive Manufacturing and Rheology/OpenFOAM/simulations\\yieldingsweep\\LapRD\\nb1104\n",
      "INFO:     Exported //cfs2e.nist.gov/642/NIST_Projects/Additive Manufacturing and Rheology/OpenFOAM/simulations\\yieldingsweep\\LapRD\\nb1104\\sliceSummaries.csv\n",
      "INFO:     Exported //cfs2e.nist.gov/642/NIST_Projects/Additive Manufacturing and Rheology/OpenFOAM/simulations\\yieldingsweep\\LapRD\\nb1104\\steadyTimes.csv\n",
      "INFO:     Exported //cfs2e.nist.gov/642/NIST_Projects/Additive Manufacturing and Rheology/OpenFOAM/simulations\\yieldingsweep\\LapRD\\nb1104\\steadyPositions.csv\n",
      "DEBUG: //cfs2e.nist.gov/642/NIST_Projects/Additive Manufacturing and Rheology/OpenFOAM/simulations\\yieldingsweep\\LapRD\\nb1105\n",
      "INFO:     Exported //cfs2e.nist.gov/642/NIST_Projects/Additive Manufacturing and Rheology/OpenFOAM/simulations\\yieldingsweep\\LapRD\\nb1105\\sliceSummaries.csv\n",
      "INFO:     Exported //cfs2e.nist.gov/642/NIST_Projects/Additive Manufacturing and Rheology/OpenFOAM/simulations\\yieldingsweep\\LapRD\\nb1105\\steadyTimes.csv\n",
      "INFO:     Exported //cfs2e.nist.gov/642/NIST_Projects/Additive Manufacturing and Rheology/OpenFOAM/simulations\\yieldingsweep\\LapRD\\nb1105\\steadyPositions.csv\n",
      "DEBUG: //cfs2e.nist.gov/642/NIST_Projects/Additive Manufacturing and Rheology/OpenFOAM/simulations\\yieldingsweep\\LapRD\\nb1106\n",
      "INFO:     Exported //cfs2e.nist.gov/642/NIST_Projects/Additive Manufacturing and Rheology/OpenFOAM/simulations\\yieldingsweep\\LapRD\\nb1106\\sliceSummaries.csv\n",
      "INFO:     Exported //cfs2e.nist.gov/642/NIST_Projects/Additive Manufacturing and Rheology/OpenFOAM/simulations\\yieldingsweep\\LapRD\\nb1106\\steadyTimes.csv\n",
      "INFO:     Exported //cfs2e.nist.gov/642/NIST_Projects/Additive Manufacturing and Rheology/OpenFOAM/simulations\\yieldingsweep\\LapRD\\nb1106\\steadyPositions.csv\n",
      "DEBUG: //cfs2e.nist.gov/642/NIST_Projects/Additive Manufacturing and Rheology/OpenFOAM/simulations\\yieldingsweep\\LapRD\\nb1107\n",
      "INFO:     Exported //cfs2e.nist.gov/642/NIST_Projects/Additive Manufacturing and Rheology/OpenFOAM/simulations\\yieldingsweep\\LapRD\\nb1107\\sliceSummaries.csv\n",
      "INFO:     Exported //cfs2e.nist.gov/642/NIST_Projects/Additive Manufacturing and Rheology/OpenFOAM/simulations\\yieldingsweep\\LapRD\\nb1107\\steadyTimes.csv\n",
      "INFO:     Exported //cfs2e.nist.gov/642/NIST_Projects/Additive Manufacturing and Rheology/OpenFOAM/simulations\\yieldingsweep\\LapRD\\nb1107\\steadyPositions.csv\n",
      "DEBUG: //cfs2e.nist.gov/642/NIST_Projects/Additive Manufacturing and Rheology/OpenFOAM/simulations\\yieldingsweep\\LapRD\\nb1108\n",
      "INFO:     Exported //cfs2e.nist.gov/642/NIST_Projects/Additive Manufacturing and Rheology/OpenFOAM/simulations\\yieldingsweep\\LapRD\\nb1108\\sliceSummaries.csv\n",
      "INFO:     Exported //cfs2e.nist.gov/642/NIST_Projects/Additive Manufacturing and Rheology/OpenFOAM/simulations\\yieldingsweep\\LapRD\\nb1108\\steadyTimes.csv\n",
      "INFO:     Exported //cfs2e.nist.gov/642/NIST_Projects/Additive Manufacturing and Rheology/OpenFOAM/simulations\\yieldingsweep\\LapRD\\nb1108\\steadyPositions.csv\n",
      "DEBUG: //cfs2e.nist.gov/642/NIST_Projects/Additive Manufacturing and Rheology/OpenFOAM/simulations\\yieldingsweep\\LapRD\\nb1109\n",
      "INFO:     Exported //cfs2e.nist.gov/642/NIST_Projects/Additive Manufacturing and Rheology/OpenFOAM/simulations\\yieldingsweep\\LapRD\\nb1109\\sliceSummaries.csv\n",
      "INFO:     Exported //cfs2e.nist.gov/642/NIST_Projects/Additive Manufacturing and Rheology/OpenFOAM/simulations\\yieldingsweep\\LapRD\\nb1109\\steadyTimes.csv\n",
      "INFO:     Exported //cfs2e.nist.gov/642/NIST_Projects/Additive Manufacturing and Rheology/OpenFOAM/simulations\\yieldingsweep\\LapRD\\nb1109\\steadyPositions.csv\n",
      "DEBUG: //cfs2e.nist.gov/642/NIST_Projects/Additive Manufacturing and Rheology/OpenFOAM/simulations\\yieldingsweep\\LapRD\\nb1110\n",
      "INFO:     Exported //cfs2e.nist.gov/642/NIST_Projects/Additive Manufacturing and Rheology/OpenFOAM/simulations\\yieldingsweep\\LapRD\\nb1110\\sliceSummaries.csv\n",
      "INFO:     Exported //cfs2e.nist.gov/642/NIST_Projects/Additive Manufacturing and Rheology/OpenFOAM/simulations\\yieldingsweep\\LapRD\\nb1110\\steadyTimes.csv\n",
      "INFO:     Exported //cfs2e.nist.gov/642/NIST_Projects/Additive Manufacturing and Rheology/OpenFOAM/simulations\\yieldingsweep\\LapRD\\nb1110\\steadyPositions.csv\n",
      "DEBUG: //cfs2e.nist.gov/642/NIST_Projects/Additive Manufacturing and Rheology/OpenFOAM/simulations\\yieldingsweep\\LapRD\\nb1111\n",
      "INFO:     Exported //cfs2e.nist.gov/642/NIST_Projects/Additive Manufacturing and Rheology/OpenFOAM/simulations\\yieldingsweep\\LapRD\\nb1111\\sliceSummaries.csv\n",
      "INFO:     Exported //cfs2e.nist.gov/642/NIST_Projects/Additive Manufacturing and Rheology/OpenFOAM/simulations\\yieldingsweep\\LapRD\\nb1111\\steadyTimes.csv\n",
      "INFO:     Exported //cfs2e.nist.gov/642/NIST_Projects/Additive Manufacturing and Rheology/OpenFOAM/simulations\\yieldingsweep\\LapRD\\nb1111\\steadyPositions.csv\n",
      "DEBUG: //cfs2e.nist.gov/642/NIST_Projects/Additive Manufacturing and Rheology/OpenFOAM/simulations\\yieldingsweep\\LapRD\\nb1112\n",
      "INFO:     Exported //cfs2e.nist.gov/642/NIST_Projects/Additive Manufacturing and Rheology/OpenFOAM/simulations\\yieldingsweep\\LapRD\\nb1112\\sliceSummaries.csv\n",
      "INFO:     Exported //cfs2e.nist.gov/642/NIST_Projects/Additive Manufacturing and Rheology/OpenFOAM/simulations\\yieldingsweep\\LapRD\\nb1112\\steadyTimes.csv\n",
      "INFO:     Exported //cfs2e.nist.gov/642/NIST_Projects/Additive Manufacturing and Rheology/OpenFOAM/simulations\\yieldingsweep\\LapRD\\nb1112\\steadyPositions.csv\n",
      "DEBUG: //cfs2e.nist.gov/642/NIST_Projects/Additive Manufacturing and Rheology/OpenFOAM/simulations\\yieldingsweep\\LapRD\\nb1113\n",
      "INFO:     Exported //cfs2e.nist.gov/642/NIST_Projects/Additive Manufacturing and Rheology/OpenFOAM/simulations\\yieldingsweep\\LapRD\\nb1113\\sliceSummaries.csv\n",
      "INFO:     Exported //cfs2e.nist.gov/642/NIST_Projects/Additive Manufacturing and Rheology/OpenFOAM/simulations\\yieldingsweep\\LapRD\\nb1113\\steadyTimes.csv\n",
      "INFO:     Exported //cfs2e.nist.gov/642/NIST_Projects/Additive Manufacturing and Rheology/OpenFOAM/simulations\\yieldingsweep\\LapRD\\nb1113\\steadyPositions.csv\n",
      "DEBUG: //cfs2e.nist.gov/642/NIST_Projects/Additive Manufacturing and Rheology/OpenFOAM/simulations\\yieldingsweep\\LapRD\\nb1114\n",
      "INFO:     Exported //cfs2e.nist.gov/642/NIST_Projects/Additive Manufacturing and Rheology/OpenFOAM/simulations\\yieldingsweep\\LapRD\\nb1114\\sliceSummaries.csv\n",
      "INFO:     Exported //cfs2e.nist.gov/642/NIST_Projects/Additive Manufacturing and Rheology/OpenFOAM/simulations\\yieldingsweep\\LapRD\\nb1114\\steadyTimes.csv\n",
      "INFO:     Exported //cfs2e.nist.gov/642/NIST_Projects/Additive Manufacturing and Rheology/OpenFOAM/simulations\\yieldingsweep\\LapRD\\nb1114\\steadyPositions.csv\n",
      "DEBUG: //cfs2e.nist.gov/642/NIST_Projects/Additive Manufacturing and Rheology/OpenFOAM/simulations\\yieldingsweep\\LapRD\\nb1115\n",
      "INFO:     Exported //cfs2e.nist.gov/642/NIST_Projects/Additive Manufacturing and Rheology/OpenFOAM/simulations\\yieldingsweep\\LapRD\\nb1115\\sliceSummaries.csv\n",
      "INFO:     Exported //cfs2e.nist.gov/642/NIST_Projects/Additive Manufacturing and Rheology/OpenFOAM/simulations\\yieldingsweep\\LapRD\\nb1115\\steadyTimes.csv\n",
      "INFO:     Exported //cfs2e.nist.gov/642/NIST_Projects/Additive Manufacturing and Rheology/OpenFOAM/simulations\\yieldingsweep\\LapRD\\nb1115\\steadyPositions.csv\n",
      "DEBUG: //cfs2e.nist.gov/642/NIST_Projects/Additive Manufacturing and Rheology/OpenFOAM/simulations\\yieldingsweep\\LapRD\\nb1116\n",
      "INFO:     Exported //cfs2e.nist.gov/642/NIST_Projects/Additive Manufacturing and Rheology/OpenFOAM/simulations\\yieldingsweep\\LapRD\\nb1116\\sliceSummaries.csv\n",
      "INFO:     Exported //cfs2e.nist.gov/642/NIST_Projects/Additive Manufacturing and Rheology/OpenFOAM/simulations\\yieldingsweep\\LapRD\\nb1116\\steadyTimes.csv\n",
      "INFO:     Exported //cfs2e.nist.gov/642/NIST_Projects/Additive Manufacturing and Rheology/OpenFOAM/simulations\\yieldingsweep\\LapRD\\nb1116\\steadyPositions.csv\n",
      "DEBUG: //cfs2e.nist.gov/642/NIST_Projects/Additive Manufacturing and Rheology/OpenFOAM/simulations\\yieldingsweep\\LapRD\\nb1117\n",
      "INFO:     Exported //cfs2e.nist.gov/642/NIST_Projects/Additive Manufacturing and Rheology/OpenFOAM/simulations\\yieldingsweep\\LapRD\\nb1117\\sliceSummaries.csv\n",
      "INFO:     Exported //cfs2e.nist.gov/642/NIST_Projects/Additive Manufacturing and Rheology/OpenFOAM/simulations\\yieldingsweep\\LapRD\\nb1117\\steadyTimes.csv\n",
      "INFO:     Exported //cfs2e.nist.gov/642/NIST_Projects/Additive Manufacturing and Rheology/OpenFOAM/simulations\\yieldingsweep\\LapRD\\nb1117\\steadyPositions.csv\n",
      "DEBUG: //cfs2e.nist.gov/642/NIST_Projects/Additive Manufacturing and Rheology/OpenFOAM/simulations\\yieldingsweep\\LapRD\\nb1118\n",
      "INFO:     Exported //cfs2e.nist.gov/642/NIST_Projects/Additive Manufacturing and Rheology/OpenFOAM/simulations\\yieldingsweep\\LapRD\\nb1118\\sliceSummaries.csv\n",
      "INFO:     Exported //cfs2e.nist.gov/642/NIST_Projects/Additive Manufacturing and Rheology/OpenFOAM/simulations\\yieldingsweep\\LapRD\\nb1118\\steadyTimes.csv\n",
      "INFO:     Exported //cfs2e.nist.gov/642/NIST_Projects/Additive Manufacturing and Rheology/OpenFOAM/simulations\\yieldingsweep\\LapRD\\nb1118\\steadyPositions.csv\n",
      "DEBUG: //cfs2e.nist.gov/642/NIST_Projects/Additive Manufacturing and Rheology/OpenFOAM/simulations\\yieldingsweep\\LapRD\\nb1119\n",
      "INFO:     Exported //cfs2e.nist.gov/642/NIST_Projects/Additive Manufacturing and Rheology/OpenFOAM/simulations\\yieldingsweep\\LapRD\\nb1119\\sliceSummaries.csv\n",
      "INFO:     Exported //cfs2e.nist.gov/642/NIST_Projects/Additive Manufacturing and Rheology/OpenFOAM/simulations\\yieldingsweep\\LapRD\\nb1119\\steadyTimes.csv\n",
      "INFO:     Exported //cfs2e.nist.gov/642/NIST_Projects/Additive Manufacturing and Rheology/OpenFOAM/simulations\\yieldingsweep\\LapRD\\nb1119\\steadyPositions.csv\n",
      "DEBUG: //cfs2e.nist.gov/642/NIST_Projects/Additive Manufacturing and Rheology/OpenFOAM/simulations\\yieldingsweep\\LapRD\\nb1120\n",
      "INFO:     Exported //cfs2e.nist.gov/642/NIST_Projects/Additive Manufacturing and Rheology/OpenFOAM/simulations\\yieldingsweep\\LapRD\\nb1120\\sliceSummaries.csv\n",
      "INFO:     Exported //cfs2e.nist.gov/642/NIST_Projects/Additive Manufacturing and Rheology/OpenFOAM/simulations\\yieldingsweep\\LapRD\\nb1120\\steadyTimes.csv\n",
      "INFO:     Exported //cfs2e.nist.gov/642/NIST_Projects/Additive Manufacturing and Rheology/OpenFOAM/simulations\\yieldingsweep\\LapRD\\nb1120\\steadyPositions.csv\n",
      "DEBUG: //cfs2e.nist.gov/642/NIST_Projects/Additive Manufacturing and Rheology/OpenFOAM/simulations\\yieldingsweep\\LapRD\\nb1121\n",
      "INFO:     Exported //cfs2e.nist.gov/642/NIST_Projects/Additive Manufacturing and Rheology/OpenFOAM/simulations\\yieldingsweep\\LapRD\\nb1121\\sliceSummaries.csv\n",
      "INFO:     Exported //cfs2e.nist.gov/642/NIST_Projects/Additive Manufacturing and Rheology/OpenFOAM/simulations\\yieldingsweep\\LapRD\\nb1121\\steadyTimes.csv\n",
      "INFO:     Exported //cfs2e.nist.gov/642/NIST_Projects/Additive Manufacturing and Rheology/OpenFOAM/simulations\\yieldingsweep\\LapRD\\nb1121\\steadyPositions.csv\n",
      "DEBUG: //cfs2e.nist.gov/642/NIST_Projects/Additive Manufacturing and Rheology/OpenFOAM/simulations\\yieldingsweep\\LapRD\\nb1122\n",
      "INFO:     Exported //cfs2e.nist.gov/642/NIST_Projects/Additive Manufacturing and Rheology/OpenFOAM/simulations\\yieldingsweep\\LapRD\\nb1122\\sliceSummaries.csv\n",
      "INFO:     Exported //cfs2e.nist.gov/642/NIST_Projects/Additive Manufacturing and Rheology/OpenFOAM/simulations\\yieldingsweep\\LapRD\\nb1122\\steadyTimes.csv\n",
      "INFO:     Exported //cfs2e.nist.gov/642/NIST_Projects/Additive Manufacturing and Rheology/OpenFOAM/simulations\\yieldingsweep\\LapRD\\nb1122\\steadyPositions.csv\n",
      "DEBUG: //cfs2e.nist.gov/642/NIST_Projects/Additive Manufacturing and Rheology/OpenFOAM/simulations\\yieldingsweep\\LapRD\\nb1123\n",
      "INFO:     Exported //cfs2e.nist.gov/642/NIST_Projects/Additive Manufacturing and Rheology/OpenFOAM/simulations\\yieldingsweep\\LapRD\\nb1123\\sliceSummaries.csv\n",
      "INFO:     Exported //cfs2e.nist.gov/642/NIST_Projects/Additive Manufacturing and Rheology/OpenFOAM/simulations\\yieldingsweep\\LapRD\\nb1123\\steadyTimes.csv\n",
      "INFO:     Exported //cfs2e.nist.gov/642/NIST_Projects/Additive Manufacturing and Rheology/OpenFOAM/simulations\\yieldingsweep\\LapRD\\nb1123\\steadyPositions.csv\n",
      "DEBUG: //cfs2e.nist.gov/642/NIST_Projects/Additive Manufacturing and Rheology/OpenFOAM/simulations\\yieldingsweep\\LapRD\\nb1124\n",
      "INFO:     Exported //cfs2e.nist.gov/642/NIST_Projects/Additive Manufacturing and Rheology/OpenFOAM/simulations\\yieldingsweep\\LapRD\\nb1124\\sliceSummaries.csv\n",
      "INFO:     Exported //cfs2e.nist.gov/642/NIST_Projects/Additive Manufacturing and Rheology/OpenFOAM/simulations\\yieldingsweep\\LapRD\\nb1124\\steadyTimes.csv\n",
      "INFO:     Exported //cfs2e.nist.gov/642/NIST_Projects/Additive Manufacturing and Rheology/OpenFOAM/simulations\\yieldingsweep\\LapRD\\nb1124\\steadyPositions.csv\n",
      "DEBUG: //cfs2e.nist.gov/642/NIST_Projects/Additive Manufacturing and Rheology/OpenFOAM/simulations\\yieldingsweep\\LapRD\\nb1125\n",
      "INFO:     Exported //cfs2e.nist.gov/642/NIST_Projects/Additive Manufacturing and Rheology/OpenFOAM/simulations\\yieldingsweep\\LapRD\\nb1125\\sliceSummaries.csv\n",
      "INFO:     Exported //cfs2e.nist.gov/642/NIST_Projects/Additive Manufacturing and Rheology/OpenFOAM/simulations\\yieldingsweep\\LapRD\\nb1125\\steadyTimes.csv\n",
      "INFO:     Exported //cfs2e.nist.gov/642/NIST_Projects/Additive Manufacturing and Rheology/OpenFOAM/simulations\\yieldingsweep\\LapRD\\nb1125\\steadyPositions.csv\n",
      "DEBUG: //cfs2e.nist.gov/642/NIST_Projects/Additive Manufacturing and Rheology/OpenFOAM/simulations\\yieldingsweep\\LapRD\\nb1126\n",
      "INFO:     Exported //cfs2e.nist.gov/642/NIST_Projects/Additive Manufacturing and Rheology/OpenFOAM/simulations\\yieldingsweep\\LapRD\\nb1126\\sliceSummaries.csv\n",
      "INFO:     Exported //cfs2e.nist.gov/642/NIST_Projects/Additive Manufacturing and Rheology/OpenFOAM/simulations\\yieldingsweep\\LapRD\\nb1126\\steadyTimes.csv\n",
      "INFO:     Exported //cfs2e.nist.gov/642/NIST_Projects/Additive Manufacturing and Rheology/OpenFOAM/simulations\\yieldingsweep\\LapRD\\nb1126\\steadyPositions.csv\n",
      "DEBUG: //cfs2e.nist.gov/642/NIST_Projects/Additive Manufacturing and Rheology/OpenFOAM/simulations\\yieldingsweep\\LapRD\\nb1127\n",
      "INFO:     Exported //cfs2e.nist.gov/642/NIST_Projects/Additive Manufacturing and Rheology/OpenFOAM/simulations\\yieldingsweep\\LapRD\\nb1127\\sliceSummaries.csv\n",
      "INFO:     Exported //cfs2e.nist.gov/642/NIST_Projects/Additive Manufacturing and Rheology/OpenFOAM/simulations\\yieldingsweep\\LapRD\\nb1127\\steadyTimes.csv\n",
      "INFO:     Exported //cfs2e.nist.gov/642/NIST_Projects/Additive Manufacturing and Rheology/OpenFOAM/simulations\\yieldingsweep\\LapRD\\nb1127\\steadyPositions.csv\n",
      "DEBUG: //cfs2e.nist.gov/642/NIST_Projects/Additive Manufacturing and Rheology/OpenFOAM/simulations\\yieldingsweep\\LapRD\\nb1128\n",
      "INFO:     Exported //cfs2e.nist.gov/642/NIST_Projects/Additive Manufacturing and Rheology/OpenFOAM/simulations\\yieldingsweep\\LapRD\\nb1128\\sliceSummaries.csv\n",
      "INFO:     Exported //cfs2e.nist.gov/642/NIST_Projects/Additive Manufacturing and Rheology/OpenFOAM/simulations\\yieldingsweep\\LapRD\\nb1128\\steadyTimes.csv\n",
      "INFO:     Exported //cfs2e.nist.gov/642/NIST_Projects/Additive Manufacturing and Rheology/OpenFOAM/simulations\\yieldingsweep\\LapRD\\nb1128\\steadyPositions.csv\n",
      "DEBUG: //cfs2e.nist.gov/642/NIST_Projects/Additive Manufacturing and Rheology/OpenFOAM/simulations\\yieldingsweep\\LapRD\\nb1129\n",
      "INFO:     Exported //cfs2e.nist.gov/642/NIST_Projects/Additive Manufacturing and Rheology/OpenFOAM/simulations\\yieldingsweep\\LapRD\\nb1129\\sliceSummaries.csv\n",
      "INFO:     Exported //cfs2e.nist.gov/642/NIST_Projects/Additive Manufacturing and Rheology/OpenFOAM/simulations\\yieldingsweep\\LapRD\\nb1129\\steadyTimes.csv\n",
      "INFO:     Exported //cfs2e.nist.gov/642/NIST_Projects/Additive Manufacturing and Rheology/OpenFOAM/simulations\\yieldingsweep\\LapRD\\nb1129\\steadyPositions.csv\n",
      "DEBUG: //cfs2e.nist.gov/642/NIST_Projects/Additive Manufacturing and Rheology/OpenFOAM/simulations\\yieldingsweep\\LapRD\\nb1130\n",
      "INFO:     Exported //cfs2e.nist.gov/642/NIST_Projects/Additive Manufacturing and Rheology/OpenFOAM/simulations\\yieldingsweep\\LapRD\\nb1130\\sliceSummaries.csv\n",
      "INFO:     Exported //cfs2e.nist.gov/642/NIST_Projects/Additive Manufacturing and Rheology/OpenFOAM/simulations\\yieldingsweep\\LapRD\\nb1130\\steadyTimes.csv\n",
      "INFO:     Exported //cfs2e.nist.gov/642/NIST_Projects/Additive Manufacturing and Rheology/OpenFOAM/simulations\\yieldingsweep\\LapRD\\nb1130\\steadyPositions.csv\n",
      "DEBUG: //cfs2e.nist.gov/642/NIST_Projects/Additive Manufacturing and Rheology/OpenFOAM/simulations\\yieldingsweep\\LapRD\\nb1131\n",
      "INFO:     Exported //cfs2e.nist.gov/642/NIST_Projects/Additive Manufacturing and Rheology/OpenFOAM/simulations\\yieldingsweep\\LapRD\\nb1131\\sliceSummaries.csv\n",
      "INFO:     Exported //cfs2e.nist.gov/642/NIST_Projects/Additive Manufacturing and Rheology/OpenFOAM/simulations\\yieldingsweep\\LapRD\\nb1131\\steadyTimes.csv\n",
      "INFO:     Exported //cfs2e.nist.gov/642/NIST_Projects/Additive Manufacturing and Rheology/OpenFOAM/simulations\\yieldingsweep\\LapRD\\nb1131\\steadyPositions.csv\n",
      "DEBUG: //cfs2e.nist.gov/642/NIST_Projects/Additive Manufacturing and Rheology/OpenFOAM/simulations\\yieldingsweep\\LapRD\\nb1132\n",
      "INFO:     Exported //cfs2e.nist.gov/642/NIST_Projects/Additive Manufacturing and Rheology/OpenFOAM/simulations\\yieldingsweep\\LapRD\\nb1132\\sliceSummaries.csv\n",
      "INFO:     Exported //cfs2e.nist.gov/642/NIST_Projects/Additive Manufacturing and Rheology/OpenFOAM/simulations\\yieldingsweep\\LapRD\\nb1132\\steadyTimes.csv\n",
      "INFO:     Exported //cfs2e.nist.gov/642/NIST_Projects/Additive Manufacturing and Rheology/OpenFOAM/simulations\\yieldingsweep\\LapRD\\nb1132\\steadyPositions.csv\n",
      "DEBUG: //cfs2e.nist.gov/642/NIST_Projects/Additive Manufacturing and Rheology/OpenFOAM/simulations\\yieldingsweep\\LapRD\\nb1133\n",
      "INFO:     Exported //cfs2e.nist.gov/642/NIST_Projects/Additive Manufacturing and Rheology/OpenFOAM/simulations\\yieldingsweep\\LapRD\\nb1133\\sliceSummaries.csv\n",
      "INFO:     Exported //cfs2e.nist.gov/642/NIST_Projects/Additive Manufacturing and Rheology/OpenFOAM/simulations\\yieldingsweep\\LapRD\\nb1133\\steadyTimes.csv\n",
      "INFO:     Exported //cfs2e.nist.gov/642/NIST_Projects/Additive Manufacturing and Rheology/OpenFOAM/simulations\\yieldingsweep\\LapRD\\nb1133\\steadyPositions.csv\n",
      "DEBUG: //cfs2e.nist.gov/642/NIST_Projects/Additive Manufacturing and Rheology/OpenFOAM/simulations\\yieldingsweep\\LapRD\\nb1134\n",
      "INFO:     Exported //cfs2e.nist.gov/642/NIST_Projects/Additive Manufacturing and Rheology/OpenFOAM/simulations\\yieldingsweep\\LapRD\\nb1134\\sliceSummaries.csv\n",
      "INFO:     Exported //cfs2e.nist.gov/642/NIST_Projects/Additive Manufacturing and Rheology/OpenFOAM/simulations\\yieldingsweep\\LapRD\\nb1134\\steadyTimes.csv\n",
      "INFO:     Exported //cfs2e.nist.gov/642/NIST_Projects/Additive Manufacturing and Rheology/OpenFOAM/simulations\\yieldingsweep\\LapRD\\nb1134\\steadyPositions.csv\n",
      "DEBUG: //cfs2e.nist.gov/642/NIST_Projects/Additive Manufacturing and Rheology/OpenFOAM/simulations\\yieldingsweep\\LapRD\\nb1135\n",
      "INFO:     Exported //cfs2e.nist.gov/642/NIST_Projects/Additive Manufacturing and Rheology/OpenFOAM/simulations\\yieldingsweep\\LapRD\\nb1135\\sliceSummaries.csv\n",
      "INFO:     Exported //cfs2e.nist.gov/642/NIST_Projects/Additive Manufacturing and Rheology/OpenFOAM/simulations\\yieldingsweep\\LapRD\\nb1135\\steadyTimes.csv\n",
      "INFO:     Exported //cfs2e.nist.gov/642/NIST_Projects/Additive Manufacturing and Rheology/OpenFOAM/simulations\\yieldingsweep\\LapRD\\nb1135\\steadyPositions.csv\n"
     ]
    }
   ],
   "source": [
    "for topfolder in [EFOLDERS[0]]:\n",
    "    for folder in fp.caseFolders(topfolder):\n",
    "        intm.sumAndSteady(folder, True)"
   ]
  },
  {
   "cell_type": "markdown",
   "metadata": {},
   "source": [
    "# Plots"
   ]
  },
  {
   "cell_type": "markdown",
   "metadata": {},
   "source": [
    "`('nuink', 'tau0ink', 'kink', 'nink', 'nusup', 'tau0sup', 'ksup', 'nsup', 'sigma')`"
   ]
  },
  {
   "cell_type": "code",
   "execution_count": 18,
   "metadata": {},
   "outputs": [
    {
     "name": "stdout",
     "output_type": "stream",
     "text": [
      "Exported  C:/Users/lmf1/OneDriveNIST/NIST/data/openfoam/summaries\\yieldingsweep\\plots\\LapRD\\names_LapRD_xvar_ink_yvar_sup\n"
     ]
    },
    {
     "data": {
      "image/png": "[encoded data removed]",
      "text/plain": [
       "<Figure size 468x468 with 1 Axes>"
      ]
     },
     "metadata": {
      "needs_background": "light"
     },
     "output_type": "display_data"
    }
   ],
   "source": [
    "txtPlots0(EFOLDERS[0], EXPORTFOLDER, xvar='ink', yvar='sup', overwrite=False)"
   ]
  },
  {
   "cell_type": "code",
   "execution_count": 8,
   "metadata": {
    "scrolled": true
   },
   "outputs": [
    {
     "name": "stdout",
     "output_type": "stream",
     "text": [
      "INFO: Exported C:/Users/lmf1/OneDriveNIST/NIST/data/openfoam/summaries\\yieldingsweep\\plots\\LapRD\\simrate_LapRD_xvar_ink_yvar_sup\n",
      "INFO: Exported C:/Users/lmf1/OneDriveNIST/NIST/data/openfoam/summaries\\yieldingsweep\\plots\\LapRD\\runtime_LapRD_xvar_ink_yvar_sup\n"
     ]
    },
    {
     "data": {
      "image/png": "[encoded data removed]",
      "text/plain": [
       "<Figure size 468x468 with 1 Axes>"
      ]
     },
     "metadata": {
      "needs_background": "light"
     },
     "output_type": "display_data"
    }
   ],
   "source": [
    "for i, TOPFOLDER in enumerate([EFOLDERS[0]]):\n",
    "    xvar = 'ink'\n",
    "    yvar = 'sup'\n",
    "    txtPlots0(TOPFOLDER, EXPORTFOLDER, xvar=xvar, yvar=yvar, overwrite=False)\n",
    "    timePlots(TOPFOLDER, EXPORTFOLDER, xvar=xvar, yvar=yvar, overwrite=True)\n",
    "    runtimePlots0(TOPFOLDER, EXPORTFOLDER, xvar=xvar, yvar=yvar, overwrite=True)\n",
    "    inklist = ['LapRD_2.25','LapRD_2.50','LapRD_2.75','LapRD_3.00','LapRD_3.50','LapRD_4.00']\n",
    "    suplist = inklist\n",
    "        \n",
    "    xposition = 5\n",
    "    for t in [2.5]:\n",
    "        for s in [['arean', 0.7, 1.8], ['vertdispn', 0, 1], ['aspectratio', 0.6, 1.7], ['speeddecay', 0.5, 1.0]]:\n",
    "            metricPlots(TOPFOLDER, EXPORTFOLDER, t, xposition, s[0], xvar=xvar, yvar=yvar,\\\n",
    "                        inklist=inklist, suplist=suplist, adjustBounds=False, split=True, overwrite=False, tmin=s[1], tmax=s[2])\n",
    "            \n",
    "    for t in [1, 2.5]:\n",
    "        for ta in ['y_umag', 'y_viscy', 'x_viscx', 'y_shearratey']:\n",
    "            picPlots0(TOPFOLDER, EXPORTFOLDER, t, 0, tag=ta, xvar=xvar, yvar=yvar, \\\n",
    "                      inklist=inklist, suplist=suplist, adjustBounds=False, overwrite=False)\n",
    "    \n",
    "    for t in [2.5]:\n",
    "        xposition = 5\n",
    "        XSPlots0(TOPFOLDER, EXPORTFOLDER, t, xposition, [0], xvar=xvar, yvar=yvar,\\\n",
    "                 inklist=inklist, suplist=suplist, adjustBounds=False, overwrite=False)\n",
    "    \n",
    "#     for sigma in [0]:\n",
    "#         imsize=1.3\n",
    "#         steadyPlots(TOPFOLDER, imsize, EXPORTFOLDER, [sigma], xvar=xvar, yvar=yvar,\\\n",
    "#                     inklist=inklist, suplist=suplist, adjustBounds=False, overwrite=False)"
   ]
  },
  {
   "cell_type": "code",
   "execution_count": null,
   "metadata": {},
   "outputs": [],
   "source": [
    "import pandas as pd\n",
    "metrics = []\n",
    "for TOPFOLDER in EFOLDERS:\n",
    "    for f in os.listdir(TOPFOLDER):\n",
    "        try:\n",
    "            m = metricVals(os.path.join(TOPFOLDER, f), 2.5, 5, ['arean', 'vertdispn', 'aspectratio', 'speeddecay'])\n",
    "        except:\n",
    "            pass\n",
    "        else:\n",
    "            metrics.append(m)\n",
    "df = pd.DataFrame(metrics)\n",
    "df"
   ]
  },
  {
   "cell_type": "code",
   "execution_count": null,
   "metadata": {},
   "outputs": [],
   "source": [
    "fig, axs = plt.subplots(nrows=3, ncols=3,sharex='col', sharey='row',figsize=(6.5,6.5))\n",
    "cmap = plt.get_cmap('tab20c')\n",
    "\n",
    "for t in range(len(EFOLDERS)):\n",
    "    TOPFOLDER = EFOLDERS[t]\n",
    "    metrics = []\n",
    "    for f in os.listdir(TOPFOLDER):\n",
    "        try:\n",
    "            m = metricVals(os.path.join(TOPFOLDER, f), 2.5, 5, ['arean', 'vertdispn', 'aspectratio', 'speeddecay'])\n",
    "        except:\n",
    "            pass\n",
    "        else:\n",
    "            metrics.append(m)\n",
    "    df = pd.DataFrame(metrics)\n",
    "\n",
    "    df2 = df[df['arean']<3]\n",
    "    df2 = df2[df2['vertdispn']>-0.1]\n",
    "    df2 = df2[df2['vertdispn']<1.2]\n",
    "    df2 = df2[df2['speeddecay']<1.1]\n",
    "\n",
    "    slist = df.keys()\n",
    "    for i in range(4):\n",
    "        for j in range(i):\n",
    "            color = cmap(t/3)\n",
    "            if j==0 and i==1:\n",
    "                axs[j,i-1].scatter(df2[slist[i]], df2[slist[j]], s=5, color=color, label=os.path.basename(TOPFOLDER))\n",
    "            else:\n",
    "                axs[j,i-1].scatter(df2[slist[i]], df2[slist[j]], s=5, color=color)\n",
    "            axs[j,i-1].set_xlabel(slist[i])\n",
    "            axs[j,i-1].set_ylabel(slist[j])\n",
    "axs[0,0].legend()\n"
   ]
  }
 ],
 "metadata": {
  "kernelspec": {
   "display_name": "Python 3",
   "language": "python",
   "name": "python3"
  },
  "language_info": {
   "codemirror_mode": {
    "name": "ipython",
    "version": 3
   },
   "file_extension": ".py",
   "mimetype": "text/x-python",
   "name": "python",
   "nbconvert_exporter": "python",
   "pygments_lexer": "ipython3",
   "version": "3.7.7"
  }
 },
 "nbformat": 4,
 "nbformat_minor": 4
}
