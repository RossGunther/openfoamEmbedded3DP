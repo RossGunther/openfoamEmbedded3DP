{
 "cells": [
  {
   "cell_type": "code",
   "execution_count": 2,
   "metadata": {},
   "outputs": [],
   "source": [
    "%load_ext autoreload\n",
    "%autoreload 2"
   ]
  },
  {
   "cell_type": "code",
   "execution_count": 3,
   "metadata": {},
   "outputs": [],
   "source": [
    "import os\n",
    "import glob\n",
    "from IPython.display import Image\n",
    "import imageio\n",
    "import folderparser as fp\n",
    "import subprocess, json\n",
    "import re\n",
    "import time"
   ]
  },
  {
   "cell_type": "code",
   "execution_count": 5,
   "metadata": {},
   "outputs": [],
   "source": [
    "def get_length(filename):\n",
    "    rl = [\"ffprobe\", \"-v\", \"error\", \"-show_entries\", \"format=duration\", \"-of\", \"default=noprint_wrappers=1:nokey=1\", filename]\n",
    "    result = subprocess.run(rl, stdout=subprocess.PIPE, stderr=subprocess.STDOUT)\n",
    "    duration =float(result.stdout)\n",
    "    return duration\n",
    "\n",
    "def get_time(filename):\n",
    "    return float(re.split('t|_', os.path.basename(filename))[1])/10\n",
    "\n",
    "def saveVid(folder, s:str, p:str):\n",
    "    zfiles = glob.glob(os.path.join(folder,'images', '*'+s+'_'+p+'.png'))\n",
    "    if len(zfiles)>0:\n",
    "        fn = os.path.join(folder,'images',  s+'_'+p+'.mp4')\n",
    "        if os.path.exists(fn):\n",
    "            #print(fn)\n",
    "            fnlength = get_length(fn)\n",
    "            times = [get_time(f) for f in zfiles]\n",
    "            #print(fn, fnlength, max(times))\n",
    "            if fnlength < max(times)-0.1:\n",
    "                print('remove', fn)\n",
    "                os.remove(fn)\n",
    "        if not os.path.exists(fn):\n",
    "            print('write', fn)\n",
    "            mp4writer = imageio.get_writer(fn, fps=10)\n",
    "            for filename in zfiles:\n",
    "                image = imageio.imread(filename)\n",
    "                mp4writer.append_data(image)\n",
    "            mp4writer.close()"
   ]
  },
  {
   "cell_type": "code",
   "execution_count": null,
   "metadata": {
    "collapsed": true,
    "jupyter": {
     "outputs_hidden": true
    }
   },
   "outputs": [
    {
     "name": "stdout",
     "output_type": "stream",
     "text": [
      "write \\\\cfs2e.nist.gov\\642\\NIST_Projects\\Additive Manufacturing and Rheology\\OpenFOAM\\simulations\\viscositysweep\\newtnewtsweep\\nb37\\images\\a_stre.mp4\n",
      "remove \\\\cfs2e.nist.gov\\642\\NIST_Projects\\Additive Manufacturing and Rheology\\OpenFOAM\\simulations\\viscositysweep\\newtnewtsweep\\nb48\\images\\a_umag.mp4\n",
      "write \\\\cfs2e.nist.gov\\642\\NIST_Projects\\Additive Manufacturing and Rheology\\OpenFOAM\\simulations\\viscositysweep\\newtnewtsweep\\nb48\\images\\a_umag.mp4\n",
      "write \\\\cfs2e.nist.gov\\642\\NIST_Projects\\Additive Manufacturing and Rheology\\OpenFOAM\\simulations\\viscositysweep\\newtnewtsweep\\nb483\\images\\y_umag.mp4\n",
      "remove \\\\cfs2e.nist.gov\\642\\NIST_Projects\\Additive Manufacturing and Rheology\\OpenFOAM\\simulations\\viscositysweep\\newtnewtsweep\\nb484\\images\\y_umag.mp4\n",
      "write \\\\cfs2e.nist.gov\\642\\NIST_Projects\\Additive Manufacturing and Rheology\\OpenFOAM\\simulations\\viscositysweep\\newtnewtsweep\\nb484\\images\\y_umag.mp4\n",
      "remove \\\\cfs2e.nist.gov\\642\\NIST_Projects\\Additive Manufacturing and Rheology\\OpenFOAM\\simulations\\viscositysweep\\newtnewtsweep\\nb485\\images\\y_umag.mp4\n",
      "write \\\\cfs2e.nist.gov\\642\\NIST_Projects\\Additive Manufacturing and Rheology\\OpenFOAM\\simulations\\viscositysweep\\newtnewtsweep\\nb485\\images\\y_umag.mp4\n",
      "remove \\\\cfs2e.nist.gov\\642\\NIST_Projects\\Additive Manufacturing and Rheology\\OpenFOAM\\simulations\\viscositysweep\\newtnewtsweep\\nb486\\images\\y_umag.mp4\n",
      "write \\\\cfs2e.nist.gov\\642\\NIST_Projects\\Additive Manufacturing and Rheology\\OpenFOAM\\simulations\\viscositysweep\\newtnewtsweep\\nb486\\images\\y_umag.mp4\n",
      "remove \\\\cfs2e.nist.gov\\642\\NIST_Projects\\Additive Manufacturing and Rheology\\OpenFOAM\\simulations\\viscositysweep\\newtnewtsweep\\nb487\\images\\y_umag.mp4\n",
      "write \\\\cfs2e.nist.gov\\642\\NIST_Projects\\Additive Manufacturing and Rheology\\OpenFOAM\\simulations\\viscositysweep\\newtnewtsweep\\nb487\\images\\y_umag.mp4\n",
      "remove \\\\cfs2e.nist.gov\\642\\NIST_Projects\\Additive Manufacturing and Rheology\\OpenFOAM\\simulations\\viscositysweep\\newtnewtsweep\\nb488\\images\\y_umag.mp4\n",
      "write \\\\cfs2e.nist.gov\\642\\NIST_Projects\\Additive Manufacturing and Rheology\\OpenFOAM\\simulations\\viscositysweep\\newtnewtsweep\\nb488\\images\\y_umag.mp4\n",
      "remove \\\\cfs2e.nist.gov\\642\\NIST_Projects\\Additive Manufacturing and Rheology\\OpenFOAM\\simulations\\viscositysweep\\newtnewtsweep\\nb489\\images\\y_umag.mp4\n",
      "write \\\\cfs2e.nist.gov\\642\\NIST_Projects\\Additive Manufacturing and Rheology\\OpenFOAM\\simulations\\viscositysweep\\newtnewtsweep\\nb489\\images\\y_umag.mp4\n",
      "remove \\\\cfs2e.nist.gov\\642\\NIST_Projects\\Additive Manufacturing and Rheology\\OpenFOAM\\simulations\\viscositysweep\\newtnewtsweep\\nb490\\images\\y_umag.mp4\n",
      "write \\\\cfs2e.nist.gov\\642\\NIST_Projects\\Additive Manufacturing and Rheology\\OpenFOAM\\simulations\\viscositysweep\\newtnewtsweep\\nb490\\images\\y_umag.mp4\n",
      "remove \\\\cfs2e.nist.gov\\642\\NIST_Projects\\Additive Manufacturing and Rheology\\OpenFOAM\\simulations\\viscositysweep\\newtnewtsweep\\nb519\\images\\y_umag.mp4\n",
      "write \\\\cfs2e.nist.gov\\642\\NIST_Projects\\Additive Manufacturing and Rheology\\OpenFOAM\\simulations\\viscositysweep\\newtnewtsweep\\nb519\\images\\y_umag.mp4\n",
      "remove \\\\cfs2e.nist.gov\\642\\NIST_Projects\\Additive Manufacturing and Rheology\\OpenFOAM\\simulations\\viscositysweep\\newtnewtsweep\\nb520\\images\\y_umag.mp4\n",
      "write \\\\cfs2e.nist.gov\\642\\NIST_Projects\\Additive Manufacturing and Rheology\\OpenFOAM\\simulations\\viscositysweep\\newtnewtsweep\\nb520\\images\\y_umag.mp4\n",
      "write \\\\cfs2e.nist.gov\\642\\NIST_Projects\\Additive Manufacturing and Rheology\\OpenFOAM\\simulations\\viscositysweep\\HBnewtsweep\\nb247\\images\\a_stre.mp4\n",
      "write \\\\cfs2e.nist.gov\\642\\NIST_Projects\\Additive Manufacturing and Rheology\\OpenFOAM\\simulations\\viscositysweep\\HBnewtsweep\\nb94\\images\\y_umag.mp4\n",
      "remove \\\\cfs2e.nist.gov\\642\\NIST_Projects\\Additive Manufacturing and Rheology\\OpenFOAM\\simulations\\viscositysweep\\newtHBsweep\\nb196\\images\\y_umag.mp4\n",
      "write \\\\cfs2e.nist.gov\\642\\NIST_Projects\\Additive Manufacturing and Rheology\\OpenFOAM\\simulations\\viscositysweep\\newtHBsweep\\nb196\\images\\y_umag.mp4\n",
      "write \\\\cfs2e.nist.gov\\642\\NIST_Projects\\Additive Manufacturing and Rheology\\OpenFOAM\\simulations\\viscositysweep\\newtHBsweep\\nb349\\images\\y_umag.mp4\n",
      "remove \\\\cfs2e.nist.gov\\642\\NIST_Projects\\Additive Manufacturing and Rheology\\OpenFOAM\\simulations\\viscositysweep\\HBHBsweep\\nb355\\images\\y_umag.mp4\n",
      "write \\\\cfs2e.nist.gov\\642\\NIST_Projects\\Additive Manufacturing and Rheology\\OpenFOAM\\simulations\\viscositysweep\\HBHBsweep\\nb355\\images\\y_umag.mp4\n",
      "waiting 6 hrs for more files...\n"
     ]
    }
   ],
   "source": [
    "serverfolder = r'\\\\cfs2e.nist.gov\\642\\NIST_Projects\\Additive Manufacturing and Rheology\\OpenFOAM\\simulations\\viscositysweep'\n",
    "topfolders = [os.path.join(serverfolder,s) for s in ['newtnewtsweep', 'HBnewtsweep', 'newtHBsweep', 'HBHBsweep']]\n",
    "while True:\n",
    "    for topfolder in topfolders:\n",
    "        for folder in fp.caseFolders(topfolder):\n",
    "            for p in ['stre', 'umag', 'mesh', 'vecs']:\n",
    "                for s in ['z', 'y', 'a', 'b']:\n",
    "                    try:\n",
    "                        saveVid(folder, s, p)      \n",
    "                    except:\n",
    "                        pass\n",
    "    print('waiting 6 hrs for more files...')\n",
    "    fp.printCurrentTime()\n",
    "    time.sleep(60*60*6)"
   ]
  },
  {
   "cell_type": "code",
   "execution_count": null,
   "metadata": {},
   "outputs": [
    {
     "name": "stdout",
     "output_type": "stream",
     "text": [
      "remove \\\\cfs2e.nist.gov\\642\\NIST_Projects\\Additive Manufacturing and Rheology\\OpenFOAM\\simulations\\yieldingsweep\\HBHByielded\\k\\nb1013\\images\\a_stre.mp4\n",
      "write \\\\cfs2e.nist.gov\\642\\NIST_Projects\\Additive Manufacturing and Rheology\\OpenFOAM\\simulations\\yieldingsweep\\HBHByielded\\k\\nb1013\\images\\a_stre.mp4\n",
      "remove \\\\cfs2e.nist.gov\\642\\NIST_Projects\\Additive Manufacturing and Rheology\\OpenFOAM\\simulations\\yieldingsweep\\HBHByielded\\k\\nb1019\\images\\y_umag.mp4\n",
      "write \\\\cfs2e.nist.gov\\642\\NIST_Projects\\Additive Manufacturing and Rheology\\OpenFOAM\\simulations\\yieldingsweep\\HBHByielded\\k\\nb1019\\images\\y_umag.mp4\n",
      "remove \\\\cfs2e.nist.gov\\642\\NIST_Projects\\Additive Manufacturing and Rheology\\OpenFOAM\\simulations\\yieldingsweep\\HBHByielded\\k\\nb1020\\images\\a_stre.mp4\n",
      "write \\\\cfs2e.nist.gov\\642\\NIST_Projects\\Additive Manufacturing and Rheology\\OpenFOAM\\simulations\\yieldingsweep\\HBHByielded\\k\\nb1020\\images\\a_stre.mp4\n",
      "remove \\\\cfs2e.nist.gov\\642\\NIST_Projects\\Additive Manufacturing and Rheology\\OpenFOAM\\simulations\\yieldingsweep\\HBHByielded\\k\\nb1021\\images\\a_stre.mp4\n",
      "write \\\\cfs2e.nist.gov\\642\\NIST_Projects\\Additive Manufacturing and Rheology\\OpenFOAM\\simulations\\yieldingsweep\\HBHByielded\\k\\nb1021\\images\\a_stre.mp4\n",
      "remove \\\\cfs2e.nist.gov\\642\\NIST_Projects\\Additive Manufacturing and Rheology\\OpenFOAM\\simulations\\yieldingsweep\\HBHByielded\\k\\nb1026\\images\\a_stre.mp4\n",
      "write \\\\cfs2e.nist.gov\\642\\NIST_Projects\\Additive Manufacturing and Rheology\\OpenFOAM\\simulations\\yieldingsweep\\HBHByielded\\k\\nb1026\\images\\a_stre.mp4\n",
      "remove \\\\cfs2e.nist.gov\\642\\NIST_Projects\\Additive Manufacturing and Rheology\\OpenFOAM\\simulations\\yieldingsweep\\HBHByielded\\k\\nb1029\\images\\a_stre.mp4\n",
      "write \\\\cfs2e.nist.gov\\642\\NIST_Projects\\Additive Manufacturing and Rheology\\OpenFOAM\\simulations\\yieldingsweep\\HBHByielded\\k\\nb1029\\images\\a_stre.mp4\n",
      "remove \\\\cfs2e.nist.gov\\642\\NIST_Projects\\Additive Manufacturing and Rheology\\OpenFOAM\\simulations\\yieldingsweep\\HBHByielded\\k\\nb1030\\images\\a_stre.mp4\n",
      "write \\\\cfs2e.nist.gov\\642\\NIST_Projects\\Additive Manufacturing and Rheology\\OpenFOAM\\simulations\\yieldingsweep\\HBHByielded\\k\\nb1030\\images\\a_stre.mp4\n",
      "remove \\\\cfs2e.nist.gov\\642\\NIST_Projects\\Additive Manufacturing and Rheology\\OpenFOAM\\simulations\\yieldingsweep\\HBHByielded\\n\\nb1034\\images\\y_umag.mp4\n",
      "write \\\\cfs2e.nist.gov\\642\\NIST_Projects\\Additive Manufacturing and Rheology\\OpenFOAM\\simulations\\yieldingsweep\\HBHByielded\\n\\nb1034\\images\\y_umag.mp4\n",
      "write \\\\cfs2e.nist.gov\\642\\NIST_Projects\\Additive Manufacturing and Rheology\\OpenFOAM\\simulations\\yieldingsweep\\HBHByielded\\n\\nb1035\\images\\y_umag.mp4\n",
      "remove \\\\cfs2e.nist.gov\\642\\NIST_Projects\\Additive Manufacturing and Rheology\\OpenFOAM\\simulations\\yieldingsweep\\HBHByielded\\n\\nb1036\\images\\y_umag.mp4\n",
      "write \\\\cfs2e.nist.gov\\642\\NIST_Projects\\Additive Manufacturing and Rheology\\OpenFOAM\\simulations\\yieldingsweep\\HBHByielded\\n\\nb1036\\images\\y_umag.mp4\n",
      "write \\\\cfs2e.nist.gov\\642\\NIST_Projects\\Additive Manufacturing and Rheology\\OpenFOAM\\simulations\\yieldingsweep\\HBHByielded\\n\\nb1037\\images\\y_umag.mp4\n",
      "write \\\\cfs2e.nist.gov\\642\\NIST_Projects\\Additive Manufacturing and Rheology\\OpenFOAM\\simulations\\yieldingsweep\\HBHByielded\\n\\nb1039\\images\\y_umag.mp4\n",
      "remove \\\\cfs2e.nist.gov\\642\\NIST_Projects\\Additive Manufacturing and Rheology\\OpenFOAM\\simulations\\yieldingsweep\\HBHByielded\\n\\nb1040\\images\\y_umag.mp4\n",
      "write \\\\cfs2e.nist.gov\\642\\NIST_Projects\\Additive Manufacturing and Rheology\\OpenFOAM\\simulations\\yieldingsweep\\HBHByielded\\n\\nb1040\\images\\y_umag.mp4\n",
      "write \\\\cfs2e.nist.gov\\642\\NIST_Projects\\Additive Manufacturing and Rheology\\OpenFOAM\\simulations\\yieldingsweep\\HBHByielded\\n\\nb1042\\images\\y_umag.mp4\n",
      "write \\\\cfs2e.nist.gov\\642\\NIST_Projects\\Additive Manufacturing and Rheology\\OpenFOAM\\simulations\\yieldingsweep\\HBHByielded\\n\\nb1043\\images\\y_umag.mp4\n",
      "write \\\\cfs2e.nist.gov\\642\\NIST_Projects\\Additive Manufacturing and Rheology\\OpenFOAM\\simulations\\yieldingsweep\\HBHByielded\\n\\nb1044\\images\\y_umag.mp4\n",
      "write \\\\cfs2e.nist.gov\\642\\NIST_Projects\\Additive Manufacturing and Rheology\\OpenFOAM\\simulations\\yieldingsweep\\HBHByielded\\n\\nb1045\\images\\y_umag.mp4\n",
      "write \\\\cfs2e.nist.gov\\642\\NIST_Projects\\Additive Manufacturing and Rheology\\OpenFOAM\\simulations\\yieldingsweep\\HBHByielded\\n\\nb1046\\images\\y_umag.mp4\n",
      "remove \\\\cfs2e.nist.gov\\642\\NIST_Projects\\Additive Manufacturing and Rheology\\OpenFOAM\\simulations\\yieldingsweep\\HBHByielded\\n\\nb1047\\images\\y_umag.mp4\n",
      "write \\\\cfs2e.nist.gov\\642\\NIST_Projects\\Additive Manufacturing and Rheology\\OpenFOAM\\simulations\\yieldingsweep\\HBHByielded\\n\\nb1047\\images\\y_umag.mp4\n",
      "write \\\\cfs2e.nist.gov\\642\\NIST_Projects\\Additive Manufacturing and Rheology\\OpenFOAM\\simulations\\yieldingsweep\\HBHByielded\\n\\nb1048\\images\\y_umag.mp4\n",
      "write \\\\cfs2e.nist.gov\\642\\NIST_Projects\\Additive Manufacturing and Rheology\\OpenFOAM\\simulations\\yieldingsweep\\HBHByielded\\n\\nb1049\\images\\y_umag.mp4\n",
      "remove \\\\cfs2e.nist.gov\\642\\NIST_Projects\\Additive Manufacturing and Rheology\\OpenFOAM\\simulations\\yieldingsweep\\HBHByielded\\tau0\\nb1050\\images\\y_umag.mp4\n",
      "write \\\\cfs2e.nist.gov\\642\\NIST_Projects\\Additive Manufacturing and Rheology\\OpenFOAM\\simulations\\yieldingsweep\\HBHByielded\\tau0\\nb1050\\images\\y_umag.mp4\n",
      "remove \\\\cfs2e.nist.gov\\642\\NIST_Projects\\Additive Manufacturing and Rheology\\OpenFOAM\\simulations\\yieldingsweep\\HBHByielded\\tau0\\nb1052\\images\\y_umag.mp4\n",
      "write \\\\cfs2e.nist.gov\\642\\NIST_Projects\\Additive Manufacturing and Rheology\\OpenFOAM\\simulations\\yieldingsweep\\HBHByielded\\tau0\\nb1052\\images\\y_umag.mp4\n",
      "remove \\\\cfs2e.nist.gov\\642\\NIST_Projects\\Additive Manufacturing and Rheology\\OpenFOAM\\simulations\\yieldingsweep\\HBHByielded\\tau0\\nb1054\\images\\y_umag.mp4\n",
      "write \\\\cfs2e.nist.gov\\642\\NIST_Projects\\Additive Manufacturing and Rheology\\OpenFOAM\\simulations\\yieldingsweep\\HBHByielded\\tau0\\nb1054\\images\\y_umag.mp4\n",
      "remove \\\\cfs2e.nist.gov\\642\\NIST_Projects\\Additive Manufacturing and Rheology\\OpenFOAM\\simulations\\yieldingsweep\\HBHByielded\\tau0\\nb1059\\images\\a_stre.mp4\n",
      "write \\\\cfs2e.nist.gov\\642\\NIST_Projects\\Additive Manufacturing and Rheology\\OpenFOAM\\simulations\\yieldingsweep\\HBHByielded\\tau0\\nb1059\\images\\a_stre.mp4\n",
      "remove \\\\cfs2e.nist.gov\\642\\NIST_Projects\\Additive Manufacturing and Rheology\\OpenFOAM\\simulations\\yieldingsweep\\HBHByielded\\tau0\\nb1066\\images\\y_umag.mp4\n",
      "write \\\\cfs2e.nist.gov\\642\\NIST_Projects\\Additive Manufacturing and Rheology\\OpenFOAM\\simulations\\yieldingsweep\\HBHByielded\\tau0\\nb1066\\images\\y_umag.mp4\n",
      "remove \\\\cfs2e.nist.gov\\642\\NIST_Projects\\Additive Manufacturing and Rheology\\OpenFOAM\\simulations\\yieldingsweep\\HBHByielded\\tau0\\nb1069\\images\\a_stre.mp4\n",
      "write \\\\cfs2e.nist.gov\\642\\NIST_Projects\\Additive Manufacturing and Rheology\\OpenFOAM\\simulations\\yieldingsweep\\HBHByielded\\tau0\\nb1069\\images\\a_stre.mp4\n",
      "remove \\\\cfs2e.nist.gov\\642\\NIST_Projects\\Additive Manufacturing and Rheology\\OpenFOAM\\simulations\\yieldingsweep\\HBHByielded\\tau0\\nb1070\\images\\y_umag.mp4\n",
      "write \\\\cfs2e.nist.gov\\642\\NIST_Projects\\Additive Manufacturing and Rheology\\OpenFOAM\\simulations\\yieldingsweep\\HBHByielded\\tau0\\nb1070\\images\\y_umag.mp4\n",
      "remove \\\\cfs2e.nist.gov\\642\\NIST_Projects\\Additive Manufacturing and Rheology\\OpenFOAM\\simulations\\yieldingsweep\\HBHByielded\\tau0\\nb1072\\images\\y_umag.mp4\n",
      "write \\\\cfs2e.nist.gov\\642\\NIST_Projects\\Additive Manufacturing and Rheology\\OpenFOAM\\simulations\\yieldingsweep\\HBHByielded\\tau0\\nb1072\\images\\y_umag.mp4\n",
      "remove \\\\cfs2e.nist.gov\\642\\NIST_Projects\\Additive Manufacturing and Rheology\\OpenFOAM\\simulations\\yieldingsweep\\HBHByielded\\tau0\\nb1074\\images\\y_umag.mp4\n",
      "write \\\\cfs2e.nist.gov\\642\\NIST_Projects\\Additive Manufacturing and Rheology\\OpenFOAM\\simulations\\yieldingsweep\\HBHByielded\\tau0\\nb1074\\images\\y_umag.mp4\n",
      "remove \\\\cfs2e.nist.gov\\642\\NIST_Projects\\Additive Manufacturing and Rheology\\OpenFOAM\\simulations\\yieldingsweep\\HBHByielded\\tau0\\nb1076\\images\\y_umag.mp4\n",
      "write \\\\cfs2e.nist.gov\\642\\NIST_Projects\\Additive Manufacturing and Rheology\\OpenFOAM\\simulations\\yieldingsweep\\HBHByielded\\tau0\\nb1076\\images\\y_umag.mp4\n",
      "write \\\\cfs2e.nist.gov\\642\\NIST_Projects\\Additive Manufacturing and Rheology\\OpenFOAM\\simulations\\yieldingsweep\\HBHByielded\\tau0\\nb1090\\images\\y_umag.mp4\n",
      "write \\\\cfs2e.nist.gov\\642\\NIST_Projects\\Additive Manufacturing and Rheology\\OpenFOAM\\simulations\\yieldingsweep\\HBHByielded\\tau0\\nb1091\\images\\y_umag.mp4\n",
      "write \\\\cfs2e.nist.gov\\642\\NIST_Projects\\Additive Manufacturing and Rheology\\OpenFOAM\\simulations\\yieldingsweep\\HBHByielded\\tau0\\nb1097\\images\\y_umag.mp4\n",
      "write \\\\cfs2e.nist.gov\\642\\NIST_Projects\\Additive Manufacturing and Rheology\\OpenFOAM\\simulations\\yieldingsweep\\HBHByielded\\tau0\\nb1098\\images\\y_umag.mp4\n",
      "write \\\\cfs2e.nist.gov\\642\\NIST_Projects\\Additive Manufacturing and Rheology\\OpenFOAM\\simulations\\yieldingsweep\\HBHByielded\\tau0\\nb1099\\images\\y_umag.mp4\n",
      "waiting 6 hrs for more files...\n"
     ]
    }
   ],
   "source": [
    "serverfolder = r'\\\\cfs2e.nist.gov\\642\\NIST_Projects\\Additive Manufacturing and Rheology\\OpenFOAM\\simulations\\yieldingsweep\\HBHByielded'\n",
    "topfolders = [os.path.join(serverfolder,s) for s in ['k', 'n', 'tau0']]\n",
    "while True:\n",
    "    try:\n",
    "        for topfolder in topfolders:\n",
    "            for folder in fp.caseFolders(topfolder):\n",
    "                for p in ['umag']:\n",
    "                    for s in ['y']:\n",
    "                        try:\n",
    "                            saveVid(folder, s, p)      \n",
    "                        except:\n",
    "                            pass\n",
    "    except:\n",
    "        pass\n",
    "    print('waiting 6 hrs for more files...')\n",
    "    fp.printCurrentTime()\n",
    "    time.sleep(60*60*6)"
   ]
  },
  {
   "cell_type": "code",
   "execution_count": null,
   "metadata": {},
   "outputs": [],
   "source": []
  }
 ],
 "metadata": {
  "kernelspec": {
   "display_name": "Python 3",
   "language": "python",
   "name": "python3"
  },
  "language_info": {
   "codemirror_mode": {
    "name": "ipython",
    "version": 3
   },
   "file_extension": ".py",
   "mimetype": "text/x-python",
   "name": "python",
   "nbconvert_exporter": "python",
   "pygments_lexer": "ipython3",
   "version": "3.8.3"
  }
 },
 "nbformat": 4,
 "nbformat_minor": 4
}
