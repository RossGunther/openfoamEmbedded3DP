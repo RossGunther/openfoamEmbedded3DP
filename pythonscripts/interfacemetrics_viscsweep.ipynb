{
 "cells": [
  {
   "cell_type": "code",
   "execution_count": 1,
   "metadata": {},
   "outputs": [],
   "source": [
    "%load_ext autoreload\n",
    "%autoreload 2\n",
    "LOGGERDEFINED=False"
   ]
  },
  {
   "cell_type": "code",
   "execution_count": 2,
   "metadata": {},
   "outputs": [],
   "source": [
    "import os\n",
    "import sys\n",
    "sys.path.append(\"../\")\n",
    "import folderparser as fp\n",
    "import folderscraper as fs\n",
    "import interfacemetrics as intm\n",
    "from interfacePlots import *\n",
    "from config import cfg\n",
    "LOGGERDEFINED = fp.openLog('interfacemetrics_viscsweep.ipynb', LOGGERDEFINED, level='DEBUG', exportLog=True)"
   ]
  },
  {
   "cell_type": "code",
   "execution_count": 3,
   "metadata": {},
   "outputs": [],
   "source": [
    "EFOLDERS = [os.path.join(cfg.path.server, 'viscositysweep', s) for s in ['HBnewtsweep', 'newtHBsweep', 'newtnewtsweep', 'HBHBsweep', 'NewtFine']]\n",
    "EXPORTFOLDER = os.path.join(cfg.path.fig, 'viscositysweep', 'plots')"
   ]
  },
  {
   "cell_type": "markdown",
   "metadata": {},
   "source": [
    "# Generating files"
   ]
  },
  {
   "cell_type": "code",
   "execution_count": 3,
   "metadata": {},
   "outputs": [],
   "source": [
    "import pandas as pd\n",
    "o = []\n",
    "for topfolder in [r'\\\\cfs2e.nist.gov\\642\\NIST_Projects\\Additive Manufacturing and Rheology\\OpenFOAM\\simulations\\viscositysweep\\archive\\mesh refinement']:\n",
    "    for f in fp.caseFolders(topfolder):\n",
    "        fs.populate(f)\n",
    "        l = fp.legendUnique(f)\n",
    "        if len(l)>0:\n",
    "            o.append(l)\n",
    "p = pd.DataFrame(o)\n",
    "p.to_csv(r'\\\\cfs2e.nist.gov\\642\\NIST_Projects\\Additive Manufacturing and Rheology\\OpenFOAM\\simulations\\viscositysweep\\archive\\mesh refinement\\legend_mesh.csv')"
   ]
  },
  {
   "cell_type": "code",
   "execution_count": 5,
   "metadata": {},
   "outputs": [],
   "source": [
    "import pandas as pd\n",
    "o = []\n",
    "for topfolder in [os.path.join(cfg.path.server, 'viscositysweep', 'NewtFine')]:\n",
    "    for f in os.listdir(topfolder):\n",
    "        l = fp.legendUnique(os.path.join(topfolder, f))\n",
    "        if len(l)>0:\n",
    "            o.append(l)\n",
    "p = pd.DataFrame(o)\n",
    "p.to_csv(os.path.join(cfg.path.fig, 'viscositysweep', 'legend_newtfine.csv'))"
   ]
  },
  {
   "cell_type": "code",
   "execution_count": null,
   "metadata": {},
   "outputs": [],
   "source": [
    "import pandas as pd\n",
    "o = []\n",
    "for topfolder in EFOLDERS:\n",
    "    for f in os.listdir(topfolder):\n",
    "        l = fp.legendUnique(os.path.join(topfolder, f))\n",
    "        if len(l)>0:\n",
    "            o.append(l)\n",
    "p = pd.DataFrame(o)\n",
    "p.to_csv(os.path.join(cfg.fig, 'viscositysweep', 'legend_general.csv'))"
   ]
  },
  {
   "cell_type": "code",
   "execution_count": 19,
   "metadata": {
    "collapsed": true,
    "jupyter": {
     "outputs_hidden": true
    }
   },
   "outputs": [
    {
     "name": "stdout",
     "output_type": "stream",
     "text": [
      "DEBUG: //cfs2e.nist.gov/642/NIST_Projects/Additive Manufacturing and Rheology/OpenFOAM/simulations\\viscositysweep\\NewtFine\\nb700\n",
      "INFO:     Exported //cfs2e.nist.gov/642/NIST_Projects/Additive Manufacturing and Rheology/OpenFOAM/simulations\\viscositysweep\\NewtFine\\nb700\\sliceSummaries.csv\n",
      "INFO:     Exported //cfs2e.nist.gov/642/NIST_Projects/Additive Manufacturing and Rheology/OpenFOAM/simulations\\viscositysweep\\NewtFine\\nb700\\steadyTimes.csv\n",
      "INFO:     Exported //cfs2e.nist.gov/642/NIST_Projects/Additive Manufacturing and Rheology/OpenFOAM/simulations\\viscositysweep\\NewtFine\\nb700\\steadyPositions.csv\n",
      "DEBUG: //cfs2e.nist.gov/642/NIST_Projects/Additive Manufacturing and Rheology/OpenFOAM/simulations\\viscositysweep\\NewtFine\\nb701\n",
      "INFO:     Exported //cfs2e.nist.gov/642/NIST_Projects/Additive Manufacturing and Rheology/OpenFOAM/simulations\\viscositysweep\\NewtFine\\nb701\\sliceSummaries.csv\n",
      "INFO:     Exported //cfs2e.nist.gov/642/NIST_Projects/Additive Manufacturing and Rheology/OpenFOAM/simulations\\viscositysweep\\NewtFine\\nb701\\steadyTimes.csv\n",
      "INFO:     Exported //cfs2e.nist.gov/642/NIST_Projects/Additive Manufacturing and Rheology/OpenFOAM/simulations\\viscositysweep\\NewtFine\\nb701\\steadyPositions.csv\n",
      "DEBUG: //cfs2e.nist.gov/642/NIST_Projects/Additive Manufacturing and Rheology/OpenFOAM/simulations\\viscositysweep\\NewtFine\\nb702\n",
      "INFO:     Exported //cfs2e.nist.gov/642/NIST_Projects/Additive Manufacturing and Rheology/OpenFOAM/simulations\\viscositysweep\\NewtFine\\nb702\\sliceSummaries.csv\n",
      "INFO:     Exported //cfs2e.nist.gov/642/NIST_Projects/Additive Manufacturing and Rheology/OpenFOAM/simulations\\viscositysweep\\NewtFine\\nb702\\steadyTimes.csv\n",
      "INFO:     Exported //cfs2e.nist.gov/642/NIST_Projects/Additive Manufacturing and Rheology/OpenFOAM/simulations\\viscositysweep\\NewtFine\\nb702\\steadyPositions.csv\n",
      "DEBUG: //cfs2e.nist.gov/642/NIST_Projects/Additive Manufacturing and Rheology/OpenFOAM/simulations\\viscositysweep\\NewtFine\\nb703\n",
      "INFO:     Exported //cfs2e.nist.gov/642/NIST_Projects/Additive Manufacturing and Rheology/OpenFOAM/simulations\\viscositysweep\\NewtFine\\nb703\\sliceSummaries.csv\n",
      "INFO:     Exported //cfs2e.nist.gov/642/NIST_Projects/Additive Manufacturing and Rheology/OpenFOAM/simulations\\viscositysweep\\NewtFine\\nb703\\steadyTimes.csv\n",
      "INFO:     Exported //cfs2e.nist.gov/642/NIST_Projects/Additive Manufacturing and Rheology/OpenFOAM/simulations\\viscositysweep\\NewtFine\\nb703\\steadyPositions.csv\n",
      "DEBUG: //cfs2e.nist.gov/642/NIST_Projects/Additive Manufacturing and Rheology/OpenFOAM/simulations\\viscositysweep\\NewtFine\\nb704\n",
      "INFO:     Exported //cfs2e.nist.gov/642/NIST_Projects/Additive Manufacturing and Rheology/OpenFOAM/simulations\\viscositysweep\\NewtFine\\nb704\\sliceSummaries.csv\n",
      "INFO:     Exported //cfs2e.nist.gov/642/NIST_Projects/Additive Manufacturing and Rheology/OpenFOAM/simulations\\viscositysweep\\NewtFine\\nb704\\steadyTimes.csv\n",
      "INFO:     Exported //cfs2e.nist.gov/642/NIST_Projects/Additive Manufacturing and Rheology/OpenFOAM/simulations\\viscositysweep\\NewtFine\\nb704\\steadyPositions.csv\n",
      "DEBUG: //cfs2e.nist.gov/642/NIST_Projects/Additive Manufacturing and Rheology/OpenFOAM/simulations\\viscositysweep\\NewtFine\\nb705\n",
      "INFO:     Exported //cfs2e.nist.gov/642/NIST_Projects/Additive Manufacturing and Rheology/OpenFOAM/simulations\\viscositysweep\\NewtFine\\nb705\\sliceSummaries.csv\n",
      "INFO:     Exported //cfs2e.nist.gov/642/NIST_Projects/Additive Manufacturing and Rheology/OpenFOAM/simulations\\viscositysweep\\NewtFine\\nb705\\steadyTimes.csv\n",
      "INFO:     Exported //cfs2e.nist.gov/642/NIST_Projects/Additive Manufacturing and Rheology/OpenFOAM/simulations\\viscositysweep\\NewtFine\\nb705\\steadyPositions.csv\n",
      "DEBUG: //cfs2e.nist.gov/642/NIST_Projects/Additive Manufacturing and Rheology/OpenFOAM/simulations\\viscositysweep\\NewtFine\\nb706\n",
      "INFO:     Exported //cfs2e.nist.gov/642/NIST_Projects/Additive Manufacturing and Rheology/OpenFOAM/simulations\\viscositysweep\\NewtFine\\nb706\\sliceSummaries.csv\n",
      "INFO:     Exported //cfs2e.nist.gov/642/NIST_Projects/Additive Manufacturing and Rheology/OpenFOAM/simulations\\viscositysweep\\NewtFine\\nb706\\steadyTimes.csv\n",
      "INFO:     Exported //cfs2e.nist.gov/642/NIST_Projects/Additive Manufacturing and Rheology/OpenFOAM/simulations\\viscositysweep\\NewtFine\\nb706\\steadyPositions.csv\n",
      "DEBUG: //cfs2e.nist.gov/642/NIST_Projects/Additive Manufacturing and Rheology/OpenFOAM/simulations\\viscositysweep\\NewtFine\\nb707\n",
      "INFO:     Exported //cfs2e.nist.gov/642/NIST_Projects/Additive Manufacturing and Rheology/OpenFOAM/simulations\\viscositysweep\\NewtFine\\nb707\\sliceSummaries.csv\n",
      "INFO:     Exported //cfs2e.nist.gov/642/NIST_Projects/Additive Manufacturing and Rheology/OpenFOAM/simulations\\viscositysweep\\NewtFine\\nb707\\steadyTimes.csv\n",
      "INFO:     Exported //cfs2e.nist.gov/642/NIST_Projects/Additive Manufacturing and Rheology/OpenFOAM/simulations\\viscositysweep\\NewtFine\\nb707\\steadyPositions.csv\n",
      "DEBUG: //cfs2e.nist.gov/642/NIST_Projects/Additive Manufacturing and Rheology/OpenFOAM/simulations\\viscositysweep\\NewtFine\\nb708\n",
      "INFO:     Exported //cfs2e.nist.gov/642/NIST_Projects/Additive Manufacturing and Rheology/OpenFOAM/simulations\\viscositysweep\\NewtFine\\nb708\\sliceSummaries.csv\n",
      "INFO:     Exported //cfs2e.nist.gov/642/NIST_Projects/Additive Manufacturing and Rheology/OpenFOAM/simulations\\viscositysweep\\NewtFine\\nb708\\steadyTimes.csv\n",
      "INFO:     Exported //cfs2e.nist.gov/642/NIST_Projects/Additive Manufacturing and Rheology/OpenFOAM/simulations\\viscositysweep\\NewtFine\\nb708\\steadyPositions.csv\n",
      "DEBUG: //cfs2e.nist.gov/642/NIST_Projects/Additive Manufacturing and Rheology/OpenFOAM/simulations\\viscositysweep\\NewtFine\\nb709\n",
      "INFO:     Exported //cfs2e.nist.gov/642/NIST_Projects/Additive Manufacturing and Rheology/OpenFOAM/simulations\\viscositysweep\\NewtFine\\nb709\\sliceSummaries.csv\n",
      "INFO:     Exported //cfs2e.nist.gov/642/NIST_Projects/Additive Manufacturing and Rheology/OpenFOAM/simulations\\viscositysweep\\NewtFine\\nb709\\steadyTimes.csv\n",
      "INFO:     Exported //cfs2e.nist.gov/642/NIST_Projects/Additive Manufacturing and Rheology/OpenFOAM/simulations\\viscositysweep\\NewtFine\\nb709\\steadyPositions.csv\n",
      "DEBUG: //cfs2e.nist.gov/642/NIST_Projects/Additive Manufacturing and Rheology/OpenFOAM/simulations\\viscositysweep\\NewtFine\\nb710\n",
      "INFO:     Exported //cfs2e.nist.gov/642/NIST_Projects/Additive Manufacturing and Rheology/OpenFOAM/simulations\\viscositysweep\\NewtFine\\nb710\\sliceSummaries.csv\n",
      "INFO:     Exported //cfs2e.nist.gov/642/NIST_Projects/Additive Manufacturing and Rheology/OpenFOAM/simulations\\viscositysweep\\NewtFine\\nb710\\steadyTimes.csv\n",
      "INFO:     Exported //cfs2e.nist.gov/642/NIST_Projects/Additive Manufacturing and Rheology/OpenFOAM/simulations\\viscositysweep\\NewtFine\\nb710\\steadyPositions.csv\n",
      "DEBUG: //cfs2e.nist.gov/642/NIST_Projects/Additive Manufacturing and Rheology/OpenFOAM/simulations\\viscositysweep\\NewtFine\\nb711\n",
      "INFO:     Exported //cfs2e.nist.gov/642/NIST_Projects/Additive Manufacturing and Rheology/OpenFOAM/simulations\\viscositysweep\\NewtFine\\nb711\\sliceSummaries.csv\n",
      "INFO:     Exported //cfs2e.nist.gov/642/NIST_Projects/Additive Manufacturing and Rheology/OpenFOAM/simulations\\viscositysweep\\NewtFine\\nb711\\steadyTimes.csv\n",
      "INFO:     Exported //cfs2e.nist.gov/642/NIST_Projects/Additive Manufacturing and Rheology/OpenFOAM/simulations\\viscositysweep\\NewtFine\\nb711\\steadyPositions.csv\n",
      "DEBUG: //cfs2e.nist.gov/642/NIST_Projects/Additive Manufacturing and Rheology/OpenFOAM/simulations\\viscositysweep\\NewtFine\\nb712\n",
      "INFO:     Exported //cfs2e.nist.gov/642/NIST_Projects/Additive Manufacturing and Rheology/OpenFOAM/simulations\\viscositysweep\\NewtFine\\nb712\\sliceSummaries.csv\n",
      "INFO:     Exported //cfs2e.nist.gov/642/NIST_Projects/Additive Manufacturing and Rheology/OpenFOAM/simulations\\viscositysweep\\NewtFine\\nb712\\steadyTimes.csv\n",
      "INFO:     Exported //cfs2e.nist.gov/642/NIST_Projects/Additive Manufacturing and Rheology/OpenFOAM/simulations\\viscositysweep\\NewtFine\\nb712\\steadyPositions.csv\n",
      "DEBUG: //cfs2e.nist.gov/642/NIST_Projects/Additive Manufacturing and Rheology/OpenFOAM/simulations\\viscositysweep\\NewtFine\\nb713\n",
      "INFO:     Exported //cfs2e.nist.gov/642/NIST_Projects/Additive Manufacturing and Rheology/OpenFOAM/simulations\\viscositysweep\\NewtFine\\nb713\\sliceSummaries.csv\n",
      "INFO:     Exported //cfs2e.nist.gov/642/NIST_Projects/Additive Manufacturing and Rheology/OpenFOAM/simulations\\viscositysweep\\NewtFine\\nb713\\steadyTimes.csv\n",
      "INFO:     Exported //cfs2e.nist.gov/642/NIST_Projects/Additive Manufacturing and Rheology/OpenFOAM/simulations\\viscositysweep\\NewtFine\\nb713\\steadyPositions.csv\n",
      "DEBUG: //cfs2e.nist.gov/642/NIST_Projects/Additive Manufacturing and Rheology/OpenFOAM/simulations\\viscositysweep\\NewtFine\\nb714\n",
      "INFO:     Exported //cfs2e.nist.gov/642/NIST_Projects/Additive Manufacturing and Rheology/OpenFOAM/simulations\\viscositysweep\\NewtFine\\nb714\\sliceSummaries.csv\n",
      "INFO:     Exported //cfs2e.nist.gov/642/NIST_Projects/Additive Manufacturing and Rheology/OpenFOAM/simulations\\viscositysweep\\NewtFine\\nb714\\steadyTimes.csv\n",
      "INFO:     Exported //cfs2e.nist.gov/642/NIST_Projects/Additive Manufacturing and Rheology/OpenFOAM/simulations\\viscositysweep\\NewtFine\\nb714\\steadyPositions.csv\n",
      "DEBUG: //cfs2e.nist.gov/642/NIST_Projects/Additive Manufacturing and Rheology/OpenFOAM/simulations\\viscositysweep\\NewtFine\\nb715\n",
      "INFO:     Exported //cfs2e.nist.gov/642/NIST_Projects/Additive Manufacturing and Rheology/OpenFOAM/simulations\\viscositysweep\\NewtFine\\nb715\\sliceSummaries.csv\n",
      "INFO:     Exported //cfs2e.nist.gov/642/NIST_Projects/Additive Manufacturing and Rheology/OpenFOAM/simulations\\viscositysweep\\NewtFine\\nb715\\steadyTimes.csv\n",
      "INFO:     Exported //cfs2e.nist.gov/642/NIST_Projects/Additive Manufacturing and Rheology/OpenFOAM/simulations\\viscositysweep\\NewtFine\\nb715\\steadyPositions.csv\n",
      "DEBUG: //cfs2e.nist.gov/642/NIST_Projects/Additive Manufacturing and Rheology/OpenFOAM/simulations\\viscositysweep\\NewtFine\\nb716\n",
      "INFO:     Exported //cfs2e.nist.gov/642/NIST_Projects/Additive Manufacturing and Rheology/OpenFOAM/simulations\\viscositysweep\\NewtFine\\nb716\\sliceSummaries.csv\n",
      "INFO:     Exported //cfs2e.nist.gov/642/NIST_Projects/Additive Manufacturing and Rheology/OpenFOAM/simulations\\viscositysweep\\NewtFine\\nb716\\steadyTimes.csv\n",
      "INFO:     Exported //cfs2e.nist.gov/642/NIST_Projects/Additive Manufacturing and Rheology/OpenFOAM/simulations\\viscositysweep\\NewtFine\\nb716\\steadyPositions.csv\n",
      "DEBUG: //cfs2e.nist.gov/642/NIST_Projects/Additive Manufacturing and Rheology/OpenFOAM/simulations\\viscositysweep\\NewtFine\\nb717\n",
      "INFO:     Exported //cfs2e.nist.gov/642/NIST_Projects/Additive Manufacturing and Rheology/OpenFOAM/simulations\\viscositysweep\\NewtFine\\nb717\\sliceSummaries.csv\n",
      "INFO:     Exported //cfs2e.nist.gov/642/NIST_Projects/Additive Manufacturing and Rheology/OpenFOAM/simulations\\viscositysweep\\NewtFine\\nb717\\steadyTimes.csv\n",
      "INFO:     Exported //cfs2e.nist.gov/642/NIST_Projects/Additive Manufacturing and Rheology/OpenFOAM/simulations\\viscositysweep\\NewtFine\\nb717\\steadyPositions.csv\n",
      "DEBUG: //cfs2e.nist.gov/642/NIST_Projects/Additive Manufacturing and Rheology/OpenFOAM/simulations\\viscositysweep\\NewtFine\\nb718\n",
      "INFO:     Exported //cfs2e.nist.gov/642/NIST_Projects/Additive Manufacturing and Rheology/OpenFOAM/simulations\\viscositysweep\\NewtFine\\nb718\\sliceSummaries.csv\n",
      "INFO:     Exported //cfs2e.nist.gov/642/NIST_Projects/Additive Manufacturing and Rheology/OpenFOAM/simulations\\viscositysweep\\NewtFine\\nb718\\steadyTimes.csv\n",
      "INFO:     Exported //cfs2e.nist.gov/642/NIST_Projects/Additive Manufacturing and Rheology/OpenFOAM/simulations\\viscositysweep\\NewtFine\\nb718\\steadyPositions.csv\n",
      "DEBUG: //cfs2e.nist.gov/642/NIST_Projects/Additive Manufacturing and Rheology/OpenFOAM/simulations\\viscositysweep\\NewtFine\\nb719\n",
      "INFO:     Exported //cfs2e.nist.gov/642/NIST_Projects/Additive Manufacturing and Rheology/OpenFOAM/simulations\\viscositysweep\\NewtFine\\nb719\\sliceSummaries.csv\n",
      "INFO:     Exported //cfs2e.nist.gov/642/NIST_Projects/Additive Manufacturing and Rheology/OpenFOAM/simulations\\viscositysweep\\NewtFine\\nb719\\steadyTimes.csv\n",
      "INFO:     Exported //cfs2e.nist.gov/642/NIST_Projects/Additive Manufacturing and Rheology/OpenFOAM/simulations\\viscositysweep\\NewtFine\\nb719\\steadyPositions.csv\n",
      "DEBUG: //cfs2e.nist.gov/642/NIST_Projects/Additive Manufacturing and Rheology/OpenFOAM/simulations\\viscositysweep\\NewtFine\\nb720\n",
      "INFO:     Exported //cfs2e.nist.gov/642/NIST_Projects/Additive Manufacturing and Rheology/OpenFOAM/simulations\\viscositysweep\\NewtFine\\nb720\\sliceSummaries.csv\n",
      "INFO:     Exported //cfs2e.nist.gov/642/NIST_Projects/Additive Manufacturing and Rheology/OpenFOAM/simulations\\viscositysweep\\NewtFine\\nb720\\steadyTimes.csv\n",
      "INFO:     Exported //cfs2e.nist.gov/642/NIST_Projects/Additive Manufacturing and Rheology/OpenFOAM/simulations\\viscositysweep\\NewtFine\\nb720\\steadyPositions.csv\n",
      "DEBUG: //cfs2e.nist.gov/642/NIST_Projects/Additive Manufacturing and Rheology/OpenFOAM/simulations\\viscositysweep\\NewtFine\\nb721\n",
      "INFO:     Exported //cfs2e.nist.gov/642/NIST_Projects/Additive Manufacturing and Rheology/OpenFOAM/simulations\\viscositysweep\\NewtFine\\nb721\\sliceSummaries.csv\n",
      "INFO:     Exported //cfs2e.nist.gov/642/NIST_Projects/Additive Manufacturing and Rheology/OpenFOAM/simulations\\viscositysweep\\NewtFine\\nb721\\steadyTimes.csv\n",
      "INFO:     Exported //cfs2e.nist.gov/642/NIST_Projects/Additive Manufacturing and Rheology/OpenFOAM/simulations\\viscositysweep\\NewtFine\\nb721\\steadyPositions.csv\n",
      "DEBUG: //cfs2e.nist.gov/642/NIST_Projects/Additive Manufacturing and Rheology/OpenFOAM/simulations\\viscositysweep\\NewtFine\\nb722\n",
      "INFO:     Exported //cfs2e.nist.gov/642/NIST_Projects/Additive Manufacturing and Rheology/OpenFOAM/simulations\\viscositysweep\\NewtFine\\nb722\\sliceSummaries.csv\n",
      "INFO:     Exported //cfs2e.nist.gov/642/NIST_Projects/Additive Manufacturing and Rheology/OpenFOAM/simulations\\viscositysweep\\NewtFine\\nb722\\steadyTimes.csv\n",
      "INFO:     Exported //cfs2e.nist.gov/642/NIST_Projects/Additive Manufacturing and Rheology/OpenFOAM/simulations\\viscositysweep\\NewtFine\\nb722\\steadyPositions.csv\n",
      "DEBUG: //cfs2e.nist.gov/642/NIST_Projects/Additive Manufacturing and Rheology/OpenFOAM/simulations\\viscositysweep\\NewtFine\\nb723\n",
      "INFO:     Exported //cfs2e.nist.gov/642/NIST_Projects/Additive Manufacturing and Rheology/OpenFOAM/simulations\\viscositysweep\\NewtFine\\nb723\\sliceSummaries.csv\n",
      "INFO:     Exported //cfs2e.nist.gov/642/NIST_Projects/Additive Manufacturing and Rheology/OpenFOAM/simulations\\viscositysweep\\NewtFine\\nb723\\steadyTimes.csv\n",
      "INFO:     Exported //cfs2e.nist.gov/642/NIST_Projects/Additive Manufacturing and Rheology/OpenFOAM/simulations\\viscositysweep\\NewtFine\\nb723\\steadyPositions.csv\n"
     ]
    }
   ],
   "source": [
    "for topfolder in [os.path.join(cfg.path.server, 'viscositysweep', 'NewtFine')]:\n",
    "    for folder in fp.caseFolders(topfolder):\n",
    "        intm.sumAndSteady(folder, False)"
   ]
  },
  {
   "cell_type": "code",
   "execution_count": 49,
   "metadata": {},
   "outputs": [
    {
     "name": "stdout",
     "output_type": "stream",
     "text": [
      "INFO: Exported C:/Users/lmf1/OneDriveNIST/NIST/data/openfoam/summaries\\viscositysweep\\pressures.csv\n"
     ]
    }
   ],
   "source": [
    "tt,u = linePressures(os.path.join(cfg.path.server, 'viscositysweep', 'newtnewtsweep'), os.path.join(cfg.path.fig, 'viscositysweep'), 'pressures.csv')"
   ]
  },
  {
   "cell_type": "code",
   "execution_count": null,
   "metadata": {},
   "outputs": [],
   "source": [
    "for topfolder in EFOLDERS:\n",
    "    for f in os.listdir(topfolder):\n",
    "        if os.path.exists(os.path.join(topfolder, f, 'line_t_10_z_0.5.csv'))"
   ]
  },
  {
   "cell_type": "code",
   "execution_count": 16,
   "metadata": {},
   "outputs": [
    {
     "name": "stdout",
     "output_type": "stream",
     "text": [
      "INFO: //cfs2e.nist.gov/642/NIST_Projects/Additive Manufacturing and Rheology/OpenFOAM/simulations\\viscositysweep\\HBnewtsweep\n",
      "INFO: //cfs2e.nist.gov/642/NIST_Projects/Additive Manufacturing and Rheology/OpenFOAM/simulations\\viscositysweep\\newtHBsweep\n",
      "INFO: //cfs2e.nist.gov/642/NIST_Projects/Additive Manufacturing and Rheology/OpenFOAM/simulations\\viscositysweep\\newtnewtsweep\n",
      "INFO: //cfs2e.nist.gov/642/NIST_Projects/Additive Manufacturing and Rheology/OpenFOAM/simulations\\viscositysweep\\HBHBsweep\n",
      "INFO: //cfs2e.nist.gov/642/NIST_Projects/Additive Manufacturing and Rheology/OpenFOAM/simulations\\viscositysweep\\NewtFine\n",
      "INFO: Exported C:/Users/lmf1/OneDriveNIST/NIST/data/openfoam/summaries\\viscositysweep\\summaryTable_x_5_t_2.5.csv\n"
     ]
    }
   ],
   "source": [
    "tt0,u0 = summaryTable(EFOLDERS, 2.5, 5, os.path.join(cfg.path.fig, 'viscositysweep'))"
   ]
  },
  {
   "cell_type": "code",
   "execution_count": 21,
   "metadata": {},
   "outputs": [
    {
     "name": "stdout",
     "output_type": "stream",
     "text": [
      "INFO: //cfs2e.nist.gov/642/NIST_Projects/Additive Manufacturing and Rheology/OpenFOAM/simulations\\conicalNozzle\n",
      "INFO: Exported C:/Users/lmf1/OneDriveNIST/NIST/data/openfoam/summaries\\conicalNozzle\\summaryTable_x_5_t_2.5.csv\n"
     ]
    }
   ],
   "source": [
    "# plot_metrics\n",
    "tt0,u0 = summaryTable([os.path.join(cfg.path.server, 'conicalNozzle')], 2.5, 5, os.path.join(cfg.path.fig, 'conicalNozzle'))"
   ]
  },
  {
   "cell_type": "code",
   "execution_count": 23,
   "metadata": {},
   "outputs": [
    {
     "data": {
      "text/plain": [
       "Index(['folder', 'ink', 'nuink', 'tau0ink', 'kink', 'nink', 'rhoink', 'sup',\n",
       "       'nusup', 'tau0sup', 'ksup', 'nsup', 'rhosup', 'sigma', 'nozzleAngle',\n",
       "       'vink', 'vsup', 'dsup', 'dink', 'gdot_ink', 'visc0_ink', 'CaInv_ink',\n",
       "       'Re_ink', 'gdot_sup', 'visc0_sup', 'CaInv_sup', 'Re_sup', 'viscRatio',\n",
       "       'ReRatio', 'x', 'xbehind', 'time', 'centery', 'centerz', 'area',\n",
       "       'maxheight', 'maxwidth', 'centeryn', 'centerzn', 'arean', 'maxheightn',\n",
       "       'maxwidthn', 'vertdisp', 'vertdispn', 'aspectratio', 'speed',\n",
       "       'speeddecay'],\n",
       "      dtype='object')"
      ]
     },
     "execution_count": 23,
     "metadata": {},
     "output_type": "execute_result"
    }
   ],
   "source": [
    "tt0.keys()"
   ]
  },
  {
   "cell_type": "markdown",
   "metadata": {},
   "source": [
    "# Plots"
   ]
  },
  {
   "cell_type": "code",
   "execution_count": null,
   "metadata": {},
   "outputs": [],
   "source": [
    "fullv = [10**i for i in range(-2, 6)]\n",
    "for TOPFOLDER in EFOLDERS:\n",
    "        xposition = 5\n",
    "        for t in [2.5]:\n",
    "            for s in [['arean', 1.0, 1.8]]:\n",
    "                metricPlots(TOPFOLDER, EXPORTFOLDER, t, xposition, s[0], xvar='nuink', yvar='nusup', split=True, sigmalist=[0,40], overwrite=True, nuinklist=fullv, nusuplist=fullv, adjustBounds=False, tmin=s[1], tmax=s[2])"
   ]
  },
  {
   "cell_type": "code",
   "execution_count": null,
   "metadata": {},
   "outputs": [],
   "source": [
    "fullv = [10**i for i in range(-2, 6)]\n",
    "for TOPFOLDER in EFOLDERS:\n",
    "        for sigma in [0, 40]:\n",
    "            imsize=1\n",
    "            steadyPlots(TOPFOLDER, imsize, EXPORTFOLDER, [sigma], xvar='nuink', yvar='nusup', overwrite=True, nuinklist=fullv, nusuplist=fullv, adjustBounds=False)"
   ]
  },
  {
   "cell_type": "code",
   "execution_count": 18,
   "metadata": {},
   "outputs": [
    {
     "name": "stdout",
     "output_type": "stream",
     "text": [
      "Exported  C:/Users/lmf1/OneDriveNIST/NIST/data/openfoam/summaries\\viscositysweep\\plots\\controls\\pics_y_py_t2.5_sigma_0_controls_xvar_nuink_yvar_nusup\n",
      "Exported  C:/Users/lmf1/OneDriveNIST/NIST/data/openfoam/summaries\\viscositysweep\\plots\\controls\\pics_y_umag_t2.5_sigma_0_controls_xvar_nuink_yvar_nusup\n"
     ]
    }
   ],
   "source": [
    "for s in ['newtnewtsweep', 'controls']:\n",
    "    TOPFOLDER = os.path.join(cfg.path.server, 'viscositysweep', s)\n",
    "    xvar = 'nuink'\n",
    "    yvar = 'nusup'\n",
    "    fullv = [10**i for i in range(1, 6)]\n",
    "    t = 2.5\n",
    "    sigma = 0\n",
    "    suplist = [10**3]\n",
    "    for ta in ['y_py', 'x_uslicex', 'y_umag', 'y_uzslicey']:\n",
    "        picPlots0(TOPFOLDER, EXPORTFOLDER, t, sigma, tag=ta, xvar=xvar, yvar=yvar, overwrite=False, nuinklist=fullv, nusuplist=suplist, adjustBounds=False)"
   ]
  },
  {
   "cell_type": "code",
   "execution_count": 20,
   "metadata": {},
   "outputs": [
    {
     "name": "stdout",
     "output_type": "stream",
     "text": [
      "INFO: Exported C:/Users/lmf1/OneDriveNIST/NIST/data/openfoam/summaries\\viscositysweep\\plots\\newtnewtsweep\\pics_y_umag_t1_sigma_0_newtnewtsweep_xvar_nuinkdivnusup_yvar_1divnusup\n"
     ]
    }
   ],
   "source": [
    "for s in ['newtnewtsweep']:\n",
    "    TOPFOLDER = os.path.join(cfg.path.server, 'viscositysweep', s)\n",
    "    xvar = 'nuink/nusup'\n",
    "    yvar = '1/nusup'\n",
    "    t = 1\n",
    "    sigma = 0\n",
    "    for ta in ['y_umag']:\n",
    "        picPlots0(TOPFOLDER, EXPORTFOLDER, t, sigma, tag=ta, xvar=xvar, yvar=yvar, overwrite=True, adjustBounds=True)"
   ]
  },
  {
   "cell_type": "code",
   "execution_count": 40,
   "metadata": {
    "scrolled": true
   },
   "outputs": [
    {
     "name": "stdout",
     "output_type": "stream",
     "text": [
      "Exported  C:/Users/lmf1/OneDriveNIST/NIST/data/openfoam/summaries\\viscositysweep\\plots\\HBnewtsweep\\xs_5_t_2.5_HBnewtsweep_xvar_nuink_yvar_nusup\n",
      "Exported  C:/Users/lmf1/OneDriveNIST/NIST/data/openfoam/summaries\\viscositysweep\\plots\\HBnewtsweep\\steady_0_HBnewtsweep_xvar_nuink_yvar_nusup\n",
      "Exported  C:/Users/lmf1/OneDriveNIST/NIST/data/openfoam/summaries\\viscositysweep\\plots\\HBnewtsweep\\steady_40_HBnewtsweep_xvar_nuink_yvar_nusup\n"
     ]
    },
    {
     "data": {
      "image/png": "[encoded data removed]",
      "text/plain": [
       "<Figure size 748.8x748.8 with 64 Axes>"
      ]
     },
     "metadata": {
      "needs_background": "light"
     },
     "output_type": "display_data"
    }
   ],
   "source": [
    "fullv = [10**i for i in range(-2, 6)]\n",
    "\n",
    "xvar = 'nuink'\n",
    "yvar = 'nusup'\n",
    "\n",
    "for TOPFOLDER in [EFOLDERS[0]]:\n",
    "    txtPlots0(TOPFOLDER, EXPORTFOLDER, xvar=xvar, yvar=yvar, overwrite=False)\n",
    "    timePlots(TOPFOLDER, EXPORTFOLDER, xvar=xvar, yvar=yvar, overwrite=False)\n",
    "    runtimePlots0(TOPFOLDER, EXPORTFOLDER, xvar=xvar, yvar=yvar, overwrite=False)\n",
    "    \n",
    "    xposition = 5\n",
    "    for t in [2.5]:\n",
    "        for s in [['arean', 0.7, 1.8], ['vertdispn', 0, 1], ['aspectratio', 0.6, 1.7], ['speeddecay', 0.5, 1.0]]:\n",
    "            metricPlots(TOPFOLDER, EXPORTFOLDER, t, xposition, s[0], xvar=xvar, yvar=yvar, split=True,\\\n",
    "                        sigmalist=[0,40], overwrite=False, nuinklist=fullv, nusuplist=fullv, \\\n",
    "                        adjustBounds=False, tmin=s[1], tmax=s[2])\n",
    "    for t in [0.5, 1, 2.5]:\n",
    "        for sigma in [0, 40]:\n",
    "            for ta in ['y_umag', 'y_viscy', 'y_uslicey', 'x_uslicex', 'x_viscx']:\n",
    "                picPlots0(TOPFOLDER, EXPORTFOLDER, t, sigma, tag=ta, xvar=xvar, yvar=yvar, overwrite=False,\\\n",
    "                          nuinklist=fullv, nusuplist=fullv, adjustBounds=False)\n",
    "    for t in [2.5]:\n",
    "        XSPlots0(TOPFOLDER, EXPORTFOLDER, t, xposition, [0, 40], xvar=xvar, yvar=yvar, overwrite=False,\\\n",
    "                 nuinklist=fullv, nusuplist=fullv, adjustBounds=False)\n",
    "    for sigma in [0, 40]:\n",
    "        imsize=1.3\n",
    "        steadyPlots(TOPFOLDER, imsize, EXPORTFOLDER, [sigma], xvar=xvar, yvar=yvar, overwrite=False, \\\n",
    "                    nuinklist=fullv, nusuplist=fullv, adjustBounds=False)"
   ]
  },
  {
   "cell_type": "code",
   "execution_count": 20,
   "metadata": {
    "scrolled": true
   },
   "outputs": [],
   "source": [
    "fullv = [10**i for i in range(-2, 6)]\n",
    "\n",
    "xvar = 'nuink'\n",
    "yvar = 'nusup'\n",
    "\n",
    "for TOPFOLDER in EFOLDERS:\n",
    "    for t in range(0,26):\n",
    "        t = round(t/10, 1)\n",
    "        for sigma in [0, 40]:\n",
    "            for ta in ['y_umag']:\n",
    "                picPlots0(TOPFOLDER, EXPORTFOLDER, t, sigma, tag=ta, xvar=xvar, yvar=yvar, overwrite=False, nuinklist=fullv, nusuplist=fullv, adjustBounds=False, svg=False)"
   ]
  },
  {
   "cell_type": "code",
   "execution_count": null,
   "metadata": {},
   "outputs": [],
   "source": [
    "for mode in [0,1]:\n",
    "    flist = []\n",
    "    for f in [533, 37, 45, 53]:\n",
    "        flist.append(os.path.join(EFOLDERS[2], 'nb'+str(f)))\n",
    "    fig = linePlots(flist, intmp.divfunc, 1, 2.25, mode)\n",
    "    fig.savefig(os.path.join(EXPORTFOLDER, r'newtnewt_velz_t_1_x_1.5_div_sup100_sig_0_'+str(mode)+'.svg'))"
   ]
  },
  {
   "cell_type": "code",
   "execution_count": null,
   "metadata": {},
   "outputs": [],
   "source": [
    "for mode in [0,1]:\n",
    "    flist = []\n",
    "    for f in [247, 241, 253]:\n",
    "        flist.append(os.path.join(EFOLDERS[0], 'nb'+str(f)))\n",
    "    fig = linePlots(flist, intmp.inkfunc, 1, 2.25, mode)\n",
    "    fig.savefig(os.path.join(EXPORTFOLDER, 'HBnewt_velz_t_1_x_1.5_inkv_sup100_sig_0_'+str(mode)+'.svg'))"
   ]
  },
  {
   "cell_type": "code",
   "execution_count": null,
   "metadata": {},
   "outputs": [],
   "source": [
    "for mode in [0,1]:\n",
    "    flist = []\n",
    "    for f in [221, 227, 709]:\n",
    "        flist.append(os.path.join(EFOLDERS[1], 'nb'+str(f)))\n",
    "    fig = linePlots(flist, intmp.supfunc, 1, 2.25, mode)\n",
    "    fig.savefig(os.path.join(EXPORTFOLDER, 'newtHB_velz_t_1_x_1.5_supv_ink10_sig_0_'+str(mode)+'.svg'))"
   ]
  },
  {
   "cell_type": "code",
   "execution_count": null,
   "metadata": {},
   "outputs": [],
   "source": [
    "flist = []\n",
    "#for f in [32, 42, 52, 62]:\n",
    "for f in [40,50,60]:\n",
    "    flist.append(os.path.join(TOPFOLDER, 'nb'+str(f)))\n",
    "fig = lineplots(flist, intmp.supfunc, 5, 2.25)\n",
    "fig.savefig(os.path.join(EXPORTFOLDER, 'velz_t_5_sup_div0.1_sig_40.svg'))\n"
   ]
  },
  {
   "cell_type": "code",
   "execution_count": null,
   "metadata": {},
   "outputs": [],
   "source": [
    "flist = []\n",
    "for f in [22, 40, 41]:\n",
    "    flist.append(os.path.join(TOPFOLDER, 'nb'+str(f)))\n",
    "fig = linePlots(flist, intmp.sigfunc, 5, 2.25)\n",
    "fig.saveFig(os.path.join(EXPORTFOLDER, 'velz_t_5_sig_div0.1_sup_1.svg'))"
   ]
  },
  {
   "cell_type": "code",
   "execution_count": null,
   "metadata": {},
   "outputs": [],
   "source": [
    "# flist = []\n",
    "# for f in [50, 42, 62]:\n",
    "#     flist.append(os.path.join(TOPFOLDER, 'nb'+str(f)))\n",
    "flist = [os.path.join(EFOLDERS[2], 'nb37'), os.path.join(EFOLDERS[0], 'nb247')]\n",
    "for f in flist:\n",
    "    stabilityPlot(f, EXPORTFOLDER, 2.5, 3, export=True)"
   ]
  },
  {
   "cell_type": "code",
   "execution_count": null,
   "metadata": {},
   "outputs": [],
   "source": [
    "stabilityPlot(os.path.join(EFOLDERS[2], 'nb37'), EXPORTFOLDER, 2.5, 3, export=True)"
   ]
  },
  {
   "cell_type": "code",
   "execution_count": null,
   "metadata": {},
   "outputs": [],
   "source": [
    "t = 0\n",
    "for d in EFOLDERS:\n",
    "    for f in os.listdir(d):\n",
    "        l = intm.importLegend(os.path.join(d, f))\n",
    "        if not type(l) is int:\n",
    "            t1 = float(l.loc[5, 'val'])\n",
    "            if t1>0:\n",
    "                t+=t1\n",
    "t"
   ]
  },
  {
   "cell_type": "code",
   "execution_count": null,
   "metadata": {},
   "outputs": [],
   "source": [
    "import pandas as pd\n",
    "metrics = []\n",
    "for TOPFOLDER in EFOLDERS:\n",
    "    for f in os.listdir(TOPFOLDER):\n",
    "        try:\n",
    "            m = metricVals(os.path.join(TOPFOLDER, f), 2.5, 5, ['arean', 'vertdispn', 'aspectratio', 'speeddecay'])\n",
    "        except:\n",
    "            pass\n",
    "        else:\n",
    "            metrics.append(m)\n",
    "df = pd.DataFrame(metrics)\n",
    "df"
   ]
  },
  {
   "cell_type": "code",
   "execution_count": null,
   "metadata": {},
   "outputs": [],
   "source": [
    "fig, axs = plt.subplots(nrows=3, ncols=3,sharex='col', sharey='row',figsize=(6.5,6.5))\n",
    "cmap = plt.get_cmap('tab20c')\n",
    "\n",
    "for t in range(len(EFOLDERS)):\n",
    "    TOPFOLDER = EFOLDERS[t]\n",
    "    metrics = []\n",
    "    for f in os.listdir(TOPFOLDER):\n",
    "        try:\n",
    "            m = metricVals(os.path.join(TOPFOLDER, f), 2.5, 5, ['arean', 'vertdispn', 'aspectratio', 'speeddecay'])\n",
    "        except:\n",
    "            pass\n",
    "        else:\n",
    "            metrics.append(m)\n",
    "    df = pd.DataFrame(metrics)\n",
    "\n",
    "    df2 = df[df['arean']<3]\n",
    "    df2 = df2[df2['vertdispn']>-0.1]\n",
    "    df2 = df2[df2['vertdispn']<1.2]\n",
    "    df2 = df2[df2['speeddecay']<1.1]\n",
    "\n",
    "    slist = df.keys()\n",
    "    for i in range(4):\n",
    "        for j in range(i):\n",
    "            color = cmap(t/3)\n",
    "            if j==0 and i==1:\n",
    "                axs[j,i-1].scatter(df2[slist[i]], df2[slist[j]], s=5, color=color, label=os.path.basename(TOPFOLDER))\n",
    "            else:\n",
    "                axs[j,i-1].scatter(df2[slist[i]], df2[slist[j]], s=5, color=color)\n",
    "            axs[j,i-1].set_xlabel(slist[i])\n",
    "            axs[j,i-1].set_ylabel(slist[j])\n",
    "axs[0,0].legend()\n"
   ]
  },
  {
   "cell_type": "code",
   "execution_count": null,
   "metadata": {},
   "outputs": [],
   "source": [
    "intm.exportIm(os.path.join(EXPORTFOLDER, 'correlations'), fig)"
   ]
  },
  {
   "cell_type": "code",
   "execution_count": 11,
   "metadata": {},
   "outputs": [],
   "source": [
    "import matplotlib.pyplot as plt"
   ]
  },
  {
   "cell_type": "code",
   "execution_count": 50,
   "metadata": {},
   "outputs": [],
   "source": [
    "d = pd.read_csv(os.path.join(cfg.path.fig, 'viscositysweep', 'pressures.csv'),index_col=0, skiprows=[1])\n",
    "u = pd.read_csv(os.path.join(cfg.path.fig, 'viscositysweep', 'pressures.csv'), nrows=1)"
   ]
  },
  {
   "cell_type": "code",
   "execution_count": 31,
   "metadata": {},
   "outputs": [
    {
     "data": {
      "text/plain": [
       "array([  0.1,   1. ,  10. , 100. ])"
      ]
     },
     "execution_count": 31,
     "metadata": {},
     "output_type": "execute_result"
    }
   ],
   "source": [
    "d[d.dP<0].nusup.unique()"
   ]
  },
  {
   "cell_type": "code",
   "execution_count": 52,
   "metadata": {},
   "outputs": [
    {
     "data": {
      "text/html": [
       "<div>\n",
       "<style scoped>\n",
       "    .dataframe tbody tr th:only-of-type {\n",
       "        vertical-align: middle;\n",
       "    }\n",
       "\n",
       "    .dataframe tbody tr th {\n",
       "        vertical-align: top;\n",
       "    }\n",
       "\n",
       "    .dataframe thead th {\n",
       "        text-align: right;\n",
       "    }\n",
       "</style>\n",
       "<table border=\"1\" class=\"dataframe\">\n",
       "  <thead>\n",
       "    <tr style=\"text-align: right;\">\n",
       "      <th></th>\n",
       "      <th>Unnamed: 0</th>\n",
       "      <th>folder</th>\n",
       "      <th>ink</th>\n",
       "      <th>nuink</th>\n",
       "      <th>tau0ink</th>\n",
       "      <th>kink</th>\n",
       "      <th>nink</th>\n",
       "      <th>sup</th>\n",
       "      <th>nusup</th>\n",
       "      <th>tau0sup</th>\n",
       "      <th>ksup</th>\n",
       "      <th>nsup</th>\n",
       "      <th>sigma</th>\n",
       "      <th>nozzleAngle</th>\n",
       "      <th>pU</th>\n",
       "      <th>pD</th>\n",
       "      <th>dP</th>\n",
       "    </tr>\n",
       "  </thead>\n",
       "  <tbody>\n",
       "    <tr>\n",
       "      <th>0</th>\n",
       "      <td>NaN</td>\n",
       "      <td>NaN</td>\n",
       "      <td>NaN</td>\n",
       "      <td>Pa*s</td>\n",
       "      <td>Pa</td>\n",
       "      <td>Pa*s^n</td>\n",
       "      <td>NaN</td>\n",
       "      <td>NaN</td>\n",
       "      <td>Pa*s</td>\n",
       "      <td>Pa</td>\n",
       "      <td>Pa*s^n</td>\n",
       "      <td>NaN</td>\n",
       "      <td>mJ/m^2</td>\n",
       "      <td>degree</td>\n",
       "      <td>kg/(m*s^2)</td>\n",
       "      <td>kg/(m*s^2)</td>\n",
       "      <td>kg/(m*s^2)</td>\n",
       "    </tr>\n",
       "  </tbody>\n",
       "</table>\n",
       "</div>"
      ],
      "text/plain": [
       "   Unnamed: 0  folder  ink nuink tau0ink    kink  nink  sup nusup tau0sup  \\\n",
       "0         NaN     NaN  NaN  Pa*s      Pa  Pa*s^n   NaN  NaN  Pa*s      Pa   \n",
       "\n",
       "     ksup  nsup   sigma nozzleAngle          pU          pD          dP  \n",
       "0  Pa*s^n   NaN  mJ/m^2      degree  kg/(m*s^2)  kg/(m*s^2)  kg/(m*s^2)  "
      ]
     },
     "execution_count": 52,
     "metadata": {},
     "output_type": "execute_result"
    }
   ],
   "source": [
    "u"
   ]
  },
  {
   "cell_type": "code",
   "execution_count": 46,
   "metadata": {},
   "outputs": [
    {
     "data": {
      "text/plain": [
       "(9.070000000000001e-11, 0.0009070000000000001)"
      ]
     },
     "execution_count": 46,
     "metadata": {},
     "output_type": "execute_result"
    }
   ],
   "source": [
    "d.sup_Re.min(), d.sup_Re.max()"
   ]
  },
  {
   "cell_type": "code",
   "execution_count": 55,
   "metadata": {},
   "outputs": [
    {
     "name": "stderr",
     "output_type": "stream",
     "text": [
      "C:\\Users\\lmf1\\Miniconda3\\lib\\site-packages\\ipykernel_launcher.py:1: RuntimeWarning: invalid value encountered in log10\n",
      "  \"\"\"Entry point for launching an IPython kernel.\n"
     ]
    },
    {
     "data": {
      "text/plain": [
       "([-0.04239271293990473,\n",
       "  -1.0423927129399049,\n",
       "  -2.042392712939905,\n",
       "  -3.042392712939905,\n",
       "  -4.042392712939905,\n",
       "  -5.042392712939905,\n",
       "  -6.042392712939905,\n",
       "  -7.042392712939905],\n",
       " [-0.15600101686143214,\n",
       "  nan,\n",
       "  1.2292915185070965,\n",
       "  2.6477782990035865,\n",
       "  3.616876434127255,\n",
       "  4.739184726680157,\n",
       "  5.724436193744097,\n",
       "  6.704092363833621])"
      ]
     },
     "execution_count": 55,
     "metadata": {},
     "output_type": "execute_result"
    }
   ],
   "source": [
    "[np.log10(s) for s in supre],[np.log10(s) for s in p]"
   ]
  },
  {
   "cell_type": "code",
   "execution_count": 64,
   "metadata": {},
   "outputs": [
    {
     "data": {
      "text/plain": [
       "'C:/Users/lmf1/OneDriveNIST/NIST/data/openfoam/summaries'"
      ]
     },
     "execution_count": 64,
     "metadata": {},
     "output_type": "execute_result"
    }
   ],
   "source": [
    "cfg.path.fig"
   ]
  },
  {
   "cell_type": "code",
   "execution_count": 65,
   "metadata": {},
   "outputs": [
    {
     "name": "stdout",
     "output_type": "stream",
     "text": [
      "INFO: Exported C:/Users/lmf1/OneDriveNIST/NIST/data/openfoam/summaries\\viscositysweep\\plots\\newtnewtsweep\\pressure\n"
     ]
    },
    {
     "data": {
      "image/png": "[encoded data removed]",
      "text/plain": [
       "<Figure size 432x288 with 1 Axes>"
      ]
     },
     "metadata": {
      "needs_background": "light"
     },
     "output_type": "display_data"
    }
   ],
   "source": [
    "d.sort_values(by='nusup', inplace=True)\n",
    "d['sup_Re'] = (1000*0.01*0.000907)/d['nusup']\n",
    "fig,ax = plt.subplots(1,1)\n",
    "d3 = d[d.dP>0]\n",
    "supre = d3.sup_Re.unique()\n",
    "p = [d3[d3.sup_Re==s].dP.mean() for s in supre]\n",
    "err = [d3[d3.sup_Re==s].dP.sem() for s in supre]\n",
    "coeffs = np.polyfit([np.log10(x) for x in supre], [np.log10(x) for x in p], 1)\n",
    "x = [10**i for i in range(-7,1)]\n",
    "ax.plot(x, [10**coeffs[1]*xi**coeffs[0] for xi in x], color='black')\n",
    "ax.errorbar(supre, p, yerr=err, color='black', linestyle='None', fmt='o')\n",
    "# ax.scatter(supre, p, color='black', linestyle='None')\n",
    "ax.set_xscale('log')\n",
    "ax.set_yscale('log')\n",
    "ax.set_ylim(10**-1, 10**7)\n",
    "ax.set_xlabel('Support Reynolds number')\n",
    "ax.set_ylabel('Pressure differential (Pa)')\n",
    "ax.set_aspect('equal', adjustable='box')\n",
    "ax.set_title('dP = {:0.2f}Re^{:0.2f} (Pa)'.format(10**coeffs[1], coeffs[0]))\n",
    "intm.exportIm(os.path.join(cfg.path.fig, 'viscositysweep', 'plots', 'newtnewtsweep', 'pressure'), fig)"
   ]
  },
  {
   "cell_type": "code",
   "execution_count": 45,
   "metadata": {},
   "outputs": [
    {
     "data": {
      "image/png": "[encoded data removed]",
      "text/plain": [
       "<Figure size 432x288 with 1 Axes>"
      ]
     },
     "metadata": {
      "needs_background": "light"
     },
     "output_type": "display_data"
    }
   ],
   "source": [
    "d['sup_Re'] = (0.01*0.000907)/d['nusup']\n",
    "fig,ax = plt.subplots(1,1)\n",
    "d2 = d[d.dP<0]\n",
    "supre = d2.sup_Re.unique()\n",
    "p = [-d2[d2.sup_Re==s].dP.mean() for s in supre]\n",
    "err = [d2[d2.sup_Re==s].dP.sem() for s in supre]\n",
    "ax.errorbar(supre, p, yerr=err, color='black', linestyle='None', fmt='o')\n",
    "# ax.scatter(supre, p, color='black', linestyle='None')\n",
    "ax.set_xscale('log')\n",
    "ax.set_yscale('log')\n",
    "ax.set_ylim(10**-1, 10**7)\n",
    "ax.set_xlabel('Support Reynolds number')\n",
    "ax.set_ylabel('Pressure differential (Pa)')\n",
    "ax.set_aspect(1.0/ax.get_data_ratio(), adjustable='box')"
   ]
  },
  {
   "cell_type": "code",
   "execution_count": 39,
   "metadata": {},
   "outputs": [
    {
     "data": {
      "text/plain": [
       "[0.08779592770228319,\n",
       " 7.285573661082793,\n",
       " 14.643206172226792,\n",
       " 90.4655892390681,\n",
       " 968.4591211512231,\n",
       " 3309.164486833422,\n",
       " 45240.6576410392,\n",
       " 413662.10436154465]"
      ]
     },
     "execution_count": 39,
     "metadata": {},
     "output_type": "execute_result"
    }
   ],
   "source": [
    "err"
   ]
  },
  {
   "cell_type": "code",
   "execution_count": 40,
   "metadata": {},
   "outputs": [
    {
     "data": {
      "text/plain": [
       "array([9.07e-04, 9.07e-05, 9.07e-06, 9.07e-07, 9.07e-08, 9.07e-09,\n",
       "       9.07e-10, 9.07e-11])"
      ]
     },
     "execution_count": 40,
     "metadata": {},
     "output_type": "execute_result"
    }
   ],
   "source": [
    "supre"
   ]
  },
  {
   "cell_type": "code",
   "execution_count": 41,
   "metadata": {},
   "outputs": [
    {
     "data": {
      "text/plain": [
       "[0.6982307692307693,\n",
       " -8.279295000000001,\n",
       " 16.954754999999995,\n",
       " 444.4043476190476,\n",
       " 4138.819000000001,\n",
       " 54851.022352941174,\n",
       " 530195.6909090909,\n",
       " 5059322.5]"
      ]
     },
     "execution_count": 41,
     "metadata": {},
     "output_type": "execute_result"
    }
   ],
   "source": [
    "p"
   ]
  },
  {
   "cell_type": "code",
   "execution_count": null,
   "metadata": {},
   "outputs": [],
   "source": []
  }
 ],
 "metadata": {
  "kernelspec": {
   "display_name": "Python 3",
   "language": "python",
   "name": "python3"
  },
  "language_info": {
   "codemirror_mode": {
    "name": "ipython",
    "version": 3
   },
   "file_extension": ".py",
   "mimetype": "text/x-python",
   "name": "python",
   "nbconvert_exporter": "python",
   "pygments_lexer": "ipython3",
   "version": "3.8.3"
  }
 },
 "nbformat": 4,
 "nbformat_minor": 4
}
