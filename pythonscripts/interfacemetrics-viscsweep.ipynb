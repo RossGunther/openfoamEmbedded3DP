{
 "cells": [
  {
   "cell_type": "code",
   "execution_count": 1,
   "metadata": {},
   "outputs": [],
   "source": [
    "%load_ext autoreload\n",
    "%autoreload 2"
   ]
  },
  {
   "cell_type": "code",
   "execution_count": 8,
   "metadata": {},
   "outputs": [],
   "source": [
    "import os\n",
    "import sys\n",
    "sys.path.append(\"../\")\n",
    "import folderparser as fp\n",
    "import folderscraper as fs\n",
    "import interfacemetrics as intm\n",
    "from interfacePlots import *\n",
    "from config import cfg"
   ]
  },
  {
   "cell_type": "code",
   "execution_count": null,
   "metadata": {},
   "outputs": [],
   "source": [
    "EFOLDERS = [os.path.join(cfg.e, 'viscsweep', s) for s in ['HBnewtsweep', 'newtHBsweep', 'newtnewtsweep', 'HBHBsweep']]\n",
    "EXPORTFOLDER = os.path.join(cfg.fig, 'viscositysweep', 'plots')"
   ]
  },
  {
   "cell_type": "markdown",
   "metadata": {},
   "source": [
    "# Generating files"
   ]
  },
  {
   "cell_type": "code",
   "execution_count": null,
   "metadata": {},
   "outputs": [],
   "source": [
    "import pandas as pd\n",
    "o = []\n",
    "for topfolder in EFOLDERS:\n",
    "    for f in os.listdir(topfolder):\n",
    "        l = fp.legendUnique(os.path.join(topfolder, f))\n",
    "        if len(l)>0:\n",
    "            o.append(l)\n",
    "p = pd.DataFrame(o)\n",
    "p.to_csv(os.path.join(cfg.fig, 'viscositysweep', 'legend_general.csv'))"
   ]
  },
  {
   "cell_type": "code",
   "execution_count": null,
   "metadata": {},
   "outputs": [],
   "source": [
    "for topfolder in TOPFOLDESR:\n",
    "    for folder in fp.caseFolders(topfolder):\n",
    "        intm.sumAndSteady(folder, True)"
   ]
  },
  {
   "cell_type": "code",
   "execution_count": 55,
   "metadata": {},
   "outputs": [],
   "source": [
    "intm.sumAndSteady(r'\\\\cfs2e.nist.gov\\642\\NIST_Projects\\Additive Manufacturing and Rheology\\OpenFOAM\\simulations\\viscositysweep\\HBHBsweep\\nb446', overwrite=False)"
   ]
  },
  {
   "cell_type": "markdown",
   "metadata": {},
   "source": [
    "# Plots"
   ]
  },
  {
   "cell_type": "code",
   "execution_count": null,
   "metadata": {},
   "outputs": [],
   "source": [
    "fullv = [10**i for i in range(-2, 6)]\n",
    "for TOPFOLDER in EFOLDERS:\n",
    "        xposition = 5\n",
    "        for t in [2.5]:\n",
    "            for s in [['arean', 1.0, 1.8]]:\n",
    "                metricPlots(TOPFOLDER, EXPORTFOLDER, t, xposition, s[0], xvar='nuink', yvar='nusup', split=True, sigmalist=[0,40], overwrite=True, nuinklist=fullv, nusuplist=fullv, adjustBounds=False, tmin=s[1], tmax=s[2])"
   ]
  },
  {
   "cell_type": "code",
   "execution_count": null,
   "metadata": {},
   "outputs": [],
   "source": [
    "fullv = [10**i for i in range(-2, 6)]\n",
    "for TOPFOLDER in EFOLDERS:\n",
    "        for sigma in [0, 40]:\n",
    "            imsize=1\n",
    "            steadyPlots(TOPFOLDER, imsize, EXPORTFOLDER, [sigma], xvar='nuink', yvar='nusup', overwrite=True, nuinklist=fullv, nusuplist=fullv, adjustBounds=False)"
   ]
  },
  {
   "cell_type": "code",
   "execution_count": null,
   "metadata": {
    "scrolled": true
   },
   "outputs": [],
   "source": [
    "fullv = [10**i for i in range(-2, 6)]\n",
    "\n",
    "xvar = 'nuink'\n",
    "yvar = 'nusup'\n",
    "\n",
    "for TOPFOLDER in EFOLDERS:\n",
    "    txtPlots0(TOPFOLDER, EXPORTFOLDER, xvar=xvar, yvar=yvar, overwrite=False)\n",
    "    timePlots(TOPFOLDER, EXPORTFOLDER, xvar=xvar, yvar=yvar, overwrite=False)\n",
    "    runtimePlots0(TOPFOLDER, EXPORTFOLDER, xvar=xvar, yvar=yvar, overwrite=False)\n",
    "    \n",
    "    xposition = 5\n",
    "    for t in [2.5]:\n",
    "        for s in [['arean', 0.7, 1.8], ['vertdispn', 0, 1], ['aspectratio', 0.6, 1.7], ['speeddecay', 0.5, 1.0]]:\n",
    "            metricPlots(TOPFOLDER, EXPORTFOLDER, t, xposition, s[0], xvar=xvar, yvar=yvar, split=True, sigmalist=[0,40], overwrite=False, nuinklist=fullv, nusuplist=fullv, adjustBounds=False, tmin=s[1], tmax=s[2])\n",
    "    for mode in [0]:\n",
    "        for t in [0.5, 1, 2.5]:\n",
    "            for sigma in [0, 40]:\n",
    "                for ta in ['y_umag', 'y_viscy', 'y_uslicey', 'x_uslicex', 'x_viscx']:\n",
    "                    picPlots0(TOPFOLDER, EXPORTFOLDER, t, sigma, tag=ta, xvar=xvar, yvar=yvar, overwrite=False, nuinklist=fullv, nusuplist=fullv, adjustBounds=False)\n",
    "    for mode in [0]:\n",
    "        for t in [2.5]:\n",
    "            XSPlots0(TOPFOLDER, EXPORTFOLDER, t, xposition, [0, 40], xvar=xvar, yvar=yvar, overwrite=False, nuinklist=fullv, nusuplist=fullv, adjustBounds=False)\n",
    "    for mode in [0]:\n",
    "        for sigma in [0, 40]:\n",
    "            imsize=1.3\n",
    "            steadyPlots(TOPFOLDER, imsize, EXPORTFOLDER, [sigma], xvar=xvar, yvar=yvar, overwrite=False, nuinklist=fullv, nusuplist=fullv, adjustBounds=False)"
   ]
  },
  {
   "cell_type": "code",
   "execution_count": null,
   "metadata": {},
   "outputs": [],
   "source": [
    "flist = []\n",
    "for f in [37, 45, 53, 61]:\n",
    "    flist.append(os.path.join(TOPFOLDER, 'nb'+str(f)))\n",
    "fig = intmp.lineplots(flist, intmp.divfunc, 5, 2.25)\n",
    "fig.savefig(os.path.join(EXPORTFOLDER, r'velz_t_5_div_sup100_sig_0.svg'))"
   ]
  },
  {
   "cell_type": "code",
   "execution_count": null,
   "metadata": {},
   "outputs": [],
   "source": [
    "for mode in [0,1]:\n",
    "    flist = []\n",
    "    for f in [533, 37, 45, 53]:\n",
    "        flist.append(os.path.join(EFOLDERS[2], 'nb'+str(f)))\n",
    "    fig = intmp.linePlots(flist, intmp.divfunc, 1, 2.25, mode)\n",
    "    fig.savefig(os.path.join(EXPORTFOLDER, r'newtnewt_velz_t_1_x_1.5_div_sup100_sig_0_'+str(mode)+'.svg'))"
   ]
  },
  {
   "cell_type": "code",
   "execution_count": null,
   "metadata": {},
   "outputs": [],
   "source": [
    "for mode in [0,1]:\n",
    "    flist = []\n",
    "    for f in [247, 241, 253]:\n",
    "        flist.append(os.path.join(EFOLDERS[0], 'nb'+str(f)))\n",
    "    fig = intmp.linePlots(flist, intmp.inkfunc, 1, 2.25, mode)\n",
    "    fig.savefig(os.path.join(EXPORTFOLDER, 'HBnewt_velz_t_1_x_1.5_inkv_sup100_sig_0_'+str(mode)+'.svg'))"
   ]
  },
  {
   "cell_type": "code",
   "execution_count": null,
   "metadata": {},
   "outputs": [],
   "source": [
    "for mode in [0,1]:\n",
    "    flist = []\n",
    "    for f in [221, 227, 709]:\n",
    "        flist.append(os.path.join(EFOLDERS[1], 'nb'+str(f)))\n",
    "    fig = intmp.linePlots(flist, intmp.supfunc, 1, 2.25, mode)\n",
    "    fig.savefig(os.path.join(EXPORTFOLDER, 'newtHB_velz_t_1_x_1.5_supv_ink10_sig_0_'+str(mode)+'.svg'))"
   ]
  },
  {
   "cell_type": "code",
   "execution_count": null,
   "metadata": {},
   "outputs": [],
   "source": [
    "flist = []\n",
    "#for f in [32, 42, 52, 62]:\n",
    "for f in [40,50,60]:\n",
    "    flist.append(os.path.join(TOPFOLDER, 'nb'+str(f)))\n",
    "fig = intmp.lineplots(flist, intmp.supfunc, 5, 2.25)\n",
    "fig.savefig(os.path.join(EXPORTFOLDER, 'velz_t_5_sup_div0.1_sig_40.svg'))\n"
   ]
  },
  {
   "cell_type": "code",
   "execution_count": null,
   "metadata": {},
   "outputs": [],
   "source": [
    "flist = []\n",
    "for f in [22, 40, 41]:\n",
    "    flist.append(os.path.join(TOPFOLDER, 'nb'+str(f)))\n",
    "fig = intmp.linePlots(flist, intmp.sigfunc, 5, 2.25)\n",
    "fig.saveFig(os.path.join(EXPORTFOLDER, 'velz_t_5_sig_div0.1_sup_1.svg'))"
   ]
  },
  {
   "cell_type": "code",
   "execution_count": null,
   "metadata": {},
   "outputs": [],
   "source": [
    "# flist = []\n",
    "# for f in [50, 42, 62]:\n",
    "#     flist.append(os.path.join(TOPFOLDER, 'nb'+str(f)))\n",
    "flist = [os.path.join(EFOLDERS[2], 'nb37'), os.path.join(EFOLDERS[0], 'nb247')]\n",
    "for f in flist:\n",
    "    stabilityPlot(f, EXPORTFOLDER, 2.5, 3, export=True)"
   ]
  },
  {
   "cell_type": "code",
   "execution_count": null,
   "metadata": {},
   "outputs": [],
   "source": [
    "stabilityPlot(os.path.join(EFOLDERS[2], 'nb37'), EXPORTFOLDER, 2.5, 3, export=True)"
   ]
  },
  {
   "cell_type": "code",
   "execution_count": null,
   "metadata": {},
   "outputs": [],
   "source": [
    "t = 0\n",
    "for d in EFOLDERS:\n",
    "    for f in os.listdir(d):\n",
    "        l = intm.importLegend(os.path.join(d, f))\n",
    "        if not type(l) is int:\n",
    "            t1 = float(l.loc[5, 'val'])\n",
    "            if t1>0:\n",
    "                t+=t1\n",
    "t"
   ]
  },
  {
   "cell_type": "code",
   "execution_count": null,
   "metadata": {},
   "outputs": [],
   "source": [
    "import pandas as pd\n",
    "metrics = []\n",
    "for TOPFOLDER in EFOLDERS:\n",
    "    for f in os.listdir(TOPFOLDER):\n",
    "        try:\n",
    "            m = metricVals(os.path.join(TOPFOLDER, f), 2.5, 5, ['arean', 'vertdispn', 'aspectratio', 'speeddecay'])\n",
    "        except:\n",
    "            pass\n",
    "        else:\n",
    "            metrics.append(m)\n",
    "df = pd.DataFrame(metrics)\n",
    "df"
   ]
  },
  {
   "cell_type": "code",
   "execution_count": null,
   "metadata": {},
   "outputs": [],
   "source": [
    "fig, axs = plt.subplots(nrows=3, ncols=3,sharex='col', sharey='row',figsize=(6.5,6.5))\n",
    "cmap = plt.get_cmap('tab20c')\n",
    "\n",
    "for t in range(len(EFOLDERS)):\n",
    "    TOPFOLDER = EFOLDERS[t]\n",
    "    metrics = []\n",
    "    for f in os.listdir(TOPFOLDER):\n",
    "        try:\n",
    "            m = metricVals(os.path.join(TOPFOLDER, f), 2.5, 5, ['arean', 'vertdispn', 'aspectratio', 'speeddecay'])\n",
    "        except:\n",
    "            pass\n",
    "        else:\n",
    "            metrics.append(m)\n",
    "    df = pd.DataFrame(metrics)\n",
    "\n",
    "    df2 = df[df['arean']<3]\n",
    "    df2 = df2[df2['vertdispn']>-0.1]\n",
    "    df2 = df2[df2['vertdispn']<1.2]\n",
    "    df2 = df2[df2['speeddecay']<1.1]\n",
    "\n",
    "    slist = df.keys()\n",
    "    for i in range(4):\n",
    "        for j in range(i):\n",
    "            color = cmap(t/3)\n",
    "            if j==0 and i==1:\n",
    "                axs[j,i-1].scatter(df2[slist[i]], df2[slist[j]], s=5, color=color, label=os.path.basename(TOPFOLDER))\n",
    "            else:\n",
    "                axs[j,i-1].scatter(df2[slist[i]], df2[slist[j]], s=5, color=color)\n",
    "            axs[j,i-1].set_xlabel(slist[i])\n",
    "            axs[j,i-1].set_ylabel(slist[j])\n",
    "axs[0,0].legend()\n"
   ]
  },
  {
   "cell_type": "code",
   "execution_count": null,
   "metadata": {},
   "outputs": [],
   "source": [
    "intm.exportIm(os.path.join(EXPORTFOLDER, 'correlations'), fig)"
   ]
  }
 ],
 "metadata": {
  "kernelspec": {
   "display_name": "Python 3",
   "language": "python",
   "name": "python3"
  },
  "language_info": {
   "codemirror_mode": {
    "name": "ipython",
    "version": 3
   },
   "file_extension": ".py",
   "mimetype": "text/x-python",
   "name": "python",
   "nbconvert_exporter": "python",
   "pygments_lexer": "ipython3",
   "version": "3.7.7"
  }
 },
 "nbformat": 4,
 "nbformat_minor": 4
}
