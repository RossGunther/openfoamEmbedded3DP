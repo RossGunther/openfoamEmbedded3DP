{
 "cells": [
  {
   "cell_type": "code",
   "execution_count": 25,
   "metadata": {},
   "outputs": [
    {
     "name": "stdout",
     "output_type": "stream",
     "text": [
      "The autoreload extension is already loaded. To reload it, use:\n",
      "  %reload_ext autoreload\n"
     ]
    }
   ],
   "source": [
    "%load_ext autoreload\n",
    "%autoreload 2"
   ]
  },
  {
   "cell_type": "code",
   "execution_count": 26,
   "metadata": {},
   "outputs": [],
   "source": [
    "import folderparser as fp\n",
    "import foldermover as fm\n",
    "import folderscraper as fs\n",
    "import os\n",
    "import time\n",
    "SERVERFOLDER = r'\\\\cfs2e.nist.gov\\642\\NIST_Projects\\Additive Manufacturing and Rheology\\OpenFOAM\\simulations'\n",
    "CFOLDER = r'C:\\Users\\lmf1\\Documents\\OpenFOAM'\n",
    "EFOLDER = r'E:\\Leanne\\OpenFOAM'"
   ]
  },
  {
   "cell_type": "code",
   "execution_count": 28,
   "metadata": {},
   "outputs": [],
   "source": [
    "fp.redoVTKSeriesNoLog(r'\\\\cfs2e.nist.gov\\642\\NIST_Projects\\Additive Manufacturing and Rheology\\OpenFOAM\\simulations\\HBHBsweep\\nb361')"
   ]
  },
  {
   "cell_type": "code",
   "execution_count": 20,
   "metadata": {},
   "outputs": [],
   "source": [
    "fp.correctVTM(r'\\\\cfs2e.nist.gov\\642\\NIST_Projects\\Additive Manufacturing and Rheology\\OpenFOAM\\simulations\\HBnewtsweep\\nb125\\case\\VTK\\case_0.vtm')"
   ]
  },
  {
   "cell_type": "code",
   "execution_count": null,
   "metadata": {},
   "outputs": [],
   "source": []
  }
 ],
 "metadata": {
  "kernelspec": {
   "display_name": "Python 3",
   "language": "python",
   "name": "python3"
  },
  "language_info": {
   "codemirror_mode": {
    "name": "ipython",
    "version": 3
   },
   "file_extension": ".py",
   "mimetype": "text/x-python",
   "name": "python",
   "nbconvert_exporter": "python",
   "pygments_lexer": "ipython3",
   "version": "3.8.3"
  }
 },
 "nbformat": 4,
 "nbformat_minor": 4
}
