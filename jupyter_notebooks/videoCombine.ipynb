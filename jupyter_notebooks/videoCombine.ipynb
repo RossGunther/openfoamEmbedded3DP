{
 "cells": [
  {
   "cell_type": "markdown",
   "id": "8be19f97",
   "metadata": {},
   "source": [
    "# videoCombine\n",
    "Notebook for combining stills into big videos"
   ]
  },
  {
   "cell_type": "code",
   "execution_count": null,
   "id": "1a257a00",
   "metadata": {},
   "outputs": [],
   "source": [
    "%load_ext autoreload\n",
    "%autoreload 2\n",
    "LOGGERDEFINED = False"
   ]
  },
  {
   "cell_type": "code",
   "execution_count": null,
   "id": "8a0c2a1f",
   "metadata": {
    "tags": []
   },
   "outputs": [],
   "source": [
    "import os\n",
    "import sys\n",
    "parentdir = os.path.dirname(os.getcwd())\n",
    "sys.path.append(parentdir)\n",
    "sys.path.append(os.path.join(parentdir, 'py'))\n",
    "import folderparser as fp\n",
    "import py.videofuncs as vf\n",
    "from config import cfg\n",
    "serverfolder = os.path.join(cfg.path.server, 'conicalNozzle')\n",
    "LOGGERDEFINED = fp.openLog('videoCombine.ipynb', LOGGERDEFINED, level='DEBUG', exportLog=True)"
   ]
  },
  {
   "cell_type": "markdown",
   "id": "384a0a7f",
   "metadata": {},
   "source": [
    "## Create title cards"
   ]
  },
  {
   "cell_type": "code",
   "execution_count": null,
   "id": "8fa067df",
   "metadata": {},
   "outputs": [],
   "source": [
    "help(vf.titleCard)"
   ]
  },
  {
   "cell_type": "code",
   "execution_count": null,
   "id": "791ffff8",
   "metadata": {
    "tags": []
   },
   "outputs": [],
   "source": [
    "for topfolder in [os.path.join(serverfolder, f) for f in ['HBHBsweep', 'HBnewtsweep', 'newtHBsweep', 'newtnewtsweep']]:\n",
    "    for c in fp.caseFolders(topfolder):\n",
    "        vf.titleCard(c, overwrite=True, diag=True)"
   ]
  },
  {
   "cell_type": "code",
   "execution_count": null,
   "id": "468ddf70",
   "metadata": {
    "tags": []
   },
   "outputs": [],
   "source": [
    "for topfolder in [os.path.join(serverfolder, f) for f in ['HBHBsweep', 'HBnewtsweep', 'newtHBsweep', 'newtnewtsweep']]:\n",
    "    for c in fp.caseFolders(topfolder):\n",
    "        vf.checkSimRate(c)"
   ]
  },
  {
   "cell_type": "markdown",
   "id": "f2e22e86",
   "metadata": {},
   "source": [
    "## Put all folders into one big video"
   ]
  },
  {
   "cell_type": "code",
   "execution_count": null,
   "id": "f044908d",
   "metadata": {},
   "outputs": [],
   "source": [
    "help(vf.findFiles)"
   ]
  },
  {
   "cell_type": "code",
   "execution_count": null,
   "id": "72ba2fb0",
   "metadata": {},
   "outputs": [],
   "source": [
    "help(vf.saveBigVideo)"
   ]
  },
  {
   "cell_type": "code",
   "execution_count": null,
   "id": "a95ac458",
   "metadata": {
    "tags": []
   },
   "outputs": [],
   "source": [
    "vf.saveBigVideo(list(files['file']), os.path.join(serverfolder, 'summaryVideo.mp4'))"
   ]
  },
  {
   "cell_type": "markdown",
   "id": "fcfa9219",
   "metadata": {},
   "source": [
    "# Compile figures into a video"
   ]
  },
  {
   "cell_type": "code",
   "execution_count": null,
   "id": "cfcbc6f9",
   "metadata": {
    "tags": []
   },
   "outputs": [],
   "source": [
    "figfolder = cfg.path.fig\n",
    "figfolders = [os.path.join(figfolder, 'viscositysweep', 'plots', s) for s in ['newtnewtsweep', 'newtHBsweep', 'HBnewtsweep','HBHBsweep']]\n",
    "vf.saveFigureVideo(figfolders, os.path.join(figfolder, 'viscositysweep', 'plots', 'y_umag.mp4'), [['sigma_0', 'pics_y_umag'],['sigma_40', 'pics_y_umag']])"
   ]
  },
  {
   "cell_type": "code",
   "execution_count": null,
   "id": "34c0ad14",
   "metadata": {},
   "outputs": [],
   "source": [
    "vf.saveVid(os.path.join(cfg.path.server, 'conicalNozzle', 'newtonian', 'cn224'), 'y', 'umag' )"
   ]
  },
  {
   "cell_type": "code",
   "execution_count": null,
   "id": "937d6ad2",
   "metadata": {},
   "outputs": [],
   "source": []
  }
 ],
 "metadata": {
  "kernelspec": {
   "display_name": "Python 3",
   "language": "python",
   "name": "python3"
  },
  "language_info": {
   "codemirror_mode": {
    "name": "ipython",
    "version": 3
   },
   "file_extension": ".py",
   "mimetype": "text/x-python",
   "name": "python",
   "nbconvert_exporter": "python",
   "pygments_lexer": "ipython3",
   "version": "3.8.3"
  }
 },
 "nbformat": 4,
 "nbformat_minor": 5
}
