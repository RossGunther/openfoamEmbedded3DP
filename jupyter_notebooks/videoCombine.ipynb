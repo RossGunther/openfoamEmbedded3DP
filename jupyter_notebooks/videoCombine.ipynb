{
 "cells": [
  {
   "cell_type": "markdown",
   "id": "8f362b7a",
   "metadata": {},
   "source": [
    "# videoCombine\n",
    "Notebook for combining stills into big videos"
   ]
  },
  {
   "cell_type": "code",
   "execution_count": 2,
   "id": "1beb4f0e",
   "metadata": {},
   "outputs": [],
   "source": [
    "%load_ext autoreload\n",
    "%autoreload 2\n",
    "LOGGERDEFINED = False"
   ]
  },
  {
   "cell_type": "code",
   "execution_count": 3,
   "id": "d8189edf",
   "metadata": {
    "tags": []
   },
   "outputs": [],
   "source": [
    "import os\n",
    "import sys\n",
    "parentdir = os.path.dirname(os.getcwd())\n",
    "sys.path.append(parentdir)\n",
    "sys.path.append(os.path.join(parentdir, 'py'))\n",
    "import folderparser as fp\n",
    "import py.videofuncs as vf\n",
    "from config import cfg\n",
    "serverfolder = os.path.join(cfg.path.server, 'conicalNozzle')\n",
    "LOGGERDEFINED = fp.openLog('videoCombine.ipynb', LOGGERDEFINED, level='DEBUG', exportLog=True)"
   ]
  },
  {
   "cell_type": "markdown",
   "id": "ab2eb01c",
   "metadata": {},
   "source": [
    "## Create title cards"
   ]
  },
  {
   "cell_type": "code",
   "execution_count": 4,
   "id": "596e4a55",
   "metadata": {},
   "outputs": [
    {
     "name": "stdout",
     "output_type": "stream",
     "text": [
      "Help on function titleCard in module py.videofuncs:\n",
      "\n",
      "titleCard(folder: str, overwrite: bool = False, diag: bool = True) -> None\n",
      "    Create and export a title card using the legend for the simulation\n",
      "\n"
     ]
    }
   ],
   "source": [
    "help(vf.titleCard)"
   ]
  },
  {
   "cell_type": "code",
   "execution_count": null,
   "id": "c401fbb1",
   "metadata": {
    "tags": []
   },
   "outputs": [],
   "source": [
    "for topfolder in [os.path.join(serverfolder, f) for f in ['HBHBsweep', 'HBnewtsweep', 'newtHBsweep', 'newtnewtsweep']]:\n",
    "    for c in fp.caseFolders(topfolder):\n",
    "        vf.titleCard(c, overwrite=True, diag=True)"
   ]
  },
  {
   "cell_type": "code",
   "execution_count": null,
   "id": "0fcff465",
   "metadata": {
    "tags": []
   },
   "outputs": [],
   "source": [
    "for topfolder in [os.path.join(serverfolder, f) for f in ['HBHBsweep', 'HBnewtsweep', 'newtHBsweep', 'newtnewtsweep']]:\n",
    "    for c in fp.caseFolders(topfolder):\n",
    "        vf.checkSimRate(c)"
   ]
  },
  {
   "cell_type": "markdown",
   "id": "145cd601",
   "metadata": {},
   "source": [
    "## Put all folders into one big video"
   ]
  },
  {
   "cell_type": "code",
   "execution_count": 5,
   "id": "76855c69",
   "metadata": {},
   "outputs": [
    {
     "name": "stdout",
     "output_type": "stream",
     "text": [
      "Help on function findFiles in module py.videofuncs:\n",
      "\n",
      "findFiles(topfolders: str, keyList: List[str]) -> List[str]\n",
      "    Find all of the simulation folders in topfolders, and put them in order based on their fp.legendUnique keys, given in priority order in keyList\n",
      "\n"
     ]
    }
   ],
   "source": [
    "help(vf.findFiles)"
   ]
  },
  {
   "cell_type": "code",
   "execution_count": 6,
   "id": "60e99eec",
   "metadata": {},
   "outputs": [
    {
     "name": "stdout",
     "output_type": "stream",
     "text": [
      "Help on function saveBigVideo in module py.videofuncs:\n",
      "\n",
      "saveBigVideo(folderList: str, filename: str, titleLength: float = 1, diag: bool = True) -> None\n",
      "    Compile all of the time series for all of the simulations into one big video. folderList is a list of the folders to include. filename is the name of the video to save. titleLength is the time that the title cards are up, in s\n",
      "\n"
     ]
    }
   ],
   "source": [
    "help(vf.saveBigVideo)"
   ]
  },
  {
   "cell_type": "code",
   "execution_count": null,
   "id": "7b670524",
   "metadata": {
    "tags": []
   },
   "outputs": [],
   "source": [
    "vf.saveBigVideo(list(files['file']), os.path.join(serverfolder, 'summaryVideo.mp4'))"
   ]
  },
  {
   "cell_type": "markdown",
   "id": "7845d8a0",
   "metadata": {},
   "source": [
    "# Compile figures into a video for each folder"
   ]
  },
  {
   "cell_type": "code",
   "execution_count": 7,
   "id": "c58e5c8b",
   "metadata": {},
   "outputs": [
    {
     "name": "stdout",
     "output_type": "stream",
     "text": [
      "Help on function saveFigureVideo in module py.videofuncs:\n",
      "\n",
      "saveFigureVideo(topfolderList: str, filename: str, tags: List[List[str]], titleLength: float = 1, diag: bool = True) -> None\n",
      "    Compile a time series of the combined picture plots for all of the simulations into one big video. folderList is a list of the topfolders to include. filename is the name of the video to save. tags should be a list for each folder, and within each list, a list of tags that should be in every file. For example, to get all sigma=0 and then all sigma=40, tags could be [['sigma_0', 'y_umag'],['sigma_40', 'y_umag']]. titleLength is the time that the title cards are up, in s\n",
      "\n"
     ]
    }
   ],
   "source": [
    "help(vf.saveFigureVideo)"
   ]
  },
  {
   "cell_type": "code",
   "execution_count": null,
   "id": "b1b84403",
   "metadata": {
    "tags": []
   },
   "outputs": [],
   "source": [
    "figfolder = cfg.path.fig\n",
    "figfolders = [os.path.join(figfolder, 'viscositysweep', 'plots', s) for s in ['newtnewtsweep', 'newtHBsweep', 'HBnewtsweep','HBHBsweep']]\n",
    "vf.saveFigureVideo(figfolders, os.path.join(figfolder, 'viscositysweep', 'plots', 'y_umag.mp4'), [['sigma_0', 'pics_y_umag'],['sigma_40', 'pics_y_umag']])"
   ]
  },
  {
   "cell_type": "markdown",
   "id": "9ef48824",
   "metadata": {},
   "source": [
    "## save video for a single file"
   ]
  },
  {
   "cell_type": "code",
   "execution_count": 8,
   "id": "33fcb68a",
   "metadata": {},
   "outputs": [
    {
     "name": "stdout",
     "output_type": "stream",
     "text": [
      "Help on function saveVid in module py.videofuncs:\n",
      "\n",
      "saveVid(folder: str, s: str, p: str, diag: bool = True) -> None\n",
      "    compile images into a video, where images contain the string {s}_{p}.png\n",
      "\n"
     ]
    }
   ],
   "source": [
    "help(vf.saveVid)"
   ]
  },
  {
   "cell_type": "code",
   "execution_count": null,
   "id": "f833a6f7",
   "metadata": {},
   "outputs": [],
   "source": [
    "vf.saveVid(os.path.join(cfg.path.server, 'conicalNozzle', 'newtonian', 'cn224'), 'y', 'umag' )"
   ]
  }
 ],
 "metadata": {
  "kernelspec": {
   "display_name": "Python 3",
   "language": "python",
   "name": "python3"
  },
  "language_info": {
   "codemirror_mode": {
    "name": "ipython",
    "version": 3
   },
   "file_extension": ".py",
   "mimetype": "text/x-python",
   "name": "python",
   "nbconvert_exporter": "python",
   "pygments_lexer": "ipython3",
   "version": "3.8.3"
  }
 },
 "nbformat": 4,
 "nbformat_minor": 5
}
