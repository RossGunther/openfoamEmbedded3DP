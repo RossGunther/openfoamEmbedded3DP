{
 "cells": [
  {
   "cell_type": "code",
   "execution_count": null,
   "metadata": {},
   "outputs": [],
   "source": [
    "%load_ext autoreload\n",
    "%autoreload 2\n",
    "LOGGERDEFINED = False"
   ]
  },
  {
   "cell_type": "code",
   "execution_count": null,
   "metadata": {},
   "outputs": [],
   "source": [
    "import os\n",
    "import sys\n",
    "sys.path.append(\"../\")\n",
    "sys.path.append(\"../py\")\n",
    "import folderparser as fp\n",
    "import folderscraper as fs\n",
    "from interfacePlots import *\n",
    "from config import cfg\n",
    "LOGGERDEFINED = fp.openLog('interfacemetrics_viscsweep.ipynb', LOGGERDEFINED, level='DEBUG', exportLog=True)"
   ]
  },
  {
   "cell_type": "code",
   "execution_count": null,
   "metadata": {},
   "outputs": [],
   "source": [
    "EFOLDERS = [os.path.join(cfg.path.server, 'yieldingsweep','HBHByielded',  s) for s in ['k', 'n', 'tau0']]\n",
    "EXPORTFOLDER = os.path.join(cfg.path.fig, 'yieldingsweep', 'plots')"
   ]
  },
  {
   "cell_type": "markdown",
   "metadata": {},
   "source": [
    "# Generating files"
   ]
  },
  {
   "cell_type": "code",
   "execution_count": null,
   "metadata": {},
   "outputs": [],
   "source": [
    "import pandas as pd\n",
    "o = []\n",
    "for topfolder in EFOLDERS:\n",
    "    for f in os.listdir(topfolder):\n",
    "        ffull = os.path.join(topfolder, f)\n",
    "        try:\n",
    "            fs.populate(ffull)\n",
    "        except:\n",
    "            pass\n",
    "        else:\n",
    "            l = fp.legendUnique(ffull)\n",
    "            if len(l)>0:\n",
    "                o.append(l)\n",
    "p = pd.DataFrame(o)\n",
    "p.to_csv(os.path.join(cfg.path.fig, 'yieldingsweep','yielding_legend_general.csv'))"
   ]
  },
  {
   "cell_type": "code",
   "execution_count": null,
   "metadata": {},
   "outputs": [],
   "source": [
    "for topfolder in EFOLDERS:\n",
    "    for folder in fp.caseFolders(topfolder):\n",
    "        intm.sumAndSteady(folder, False)"
   ]
  },
  {
   "cell_type": "code",
   "execution_count": null,
   "metadata": {},
   "outputs": [],
   "source": [
    "intm.sumAndSteady(os.path.join(cfg.path.server, 'yieldingsweep', 'HBHByielded', 'n', 'nb1035'), True)"
   ]
  },
  {
   "cell_type": "markdown",
   "metadata": {},
   "source": [
    "# Plots"
   ]
  },
  {
   "cell_type": "markdown",
   "metadata": {},
   "source": [
    "`('nuink', 'tau0ink', 'kink', 'nink', 'nusup', 'tau0sup', 'ksup', 'nsup', 'sigma')`"
   ]
  },
  {
   "cell_type": "code",
   "execution_count": null,
   "metadata": {
    "scrolled": true
   },
   "outputs": [],
   "source": [
    "lists = [[10**-1, 10**0, 10**1, 10**2], [0.3, 0.45, 0.6], [10**-2, 10**-1, 10**0, 10**1, 10**2]]\n",
    "\n",
    "for i, TOPFOLDER in enumerate(EFOLDERS):\n",
    "    bn = os.path.basename(TOPFOLDER)\n",
    "    xvar = bn+'ink'\n",
    "    yvar = bn+'sup'\n",
    "    txtPlots0(TOPFOLDER, EXPORTFOLDER, xvar=xvar, yvar=yvar, overwrite=False)\n",
    "    timePlots(TOPFOLDER, EXPORTFOLDER, xvar=xvar, yvar=yvar, overwrite=False)\n",
    "    runtimePlots0(TOPFOLDER, EXPORTFOLDER, xvar=xvar, yvar=yvar, overwrite=False)\n",
    "    kwargs = {bn+'suplist':lists[i], bn+'inklist':lists[i]}    \n",
    "    xposition = 5\n",
    "    for t in [2.5]:\n",
    "        for s in [['arean', 0.7, 1.8], ['vertdispn', 0, 1], ['aspectratio', 0.6, 1.7], ['speeddecay', 0.5, 1.0]]:\n",
    "            metricPlots(TOPFOLDER, EXPORTFOLDER, t, xposition, s[0], xvar=xvar, yvar=yvar, split=True,\\\n",
    "                        sigmalist=[0,40], overwrite=True, tmin=s[1], tmax=s[2], adjustBounds=False, **kwargs)\n",
    "            \n",
    "    for t in [1, 2.5]:\n",
    "        for sigma in [0, 40]:\n",
    "            for ta in ['y_umag', 'y_viscy', 'y_uslicey', 'x_uslicex', 'x_viscx', 'y_shearRate']:\n",
    "                picPlots0(TOPFOLDER, EXPORTFOLDER, t, sigma, tag=ta, xvar=xvar, yvar=yvar,\\\n",
    "                          overwrite=False, adjustBounds=False, **kwargs)\n",
    "    \n",
    "    for t in [2.5]:\n",
    "        xposition = 5\n",
    "        XSPlots0(TOPFOLDER, EXPORTFOLDER, t, xposition, [0, 40], xvar=xvar, yvar=yvar,\\\n",
    "                 overwrite=True, adjustBounds=False, **kwargs)\n",
    "    \n",
    "    for sigma in [0, 40]:\n",
    "        imsize=1.3\n",
    "        steadyPlots(TOPFOLDER, imsize, EXPORTFOLDER, [sigma], xvar=xvar, yvar=yvar,\\\n",
    "                    overwrite=False, adjustBounds=False, **kwargs)"
   ]
  },
  {
   "cell_type": "code",
   "execution_count": null,
   "metadata": {},
   "outputs": [],
   "source": [
    "import pandas as pd\n",
    "metrics = []\n",
    "for TOPFOLDER in EFOLDERS:\n",
    "    for f in os.listdir(TOPFOLDER):\n",
    "        try:\n",
    "            m = metricVals(os.path.join(TOPFOLDER, f), 2.5, 5, ['arean', 'vertdispn', 'aspectratio', 'speeddecay'])\n",
    "        except:\n",
    "            pass\n",
    "        else:\n",
    "            metrics.append(m)\n",
    "df = pd.DataFrame(metrics)\n",
    "df"
   ]
  },
  {
   "cell_type": "code",
   "execution_count": null,
   "metadata": {},
   "outputs": [],
   "source": [
    "fig, axs = plt.subplots(nrows=3, ncols=3,sharex='col', sharey='row',figsize=(6.5,6.5))\n",
    "cmap = plt.get_cmap('tab20c')\n",
    "\n",
    "for t in range(len(EFOLDERS)):\n",
    "    TOPFOLDER = EFOLDERS[t]\n",
    "    metrics = []\n",
    "    for f in os.listdir(TOPFOLDER):\n",
    "        try:\n",
    "            m = metricVals(os.path.join(TOPFOLDER, f), 2.5, 5, ['arean', 'vertdispn', 'aspectratio', 'speeddecay'])\n",
    "        except:\n",
    "            pass\n",
    "        else:\n",
    "            metrics.append(m)\n",
    "    df = pd.DataFrame(metrics)\n",
    "\n",
    "    df2 = df[df['arean']<3]\n",
    "    df2 = df2[df2['vertdispn']>-0.1]\n",
    "    df2 = df2[df2['vertdispn']<1.2]\n",
    "    df2 = df2[df2['speeddecay']<1.1]\n",
    "\n",
    "    slist = df.keys()\n",
    "    for i in range(4):\n",
    "        for j in range(i):\n",
    "            color = cmap(t/3)\n",
    "            if j==0 and i==1:\n",
    "                axs[j,i-1].scatter(df2[slist[i]], df2[slist[j]], s=5, color=color, label=os.path.basename(TOPFOLDER))\n",
    "            else:\n",
    "                axs[j,i-1].scatter(df2[slist[i]], df2[slist[j]], s=5, color=color)\n",
    "            axs[j,i-1].set_xlabel(slist[i])\n",
    "            axs[j,i-1].set_ylabel(slist[j])\n",
    "axs[0,0].legend()\n"
   ]
  },
  {
   "cell_type": "code",
   "execution_count": null,
   "metadata": {},
   "outputs": [],
   "source": [
    "t1,units = intm.importLine(os.path.join(EFOLDERS[0], 'nb1018'), 1, x=1.4)"
   ]
  },
  {
   "cell_type": "code",
   "execution_count": null,
   "metadata": {},
   "outputs": [],
   "source": [
    "[np.linalg.norm(np.array([[row['shearrate0'],row['shearrate1'],row['shearrate2']],[row['shearrate3'],row['shearrate4'],row['shearrate5']],[row['shearrate6'],row['shearrate7'],row['shearrate8']]])) for i,row in t1.iterrows()]"
   ]
  },
  {
   "cell_type": "code",
   "execution_count": null,
   "metadata": {},
   "outputs": [],
   "source": [
    "flist = []\n",
    "for f in [1018, 1020, 1022]:\n",
    "    flist.append(os.path.join(EFOLDERS[0], 'nb'+str(f)))\n",
    "for mode in ['nu','vx','shearrate']+['shearrate'+str(i) for i in list(range(0,8))]:\n",
    "    fig = linePlots(flist, lambda tp: tpFunc(tp, 'ksup'), 1, 5, mode, x=1.4)\n",
    "#     fig.savefig(os.path.join(EXPORTFOLDER, 'k', r'k_velz_t_1_x_1.4_sig_0_'+str(mode)+'.svg'))"
   ]
  },
  {
   "cell_type": "code",
   "execution_count": null,
   "metadata": {},
   "outputs": [],
   "source": []
  }
 ],
 "metadata": {
  "kernelspec": {
   "display_name": "Python 3",
   "language": "python",
   "name": "python3"
  },
  "language_info": {
   "codemirror_mode": {
    "name": "ipython",
    "version": 3
   },
   "file_extension": ".py",
   "mimetype": "text/x-python",
   "name": "python",
   "nbconvert_exporter": "python",
   "pygments_lexer": "ipython3",
   "version": "3.8.3"
  }
 },
 "nbformat": 4,
 "nbformat_minor": 4
}
