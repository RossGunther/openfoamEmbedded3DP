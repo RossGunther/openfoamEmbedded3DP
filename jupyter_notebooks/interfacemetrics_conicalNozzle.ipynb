{
 "cells": [
  {
   "cell_type": "code",
   "execution_count": 1,
   "id": "9ff9efd6",
   "metadata": {},
   "outputs": [],
   "source": [
    "%load_ext autoreload\n",
    "%autoreload 2"
   ]
  },
  {
   "cell_type": "code",
   "execution_count": 2,
   "id": "82f3a3d2",
   "metadata": {},
   "outputs": [],
   "source": [
    "import os\n",
    "import sys\n",
    "sys.path.append(\"../\")\n",
    "sys.path.append(\"../py\")\n",
    "import folderparser as fp\n",
    "import folderscraper as fs\n",
    "import interfacemetrics as intm\n",
    "from interfacePlots import *\n",
    "from config import cfg\n",
    "import logging"
   ]
  },
  {
   "cell_type": "code",
   "execution_count": 3,
   "id": "394c3eaf",
   "metadata": {},
   "outputs": [],
   "source": [
    "logger = logging.getLogger()\n",
    "logger.setLevel(logging.DEBUG)"
   ]
  },
  {
   "cell_type": "code",
   "execution_count": 4,
   "id": "3334b015",
   "metadata": {},
   "outputs": [],
   "source": [
    "# top folder where all sims are stored\n",
    "SERVERFOLDER = os.path.join(cfg.path.server, r'conicalNozzle')\n",
    "\n",
    "# folder where summary tables, figures should be exported\n",
    "EXPORTFOLDER = os.path.join(cfg.path.fig, 'conicalNozzle', 'plots')\n",
    "\n",
    "# folders where sims are stored\n",
    "TOPFOLDERS = [os.path.join(SERVERFOLDER, s) for s in ['HB_angle', 'HB_diameter', 'HB_k', 'HB_speed', 'newt_angle', 'newt_diameter', 'newt_visc']]"
   ]
  },
  {
   "cell_type": "markdown",
   "id": "eb2c642f",
   "metadata": {},
   "source": [
    "# Generating Files"
   ]
  },
  {
   "cell_type": "markdown",
   "id": "d6d53609",
   "metadata": {},
   "source": [
    "#### generate table of metadata for all folders"
   ]
  },
  {
   "cell_type": "code",
   "execution_count": null,
   "id": "e4e091eb",
   "metadata": {
    "tags": []
   },
   "outputs": [],
   "source": [
    "import pandas as pd\n",
    "o = []\n",
    "for topfolder in TOPFOLDERS:\n",
    "    for f in fp.caseFolders(topfolder):\n",
    "        try:\n",
    "            fs.populate(f)\n",
    "        except Exception as e:\n",
    "            print(f)\n",
    "            raise e\n",
    "        l = fp.legendUnique(f)\n",
    "        if len(l)>0:\n",
    "            o.append(l)\n",
    "p = pd.DataFrame(o)\n",
    "fn = os.path.join(cfg.path.fig, 'conicalNozzle', 'legend_general.csv')\n",
    "p.to_csv(fn)\n",
    "logging.info(f'Exported {fn}')"
   ]
  },
  {
   "cell_type": "markdown",
   "id": "b5c48b98",
   "metadata": {},
   "source": [
    "#### summarize data for each folder"
   ]
  },
  {
   "cell_type": "code",
   "execution_count": null,
   "id": "179b4e5e",
   "metadata": {
    "tags": []
   },
   "outputs": [],
   "source": [
    "for topfolder in TOPFOLDERS:\n",
    "    for folder in fp.caseFolders(topfolder):\n",
    "        df, u = intm.importSS(folder)\n",
    "        if len(df)>0:\n",
    "            dftimes = df.time.unique()\n",
    "            files = os.listdir(os.path.join(folder, 'interfacePoints'))\n",
    "            if len(dftimes)<len(files):\n",
    "                intm.sumAndSteady(folder, True)"
   ]
  },
  {
   "cell_type": "markdown",
   "id": "c8be5fcf",
   "metadata": {},
   "source": [
    "# Plots"
   ]
  },
  {
   "cell_type": "markdown",
   "id": "eb8608e2",
   "metadata": {},
   "source": [
    "### nozzle angle, bath size"
   ]
  },
  {
   "cell_type": "code",
   "execution_count": 9,
   "id": "c29f4766",
   "metadata": {},
   "outputs": [
    {
     "name": "stdout",
     "output_type": "stream",
     "text": [
      "Help on function withinNozzle0 in module plot_survival:\n",
      "\n",
      "withinNozzle0(topFolder: str, exportFolder: str, time: float, zabove, zunits: str = 'mm', cvar: str = 'nozzle_angle', overwrite: bool = False, export: bool = True, fontsize: int = 8, **kwargs)\n",
      "    plots line traces within the nozzle at a given z position and time. \n",
      "    topfolder is the folder holding the simulations. you can filter the folder using **kwargs, as described in plot_general.listTPvalues\n",
      "    exportFolder is the folder to export figures to\n",
      "    time is the time at which to collect the stress\n",
      "    zabove is the z position relative to the bottom of the nozzle, in units of zunits\n",
      "    zunits is 'mm' or any parameter in legend, e.g. 'nozzle_inner_width'\n",
      "    cvar is the variable to color by\n",
      "    overwrite True to overwrite existing files\n",
      "    export True to export figures\n",
      "\n"
     ]
    }
   ],
   "source": [
    "help(withinNozzle0)"
   ]
  },
  {
   "cell_type": "code",
   "execution_count": null,
   "id": "4ffeb448",
   "metadata": {
    "tags": []
   },
   "outputs": [],
   "source": [
    "withinNozzle0(TOPFOLDERS[0], EXPORTFOLDER, 2.5, -2\n",
    "              , zunits='nozzle_inner_width'\n",
    "              , bath_depth_list=[6.05], overwrite=True\n",
    "              , volume=False, xvar='rbar')"
   ]
  },
  {
   "cell_type": "code",
   "execution_count": 11,
   "id": "ed777936",
   "metadata": {},
   "outputs": [
    {
     "name": "stdout",
     "output_type": "stream",
     "text": [
      "Help on function XSPlots0 in module plot_slices:\n",
      "\n",
      "XSPlots0(topFolder: str, exportFolder: str, time: float, xbehind: float, xunits: str = 'mm', overwrite: bool = False, dx: float = 0.5, **kwargs) -> None\n",
      "    plot all cross-sections together\n",
      "    topFolder is the folder that holds all the files\n",
      "    time is the time at which to take the cross-section\n",
      "    xbehind is the distance behind the center of the nozzle to take the cross-section\n",
      "    xunits is 'mm' or 'nozzle_inner_width'\n",
      "    overwrite True to overwrite values\n",
      "    dx is the spacing between cross-sections, in mm\n",
      "\n"
     ]
    }
   ],
   "source": [
    "help(XSPlots0)"
   ]
  },
  {
   "cell_type": "code",
   "execution_count": null,
   "id": "aab3f6ea",
   "metadata": {
    "tags": []
   },
   "outputs": [],
   "source": [
    "XSPlots0(TOPFOLDERS[0], EXPORTFOLDER, 2.5, 8, xunits='nozzle_inner_width', \n",
    "         bath_depth_list=[6.05], cvar='nozzle_angle', \n",
    "         xvar='nozzle_angle', yvar='bath_depth', overwrite=True)"
   ]
  },
  {
   "cell_type": "code",
   "execution_count": 12,
   "id": "4b0504c9",
   "metadata": {},
   "outputs": [
    {
     "name": "stdout",
     "output_type": "stream",
     "text": [
      "Help on function survivalRMultiRow in module plot_survival:\n",
      "\n",
      "survivalRMultiRow(topFolder: str, exportFolder: str, fontsize: int = 8, export: bool = True, overwrite: bool = False, **kwargs)\n",
      "    plot cell survival as a function of radius, at three weights of the equation\n",
      "\n"
     ]
    }
   ],
   "source": [
    "help(survivalRMultiRow)"
   ]
  },
  {
   "cell_type": "code",
   "execution_count": null,
   "id": "e586f8a3",
   "metadata": {
    "tags": []
   },
   "outputs": [],
   "source": [
    "survivalRMultiRow(TOPFOLDERS[0], EXPORTFOLDER, \n",
    "                  cvar='nozzle_angle', bath_depth_list=[6.05]\n",
    "                  , overwrite=True, volume=False)"
   ]
  },
  {
   "cell_type": "code",
   "execution_count": 13,
   "id": "aa7203e3",
   "metadata": {},
   "outputs": [
    {
     "name": "stdout",
     "output_type": "stream",
     "text": [
      "Help on function survivalPlot in module plot_survival:\n",
      "\n",
      "survivalPlot(folder: str, exportFolder: str, xvar: str, time: float = 2.5, a: float = 0.001, b: float = 0.5, c: float = 0.5, zunits: str = 'nozzle_inner_width', fontsize: int = 8, dr: float = 0.05, export: bool = True, overwrite: bool = False, **kwargs)\n",
      "    plot survival as a function of z position, relative radius, or get a single value.\n",
      "    folder is the simulation folder\n",
      "    exportFolder is the folder to export results to\n",
      "    xvar is the variable on the x axis. value of xvar should be 'z', 't', 'rbar', or 'scalar' \n",
      "    time is the time at which we evaluate survival\n",
      "    a,b, and c are model parameters for the cell survival\n",
      "    zunits = mm or nozzle_inner_width\n",
      "    dr is the spacing between relative r values, as a fraction\n",
      "    export True to export images\n",
      "    overwrite True to export images even if the file already exists\n",
      "\n"
     ]
    }
   ],
   "source": [
    "help(survivalPlot)"
   ]
  },
  {
   "cell_type": "code",
   "execution_count": null,
   "id": "d87c6220",
   "metadata": {
    "tags": []
   },
   "outputs": [],
   "source": [
    "for xhalf in [True]:\n",
    "    for v in [False]:\n",
    "        for s in [137, 140]:\n",
    "            folder = os.path.join(SERVERFOLDER, 'HB_angle', f'cn{s}')\n",
    "            for d in [{'a':10**-2, 'b':0.5, 'c':0.5}]:\n",
    "                survivalPlot(folder, EXPORTFOLDER, 'z',  a=d['a'], b=d['b'], c=d['c']\n",
    "                             , dr=0.1, volume=v, xhalf=xhalf, export=True, overwrite=True)"
   ]
  },
  {
   "cell_type": "code",
   "execution_count": null,
   "id": "04cc648f",
   "metadata": {
    "tags": []
   },
   "outputs": [],
   "source": [
    "topfolder = os.path.join(SERVERFOLDER, 'HB_angle')\n",
    "linePlots0(topfolder, EXPORTFOLDER, 'nozzle_angle', 2.5, imsize=6.5, yvar=['vz', 'vx', 'nu'], \n",
    "           x=1.4, bath_depth_list=[6.05], nozzle_angle_list=[0,10,20,30], export=True, overwrite=True)"
   ]
  },
  {
   "cell_type": "code",
   "execution_count": null,
   "id": "f499f350",
   "metadata": {
    "tags": []
   },
   "outputs": [],
   "source": [
    "topfolder = os.path.join(SERVERFOLDER, 'HB_angle')\n",
    "# for s in ['a_stre', 'x_viscx', 'y_viscy', 'y_umag']:\n",
    "for s in ['y_shearStressy']:\n",
    "    picPlots0(topfolder, EXPORTFOLDER, 2.5, 0, tag=s\n",
    "              , overwrite=True, xvar='nozzle_angle', yvar='bath_depth'\n",
    "          , bath_depth_list=[6.05], nozzle_angle_list=[0,10,20,30], imsize=8)"
   ]
  },
  {
   "cell_type": "code",
   "execution_count": null,
   "id": "b3591225",
   "metadata": {
    "tags": []
   },
   "outputs": [],
   "source": [
    "fig,axs = plt.subplots(1,3, figsize=(6.5, 3.25))\n",
    "f = os.path.join(SERVERFOLDER, 'HB_angle', 'cn137')\n",
    "twlist = [0.1, 0.2, 0.3, 0.4, 0.5]\n",
    "cm = sns.color_palette('viridis', n_colors=len(twlist))\n",
    "for i,tw in enumerate(twlist):\n",
    "    dlist = []\n",
    "    for di in np.arange(0.1, 1, 0.05):\n",
    "        do = di+2*tw\n",
    "        d = intm.viscRatio(f, di=di, do=do)   # get the viscosity ratio\n",
    "        d['di'] = di  # get the color\n",
    "        d['do'] = do\n",
    "        dlist.append(d)   # save these values to list\n",
    "    df = pd.DataFrame(dlist)\n",
    "    axs[0].plot(df['di'], df['ink_visc'], label=tw, color=cm[i])\n",
    "    axs[1].plot(df['di'], df['sup_visc'], label=tw, color=cm[i])\n",
    "    axs[2].plot(df['di'], df['viscRatio'], label=tw, color=cm[i])\n",
    "\n",
    "    \n",
    "axs[0].legend(title='$t_w$ (mm)')\n",
    "axs[0].set_ylabel('Ink viscosity (Pa$\\cdot$s)')\n",
    "axs[1].set_ylabel('Support viscosity (Pa$\\cdot$s)')\n",
    "for ax in [axs[0], axs[1]]:\n",
    "    ax.set_ylim([0.4, 3.5])\n",
    "axs[2].set_ylabel('Ink viscosity/support viscosity')\n",
    "for ax in axs:\n",
    "    ax.set_xlabel('$d_i$ (mm)')\n",
    "    setSquare(ax)\n",
    "fig.tight_layout()\n",
    "intm.exportIm(os.path.join(EXPORTFOLDER, 'viscRatio_d.pdf'), fig)"
   ]
  },
  {
   "cell_type": "markdown",
   "id": "a35e4a5f",
   "metadata": {},
   "source": [
    "### speed"
   ]
  },
  {
   "cell_type": "code",
   "execution_count": null,
   "id": "9d67006b",
   "metadata": {
    "tags": []
   },
   "outputs": [],
   "source": [
    "for na in [0, 15]:\n",
    "    withinNozzle0(os.path.join(SERVERFOLDER, 'HB_speed'), EXPORTFOLDER, 2.5, 2\n",
    "              , zunits='nozzle_inner_width', \n",
    "              cvar='vsup', overwrite=True \n",
    "              , xvar='rbar', volume=False\n",
    "              , vsup_list=[5, 7.5, 10, 12.5, 15]\n",
    "             , nozzle_angle_list=[na])"
   ]
  },
  {
   "cell_type": "code",
   "execution_count": null,
   "id": "67e394c7",
   "metadata": {},
   "outputs": [],
   "source": [
    "txtPlots0(os.path.join(SERVERFOLDER, 'HB_speed'), EXPORTFOLDER\n",
    "         , xunits='nozzle_inner_width', \n",
    "         cvar='vsup', xvar='vsup', yvar='nozzle_angle',\n",
    "         vsup_list=[5, 7.5, 10, 12.5, 15], overwrite=True, fontsize=20)"
   ]
  },
  {
   "cell_type": "code",
   "execution_count": null,
   "id": "684d7ce5",
   "metadata": {
    "tags": []
   },
   "outputs": [],
   "source": [
    "XSPlots0(os.path.join(SERVERFOLDER, 'HB_speed'), EXPORTFOLDER, 2.5, 8\n",
    "         , xunits='nozzle_inner_width', \n",
    "         cvar='vsup', xvar='vsup', yvar='nozzle_angle',\n",
    "         vsup_list=[5, 7.5, 10, 12.5, 15], overwrite=True)"
   ]
  },
  {
   "cell_type": "code",
   "execution_count": null,
   "id": "16d8ae6c",
   "metadata": {
    "tags": []
   },
   "outputs": [],
   "source": [
    "for na in [0,15]:\n",
    "    survivalRMultiRow(os.path.join(SERVERFOLDER, 'HB_speed'), EXPORTFOLDER, cvar='vsup'\n",
    "                  , volume=False\n",
    "                  , vsup_list=[5, 7.5, 10, 12.5, 15]\n",
    "                  , nozzle_angle_list=[na], overwrite=True)"
   ]
  },
  {
   "cell_type": "code",
   "execution_count": null,
   "id": "37320a7e",
   "metadata": {
    "tags": []
   },
   "outputs": [],
   "source": [
    "picPlots0(os.path.join(SERVERFOLDER, 'HB_speed'), EXPORTFOLDER, 2.5, 0\n",
    "          , tag='y_shearStressy', overwrite=True, xvar='vsup', yvar='nozzle_angle'\n",
    "          , vsup_list=[5, 7.5, 10, 12.5, 15])"
   ]
  },
  {
   "cell_type": "code",
   "execution_count": null,
   "id": "4ea731b0",
   "metadata": {},
   "outputs": [],
   "source": [
    "viscRatioPlot0(os.path.join(SERVERFOLDER, 'HB_speed'), EXPORTFOLDER\n",
    "               , 2.5, 8, xunits='nozzle_inner_width', yvar='aspectratio', cvar='vsup', mvar='nozzle_angle'\n",
    "              , overwrite=True, export=True, vsup_list=[5, 7.5, 10, 12.5, 15])"
   ]
  },
  {
   "cell_type": "markdown",
   "id": "86d3bc00",
   "metadata": {},
   "source": [
    "### diameter"
   ]
  },
  {
   "cell_type": "code",
   "execution_count": null,
   "id": "d5de9645",
   "metadata": {
    "tags": []
   },
   "outputs": [],
   "source": [
    "topfolder = os.path.join(SERVERFOLDER, 'HB_diameter')\n",
    "for na in [0, 15]:\n",
    "    withinNozzle0(topfolder, EXPORTFOLDER, 2.5, -2\n",
    "                  , zunits='nozzle_inner_width', cvar='nozzle_inner_width'\n",
    "                  , xvar='rbar', volume=False\n",
    "                  , nozzle_angle_list=[na], overwrite=True)"
   ]
  },
  {
   "cell_type": "code",
   "execution_count": null,
   "id": "35180a17",
   "metadata": {
    "tags": []
   },
   "outputs": [],
   "source": [
    "topfolder = os.path.join(SERVERFOLDER, 'HB_diameter')\n",
    "XSPlots0(topfolder, EXPORTFOLDER, 2.5, 6, xunits='nozzle_inner_width'\n",
    "         , cvar='nozzle_inner_width', xvar='nozzle_inner_width'\n",
    "         , yvar='vink', nozzle_angle_list=[0],  overwrite=True)"
   ]
  },
  {
   "cell_type": "code",
   "execution_count": null,
   "id": "d00f0ded",
   "metadata": {
    "tags": []
   },
   "outputs": [],
   "source": [
    "topfolder = os.path.join(SERVERFOLDER, 'HB_diameter')\n",
    "XSPlots0(topfolder, EXPORTFOLDER, 2.5, 6, xunits='nozzle_inner_width'\n",
    "         , cvar='nozzle_inner_width', xvar='vink', bn_list=['cn209', 'cn208', 'cn137', 'cn226']\n",
    "         , yvar='vink', nozzle_angle_list=[0],  overwrite=True)"
   ]
  },
  {
   "cell_type": "code",
   "execution_count": null,
   "id": "743a6308",
   "metadata": {
    "tags": []
   },
   "outputs": [],
   "source": [
    "topfolder = os.path.join(SERVERFOLDER, 'HB_diameter')\n",
    "XSPlots0(topfolder, EXPORTFOLDER, 2.5, 6, xunits='nozzle_inner_width'\n",
    "         , cvar='nozzle_inner_width', xvar='ink_k', bn_list=['cn254', 'cn253', 'cn137', 'cn252']\n",
    "         , yvar='ink_k', nozzle_angle_list=[0],  overwrite=True)"
   ]
  },
  {
   "cell_type": "code",
   "execution_count": null,
   "id": "c2bd1774",
   "metadata": {},
   "outputs": [],
   "source": [
    "for f in ['cn209', 'cn208', 'cn137', 'cn226']:\n",
    "    stabilityPlot(os.path.join(SERVERFOLDER, 'HB_diameter', f), EXPORTFOLDER, 2.5, 8, xunits='nozzle_inner_width', export=True)"
   ]
  },
  {
   "cell_type": "code",
   "execution_count": null,
   "id": "dc8aedbe",
   "metadata": {
    "tags": []
   },
   "outputs": [],
   "source": [
    "topfolder = os.path.join(SERVERFOLDER, 'HB_diameter')\n",
    "txtPlots0(topfolder, EXPORTFOLDER, xunits='nozzle_inner_width'\n",
    "         , cvar='nozzle_inner_width', xvar='nozzle_inner_width'\n",
    "         , yvar='vink', nozzle_angle_list=[0], overwrite=True, fontsize=20)"
   ]
  },
  {
   "cell_type": "code",
   "execution_count": null,
   "id": "0446d1e0",
   "metadata": {
    "tags": []
   },
   "outputs": [],
   "source": [
    "topfolder = os.path.join(SERVERFOLDER, 'HB_diameter')\n",
    "txtPlots0(topfolder, EXPORTFOLDER, xunits='nozzle_inner_width'\n",
    "         , cvar='nozzle_inner_width', xvar='nozzle_inner_width'\n",
    "         , yvar='nozzle_angle', vsup_list=[10], overwrite=True, fontsize=20)"
   ]
  },
  {
   "cell_type": "code",
   "execution_count": null,
   "id": "8f4f1594",
   "metadata": {
    "tags": []
   },
   "outputs": [],
   "source": [
    "topfolder = os.path.join(SERVERFOLDER, 'HB_diameter')\n",
    "XSPlots0(topfolder, EXPORTFOLDER, 2.5, 6, xunits='nozzle_inner_width'\n",
    "         , cvar='nozzle_inner_width', xvar='nozzle_inner_width'\n",
    "         , yvar='vink', nozzle_angle_list=[0], overwrite=True)"
   ]
  },
  {
   "cell_type": "code",
   "execution_count": null,
   "id": "360bb979",
   "metadata": {
    "tags": []
   },
   "outputs": [],
   "source": [
    "topfolder = os.path.join(SERVERFOLDER, 'HB_diameter')\n",
    "for s in ['y_umag', 'y_viscy', 'a_stre', 'y_py', 'x_viscx']:\n",
    "    picPlots0(topfolder, EXPORTFOLDER, 2.5, 0, tag=s, overwrite=True, supv_list=[10]\n",
    "          , xvar='nozzle_inner_width', yvar='nozzle_angle')"
   ]
  },
  {
   "cell_type": "code",
   "execution_count": null,
   "id": "214f52c5",
   "metadata": {
    "tags": []
   },
   "outputs": [],
   "source": [
    "topfolder = os.path.join(SERVERFOLDER, 'HB_diameter')\n",
    "for na in [0,15]:\n",
    "    survivalRMultiRow(topfolder, EXPORTFOLDER, cvar='nozzle_inner_width'\n",
    "                  , nozzle_angle_list=[na], volume=False, overwrite=True, export=True)"
   ]
  },
  {
   "cell_type": "code",
   "execution_count": null,
   "id": "3cb08a1c",
   "metadata": {},
   "outputs": [],
   "source": [
    "[metricVals(os.path.join(SERVERFOLDER, 'HB_diameter', s), 2.5, 8\n",
    "           , ['aspectratio'], xunits='nozzle_inner_width') for s in ['cn208', 'cn209', 'cn226', 'cn137']]"
   ]
  },
  {
   "cell_type": "code",
   "execution_count": null,
   "id": "3674c747",
   "metadata": {},
   "outputs": [],
   "source": [
    "0.7072309/0.6310286"
   ]
  },
  {
   "cell_type": "code",
   "execution_count": null,
   "id": "334afdd7",
   "metadata": {},
   "outputs": [],
   "source": [
    "l1 = [metricVals(os.path.join(SERVERFOLDER, 'HB_diameter', s), 2.5, 8\n",
    "           , ['aspectratio'], xunits='nozzle_inner_width') for s in ['cn212', 'cn229']]\n",
    "print(l1)\n",
    "l1[1]['aspectratio']/l1[0]['aspectratio']"
   ]
  },
  {
   "cell_type": "code",
   "execution_count": null,
   "id": "1fe26d10",
   "metadata": {},
   "outputs": [],
   "source": [
    "for s in ['cn209', 'cn226']:\n",
    "    xlist, ylist = shearStressCalcSlice(os.path.join(SERVERFOLDER, 'HB_diameter', s), 2.5, 'nozzle_inner_width')\n",
    "    print(s, np.mean(ylist[0:20]))\n",
    "(45.585-31.377)/45.585"
   ]
  },
  {
   "cell_type": "code",
   "execution_count": null,
   "id": "618c0713",
   "metadata": {},
   "outputs": [],
   "source": [
    "viscRatioPlot0(os.path.join(SERVERFOLDER, 'HB_diameter'), EXPORTFOLDER\n",
    "               , 2.5, 8, xunits='nozzle_inner_width'\n",
    "               , yvar='aspectratio', cvar='nozzle_inner_width'\n",
    "               , xvar='viscRatio', mvar='vsup', nozzle_angle_list=[0]\n",
    "              , overwrite=True, export=True)"
   ]
  },
  {
   "cell_type": "code",
   "execution_count": null,
   "id": "024e6357",
   "metadata": {
    "tags": []
   },
   "outputs": [],
   "source": [
    "topfolder = os.path.join(SERVERFOLDER, 'HB_diameter')\n",
    "linePlots0(topfolder, EXPORTFOLDER, 'nozzle_inner_width', 2.5\n",
    "           , imsize=6.5, yvar=['vz', 'vx', 'nu'], \n",
    "           x=2, xunits='nozzle_inner_width', bn_list=['cn209', 'cn208', 'cn137', 'cn226'],\n",
    "           zunits='nozzle_inner_width', nozzle_angle_list=[0], export=True, overwrite=True)"
   ]
  },
  {
   "cell_type": "code",
   "execution_count": null,
   "id": "5dcf10d1",
   "metadata": {
    "tags": []
   },
   "outputs": [],
   "source": [
    "topfolder = os.path.join(SERVERFOLDER, 'HB_diameter')\n",
    "linePlots0(topfolder, EXPORTFOLDER, 'nozzle_inner_width', 2.5\n",
    "           , imsize=6.5, yvar=['vz', 'vx', 'nu'], \n",
    "           x=2, xunits='nozzle_inner_width', bn_list=['cn254', 'cn253', 'cn137', 'cn252'],\n",
    "           zunits='nozzle_inner_width', nozzle_angle_list=[0], export=True, overwrite=True)"
   ]
  },
  {
   "cell_type": "code",
   "execution_count": null,
   "id": "f238e894",
   "metadata": {
    "tags": []
   },
   "outputs": [],
   "source": [
    "picPlots0(os.path.join(SERVERFOLDER, 'HB_diameter'), EXPORTFOLDER, 2.5, 0\n",
    "          , tag='y_shearStressy', overwrite=True, \n",
    "          cvar='nozzle_inner_width', xvar='nozzle_inner_width'\n",
    "         , yvar='nozzle_angle', vsup_list=[10])"
   ]
  },
  {
   "cell_type": "markdown",
   "id": "269e72de",
   "metadata": {},
   "source": [
    "### newtonian diameter"
   ]
  },
  {
   "cell_type": "code",
   "execution_count": null,
   "id": "3711a380",
   "metadata": {
    "tags": []
   },
   "outputs": [],
   "source": [
    "extractTP(os.path.join(SERVERFOLDER, 'newt_diameter', 'cn255'))"
   ]
  },
  {
   "cell_type": "code",
   "execution_count": null,
   "id": "1cff72b8",
   "metadata": {
    "tags": []
   },
   "outputs": [],
   "source": [
    "topfolder = os.path.join(SERVERFOLDER, 'newt_diameter')\n",
    "withinNozzle0(topfolder, EXPORTFOLDER, 2.5, -2\n",
    "                  , zunits='nozzle_inner_width', cvar='nozzle_inner_width'\n",
    "                  , xvar='rbar', volume=False, vink_list=[10]\n",
    "                  , overwrite=True)"
   ]
  },
  {
   "cell_type": "code",
   "execution_count": null,
   "id": "e130246d",
   "metadata": {
    "tags": []
   },
   "outputs": [],
   "source": [
    "topfolder = os.path.join(SERVERFOLDER, 'newt_diameter')\n",
    "withinNozzle0(topfolder, EXPORTFOLDER, 2.5, -2\n",
    "                  , zunits='nozzle_inner_width', cvar='nozzle_inner_width'\n",
    "                  , xvar='rbar', volume=False, vink_list=[10]\n",
    "                  , overwrite=True)"
   ]
  },
  {
   "cell_type": "code",
   "execution_count": null,
   "id": "885c75a4",
   "metadata": {},
   "outputs": [],
   "source": [
    "txtPlots0(os.path.join(SERVERFOLDER, 'newt_diameter'), EXPORTFOLDER, xunits='nozzle_inner_width'\n",
    "         , cvar='nozzle_inner_width', xvar='nozzle_inner_width'\n",
    "         , yvar='vink', overwrite=True, fontsize=20)"
   ]
  },
  {
   "cell_type": "code",
   "execution_count": null,
   "id": "38d3f0f2",
   "metadata": {
    "tags": []
   },
   "outputs": [],
   "source": [
    "topfolder = os.path.join(SERVERFOLDER, 'newt_diameter')\n",
    "XSPlots0(topfolder, EXPORTFOLDER, 2.5, 6, xunits='nozzle_inner_width'\n",
    "         , cvar='nozzle_inner_width', xvar='nuink', bn_list=['cn243', 'cn242', 'cn200', 'cn255']\n",
    "         , yvar='nuink', overwrite=True)"
   ]
  },
  {
   "cell_type": "code",
   "execution_count": null,
   "id": "9bae8773",
   "metadata": {
    "tags": []
   },
   "outputs": [],
   "source": [
    "topfolder = os.path.join(SERVERFOLDER, 'newt_diameter')\n",
    "XSPlots0(topfolder, EXPORTFOLDER, 2.5, 6, xunits='nozzle_inner_width'\n",
    "         , cvar='nozzle_inner_width', xvar='nuink', bn_list=['cn248', 'cn247', 'cn200', 'cn244']\n",
    "         , yvar='nuink', overwrite=True)"
   ]
  },
  {
   "cell_type": "code",
   "execution_count": null,
   "id": "eddca56b",
   "metadata": {
    "tags": []
   },
   "outputs": [],
   "source": [
    "topfolder = os.path.join(SERVERFOLDER, 'newt_diameter')\n",
    "XSPlots0(topfolder, EXPORTFOLDER, 2.5, 6, xunits='nozzle_inner_width'\n",
    "         , cvar='nozzle_inner_width', xvar='nozzle_inner_width', vink_list=[10]\n",
    "         , yvar='vink', overwrite=True)"
   ]
  },
  {
   "cell_type": "code",
   "execution_count": null,
   "id": "944b7ed9",
   "metadata": {
    "tags": []
   },
   "outputs": [],
   "source": [
    "picPlots0(os.path.join(SERVERFOLDER, 'newt_diameter'), EXPORTFOLDER, 2.5, 0\n",
    "          , tag='y_shearStressy', cvar='nozzle_inner_width'\n",
    "          , xvar='nozzle_inner_width', vink_list=[10]\n",
    "         , yvar='vink', overwrite=True)"
   ]
  },
  {
   "cell_type": "code",
   "execution_count": null,
   "id": "07f71fdd",
   "metadata": {},
   "outputs": [],
   "source": [
    "topfolder = os.path.join(SERVERFOLDER, 'newt_diameter')\n",
    "kwargs = {'ylims':[[0, 2100], [0, 3100], [0, 21]], 'export':True, 'overwrite':True}\n",
    "analyticalPlot(topfolder, EXPORTFOLDER, [10], [0.26, 0.413, 0.603, 0.838], [10], [0], **kwargs)\n",
    "withinNozzle0(topfolder, EXPORTFOLDER, 2.5, -2\n",
    "                  , zunits='nozzle_inner_width', cvar='nozzle_inner_width'\n",
    "                  , xvar='rbar', volume=False\n",
    "                  , vink_list=[10], **kwargs)"
   ]
  },
  {
   "cell_type": "markdown",
   "id": "97f275e1",
   "metadata": {},
   "source": [
    "## newtonian"
   ]
  },
  {
   "cell_type": "code",
   "execution_count": null,
   "id": "87e88adc",
   "metadata": {
    "tags": []
   },
   "outputs": [],
   "source": [
    "topfolder = os.path.join(SERVERFOLDER, 'newt_angle')\n",
    "XSPlots0(topfolder, EXPORTFOLDER, 2.5 , 8, xunits='nozzle_inner_width'\n",
    "         , cvar='nozzle_angle', xvar='nozzle_angle', yvar='nuink', overwrite=True\n",
    "        , dy=0.7, dx=0.4)"
   ]
  },
  {
   "cell_type": "code",
   "execution_count": null,
   "id": "0201ebc6",
   "metadata": {
    "tags": []
   },
   "outputs": [],
   "source": [
    "topfolder = os.path.join(SERVERFOLDER, 'newt_angle')\n",
    "for nuink in [1,10]:\n",
    "    withinNozzle0(topfolder, EXPORTFOLDER, 2.5, -2\n",
    "                  , zunits='nozzle_inner_width', cvar='nozzle_angle'\n",
    "                  , xvar='rbar', volume=False, export=True\n",
    "                  , nuink_list=[nuink], overwrite=True)"
   ]
  },
  {
   "cell_type": "code",
   "execution_count": null,
   "id": "0ef45d2a",
   "metadata": {},
   "outputs": [],
   "source": [
    "topfolder = os.path.join(SERVERFOLDER, 'newt_angle')\n",
    "kwargs = {'ylims':[[0,1000], [0,1400], [0,21]], 'export':True, 'overwrite':True}\n",
    "analyticalPlot(topfolder, EXPORTFOLDER, [10], [0.603], [10], [0,5,10,15,20,25,30], **kwargs)\n",
    "withinNozzle0(topfolder, EXPORTFOLDER, 2.5, -2\n",
    "                  , zunits='nozzle_inner_width', cvar='nozzle_angle'\n",
    "                  , xvar='rbar', volume=False\n",
    "                  , nuink_list=[10], **kwargs)"
   ]
  },
  {
   "cell_type": "code",
   "execution_count": null,
   "id": "02840212",
   "metadata": {
    "tags": []
   },
   "outputs": [],
   "source": [
    "topfolder = os.path.join(SERVERFOLDER, 'newt_angle')\n",
    "for nuink in [1, 10]:\n",
    "    survivalRMultiRow(topfolder, EXPORTFOLDER, cvar='nozzle_angle', a3=10**-4, fontsize=8\n",
    "                  , nuink_list=[nuink], volume=False, overwrite=True, export=True)"
   ]
  },
  {
   "cell_type": "code",
   "execution_count": null,
   "id": "28d300af",
   "metadata": {
    "tags": []
   },
   "outputs": [],
   "source": [
    "kwargs = {'xvar':'nozzle_angle', 'nuink_list':[10] , 'nozzle_angle_list':[0,10,20,30]\n",
    "          , 'export':True, 'overwrite':True}\n",
    "topfolder = os.path.join(SERVERFOLDER, 'newt_angle')\n",
    "picPlots0(topfolder, EXPORTFOLDER, 2.5, 0, tag='a_stre', imsize=8, yvar='nuink',\n",
    "               **kwargs)"
   ]
  },
  {
   "cell_type": "code",
   "execution_count": null,
   "id": "773e62ea",
   "metadata": {
    "tags": []
   },
   "outputs": [],
   "source": [
    "kwargs = {'xvar':'nozzle_angle'\n",
    "          , 'nozzle_angle_list':[0,10,20,30], 'export':True, 'overwrite':True}\n",
    "\n",
    "for s in ['newt_angle', 'HB_angle']:\n",
    "    topfolder = os.path.join(SERVERFOLDER, s)\n",
    "    if s=='newt_angle':\n",
    "        kwargs['nuink_list']=[10]\n",
    "    else:\n",
    "        kwargs.pop('nuink_list')\n",
    "        kwargs['bath_depth_list'] = [6.05]\n",
    "    linePlots0(topfolder, EXPORTFOLDER, 'nozzle_angle', 2.5, imsize=6.5\n",
    "           , yvar=['vz', 'vx', 'nu'], x=1.4, **kwargs)\n",
    "    picPlots0(topfolder, EXPORTFOLDER, 2.5, 0, tag='a_stre', imsize=8, yvar='ink_rho',\n",
    "               **kwargs)"
   ]
  },
  {
   "cell_type": "code",
   "execution_count": null,
   "id": "f9921c63",
   "metadata": {},
   "outputs": [],
   "source": [
    "viscRatioPlot0(os.path.join(SERVERFOLDER, 'newt_angle'), EXPORTFOLDER\n",
    "               , 2.5, 8, xunits='nozzle_inner_width'\n",
    "               , yvar='aspectratio', cvar='nuink'\n",
    "              , overwrite=True, export=True)"
   ]
  },
  {
   "cell_type": "code",
   "execution_count": null,
   "id": "a9b9b520",
   "metadata": {
    "tags": []
   },
   "outputs": [],
   "source": [
    "picPlots0(os.path.join(SERVERFOLDER, 'newt_angle'), EXPORTFOLDER, 2.5, 0\n",
    "          , tag='y_shearStressy', xvar='nozzle_angle'\n",
    "          , yvar='nuink', cvar='nuink'\n",
    "              , overwrite=True, export=True)"
   ]
  },
  {
   "cell_type": "markdown",
   "id": "b29ca3a9",
   "metadata": {},
   "source": [
    "## viscosity (k)"
   ]
  },
  {
   "cell_type": "code",
   "execution_count": null,
   "id": "a345e108",
   "metadata": {
    "tags": []
   },
   "outputs": [],
   "source": [
    "topfolder = os.path.join(SERVERFOLDER, 'HB_k')\n",
    "kwargs = {'xunits':'nozzle_inner_width', 'xvar':'kink', \n",
    "          'cvar':'kink', 'yvar':'nozzle_angle',\n",
    "         'overwrite':True, 'export':True}\n",
    "\n",
    "XSPlots0(topfolder, EXPORTFOLDER, 2.5 , 8, dx=0.5, **kwargs)"
   ]
  },
  {
   "cell_type": "code",
   "execution_count": null,
   "id": "a60d1242",
   "metadata": {
    "tags": []
   },
   "outputs": [],
   "source": [
    "topfolder = os.path.join(SERVERFOLDER, 'HB_k')\n",
    "kwargs = {'xunits':'nozzle_inner_width', 'xvar':'kink', \n",
    "          'cvar':'kink', 'yvar':'nozzle_angle',\n",
    "         'overwrite':True, 'export':True}\n",
    "\n",
    "picPlots0(topfolder, EXPORTFOLDER, 2.5,0, 'y_shearStressy'\n",
    "          , crops={'cropxl':200/1200, 'cropxr':500/1200, 'cropyt':400/1216, 'cropyb':650/1216}\n",
    "          , **kwargs)"
   ]
  },
  {
   "cell_type": "code",
   "execution_count": null,
   "id": "1847f4e8",
   "metadata": {},
   "outputs": [],
   "source": [
    "topfolder = os.path.join(SERVERFOLDER, 'HB_k')\n",
    "kwargs = {'xunits':'nozzle_inner_width', 'xvar':'kink', \n",
    "          'cvar':'kink', 'yvar':'nozzle_angle',\n",
    "         'overwrite':True, 'export':True}\n",
    "\n",
    "# for s in ['a_stre', 'y_viscy', 'x_viscx', 'y_py']:\n",
    "for s in ['y_shearStressy']:\n",
    "    picPlots0(topfolder, EXPORTFOLDER, 2.5,0, s\n",
    "          , **kwargs)"
   ]
  },
  {
   "cell_type": "code",
   "execution_count": null,
   "id": "dab708c8",
   "metadata": {
    "tags": []
   },
   "outputs": [],
   "source": [
    "topfolder = os.path.join(SERVERFOLDER, 'HB_k')\n",
    "kwargs = {'xunits':'nozzle_inner_width', 'xvar':'kink', \n",
    "          'cvar':'kink', 'yvar':'nozzle_angle',\n",
    "         'overwrite':True, 'export':True}\n",
    "\n",
    "txtPlots0(topfolder, EXPORTFOLDER,  **kwargs)"
   ]
  },
  {
   "cell_type": "code",
   "execution_count": null,
   "id": "5f5dd8ef",
   "metadata": {
    "tags": []
   },
   "outputs": [],
   "source": [
    "topfolder = os.path.join(SERVERFOLDER, 'HB_k')\n",
    "kwargs = {'zunits':'nozzle_inner_width', 'cvar':'kink', 'xvar':'rbar', \n",
    "         'overwrite':True, 'export':True, 'volume':False, 'logy':True}\n",
    "for nozzle_angle in [0,15]:\n",
    "    withinNozzle0(topfolder, EXPORTFOLDER, 2.5, 2, nozzle_angle_list=[nozzle_angle], **kwargs)"
   ]
  },
  {
   "cell_type": "code",
   "execution_count": null,
   "id": "e2605d37",
   "metadata": {
    "tags": []
   },
   "outputs": [],
   "source": [
    "topfolder = os.path.join(SERVERFOLDER, 'HB_k')\n",
    "kwargs = {'zunits':'nozzle_inner_width', 'cvar':'kink',\n",
    "         'overwrite':True, 'export':True, 'volume':False, 'logx':True, 'a3':10**-4}\n",
    "for nozzle_angle in [0,15]:\n",
    "    survivalRMultiRow(topfolder, EXPORTFOLDER, nozzle_angle_list=[nozzle_angle], **kwargs)"
   ]
  },
  {
   "cell_type": "code",
   "execution_count": null,
   "id": "1216c79a",
   "metadata": {
    "tags": []
   },
   "outputs": [],
   "source": [
    "viscRatioPlot0(os.path.join(SERVERFOLDER, 'HB_k'), EXPORTFOLDER\n",
    "               , 2.5, 8, xunits='nozzle_inner_width'\n",
    "               , yvar='aspectratio', cvar='ink_k'\n",
    "              , overwrite=True, export=True)"
   ]
  },
  {
   "cell_type": "code",
   "execution_count": null,
   "id": "13dbfc55",
   "metadata": {
    "tags": []
   },
   "outputs": [],
   "source": [
    "topfolder = os.path.join(SERVERFOLDER, 'HB_k')\n",
    "kwargs = {'xunits':'nozzle_inner_width', 'xvar':'kink', \n",
    "          'cvar':'kink', 'yvar':'nozzle_angle',\n",
    "         'overwrite':True, 'export':False}\n",
    "\n",
    "txtPlots0(topfolder, EXPORTFOLDER, fontsize=12, **kwargs)"
   ]
  },
  {
   "cell_type": "code",
   "execution_count": null,
   "id": "0f83ac3c",
   "metadata": {},
   "outputs": [],
   "source": [
    "topfolder = os.path.join(SERVERFOLDER, 'HB_k')\n",
    "linePlots0(topfolder, EXPORTFOLDER, 'kink', 2.5, imsize=6.5\n",
    "           , yvar=['vz', 'vx', 'nu'], \n",
    "           x=1.4, nozzle_angle_list=[0]\n",
    "           , export=True, overwrite=True)"
   ]
  },
  {
   "cell_type": "markdown",
   "id": "e438326c",
   "metadata": {},
   "source": [
    "### Newtonian viscosity sweep"
   ]
  },
  {
   "cell_type": "code",
   "execution_count": null,
   "id": "6e70520d",
   "metadata": {
    "tags": []
   },
   "outputs": [],
   "source": [
    "topfolder = os.path.join(SERVERFOLDER, 'newt_visc')\n",
    "kwargs = {'xunits':'nozzle_inner_width', 'xvar':'nuink', \n",
    "          'cvar':'nuink', 'yvar':'nozzle_angle',\n",
    "         'overwrite':True, 'export':True, 'imsize':8}\n",
    "\n",
    "XSPlots0(topfolder, EXPORTFOLDER, 2.5, 8, dx=0.4,  **kwargs)"
   ]
  },
  {
   "cell_type": "code",
   "execution_count": null,
   "id": "6194507f",
   "metadata": {
    "tags": []
   },
   "outputs": [],
   "source": [
    "topfolder = os.path.join(SERVERFOLDER, 'newt_visc')\n",
    "kwargs = {'xunits':'nozzle_inner_width', 'xvar':'rbar',\n",
    "          'cvar':'nuink', 'logy':True, 'zunits':'nozzle_inner_width',\n",
    "         'overwrite':True, 'export':True, 'imsize':8, 'volume':False}\n",
    "withinNozzle0(topfolder, EXPORTFOLDER, 2.5, 2, **kwargs)"
   ]
  },
  {
   "cell_type": "code",
   "execution_count": null,
   "id": "606f2e16",
   "metadata": {
    "tags": []
   },
   "outputs": [],
   "source": [
    "topfolder = os.path.join(SERVERFOLDER, 'newt_visc')\n",
    "kwargs = {'xunits':'nozzle_inner_width', 'xvar':'nuink', 'zunits':'nozzle_inner_width',\n",
    "          'cvar':'nuink', 'yvar':'nozzle_angle', 'volume':False, \n",
    "         'overwrite':True, 'export':True, 'imsize':8, 'a3':10**-6, 'a2':10**-4, 'a1':1}\n",
    "survivalRMultiRow(topfolder, EXPORTFOLDER, **kwargs)"
   ]
  },
  {
   "cell_type": "code",
   "execution_count": null,
   "id": "ee6a616b",
   "metadata": {},
   "outputs": [],
   "source": [
    "viscRatioPlot0(os.path.join(SERVERFOLDER, 'newt_visc'), EXPORTFOLDER\n",
    "               , 2.5, 8, xunits='nozzle_inner_width'\n",
    "               , yvar='aspectratio', cvar='nuink'\n",
    "              , overwrite=True, export=True)"
   ]
  },
  {
   "cell_type": "code",
   "execution_count": null,
   "id": "cbe55e23",
   "metadata": {},
   "outputs": [],
   "source": [
    "topfolder = os.path.join(SERVERFOLDER, 'newt_visc')\n",
    "kwargs = {'ylims':[[5*10**0, 5*10**7], [10, 5*10**7], [0, 20]], 'export':True, 'overwrite':True, 'logy':True,\n",
    "          'xunits':'nozzle_inner_width', \n",
    "          'cvar':'nuink',  \n",
    "         'volume':False}\n",
    "analyticalPlot(topfolder, EXPORTFOLDER, [10],[0.603],  [10**i for i in range(0,6)], [0], **kwargs)\n",
    "withinNozzle0(topfolder, EXPORTFOLDER, 2.5, 2, zunits='nozzle_inner_width', xvar='rbar', **kwargs)"
   ]
  }
 ],
 "metadata": {
  "kernelspec": {
   "display_name": "Python 3",
   "language": "python",
   "name": "python3"
  },
  "language_info": {
   "codemirror_mode": {
    "name": "ipython",
    "version": 3
   },
   "file_extension": ".py",
   "mimetype": "text/x-python",
   "name": "python",
   "nbconvert_exporter": "python",
   "pygments_lexer": "ipython3",
   "version": "3.8.3"
  }
 },
 "nbformat": 4,
 "nbformat_minor": 5
}
