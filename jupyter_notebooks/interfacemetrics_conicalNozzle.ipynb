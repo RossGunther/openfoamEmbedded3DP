{
 "cells": [
  {
   "cell_type": "code",
   "execution_count": 3,
   "id": "859e69eb",
   "metadata": {},
   "outputs": [],
   "source": [
    "%load_ext autoreload\n",
    "%autoreload 2"
   ]
  },
  {
   "cell_type": "code",
   "execution_count": 4,
   "id": "257da217",
   "metadata": {},
   "outputs": [],
   "source": [
    "import os\n",
    "import sys\n",
    "sys.path.append(\"../\")\n",
    "sys.path.append(\"../py\")\n",
    "import folderparser as fp\n",
    "import folderscraper as fs\n",
    "import interfacemetrics as intm\n",
    "from interfacePlots import *\n",
    "from config import cfg\n",
    "import logging"
   ]
  },
  {
   "cell_type": "code",
   "execution_count": 5,
   "id": "32d9fb9d",
   "metadata": {},
   "outputs": [],
   "source": [
    "logger = logging.getLogger()\n",
    "logger.setLevel(logging.DEBUG)"
   ]
  },
  {
   "cell_type": "code",
   "execution_count": 6,
   "id": "a9ecdc77",
   "metadata": {},
   "outputs": [],
   "source": [
    "# top folder where all sims are stored\n",
    "SERVERFOLDER = os.path.join(cfg.path.server, r'conicalNozzle')\n",
    "\n",
    "# folder where summary tables, figures should be exported\n",
    "EXPORTFOLDER = os.path.join(cfg.path.fig, 'conicalNozzle', 'plots')\n",
    "\n",
    "# folders where sims are stored\n",
    "TOPFOLDERS = [os.path.join(SERVERFOLDER, s) for s in ['orig', 'speed_sweep', 'diameter', 'k', 'newtonian', 'newt_diameter']]"
   ]
  },
  {
   "cell_type": "markdown",
   "id": "8c7fab6e",
   "metadata": {},
   "source": [
    "# Generating Files"
   ]
  },
  {
   "cell_type": "markdown",
   "id": "36297ce9",
   "metadata": {},
   "source": [
    "#### generate table of metadata for all folders"
   ]
  },
  {
   "cell_type": "code",
   "execution_count": null,
   "id": "4407b49e",
   "metadata": {
    "tags": []
   },
   "outputs": [],
   "source": [
    "import pandas as pd\n",
    "o = []\n",
    "for topfolder in TOPFOLDERS:\n",
    "    for f in fp.caseFolders(topfolder):\n",
    "        fs.populate(f)\n",
    "        l = fp.legendUnique(f)\n",
    "        if len(l)>0:\n",
    "            o.append(l)\n",
    "p = pd.DataFrame(o)\n",
    "fn = os.path.join(cfg.path.fig, 'conicalNozzle', 'legend_general.csv')\n",
    "p.to_csv(fn)\n",
    "logging.info(f'Exported {fn}')"
   ]
  },
  {
   "cell_type": "code",
   "execution_count": null,
   "id": "22b0ef14",
   "metadata": {
    "tags": []
   },
   "outputs": [],
   "source": [
    "import pandas as pd\n",
    "o = []\n",
    "for topfolder in [os.path.join(SERVERFOLDER, 'newt_diameter')]:\n",
    "    for f in fp.caseFolders(topfolder):\n",
    "        fs.populate(f)\n",
    "        l = fp.legendUnique(f)\n",
    "        if len(l)>0:\n",
    "            o.append(l)\n",
    "p = pd.DataFrame(o)\n",
    "fn = os.path.join(SERVERFOLDER, 'newt_diameter', 'newt_diameter_legend.csv')\n",
    "p.to_csv(fn)\n",
    "logging.info(f'Exported {fn}')"
   ]
  },
  {
   "cell_type": "markdown",
   "id": "627aae6d",
   "metadata": {},
   "source": [
    "#### summarize data for each folder"
   ]
  },
  {
   "cell_type": "code",
   "execution_count": null,
   "id": "bc02545e",
   "metadata": {
    "tags": []
   },
   "outputs": [],
   "source": [
    "for topfolder in TOPFOLDERS:\n",
    "    for folder in fp.caseFolders(topfolder):\n",
    "        df, u = intm.importSS(folder)\n",
    "        if len(df)>0:\n",
    "            dftimes = df.time.unique()\n",
    "            files = os.listdir(os.path.join(folder, 'interfacePoints'))\n",
    "            if len(dftimes)<len(files):\n",
    "                intm.sumAndSteady(folder, True)"
   ]
  },
  {
   "cell_type": "markdown",
   "id": "3a47e02d",
   "metadata": {},
   "source": [
    "# Plots"
   ]
  },
  {
   "cell_type": "markdown",
   "id": "6c6c05d7",
   "metadata": {},
   "source": [
    "### nozzle angle, bath size"
   ]
  },
  {
   "cell_type": "code",
   "execution_count": 9,
   "id": "f7ada178",
   "metadata": {},
   "outputs": [
    {
     "name": "stdout",
     "output_type": "stream",
     "text": [
      "Help on function withinNozzle0 in module plot_survival:\n",
      "\n",
      "withinNozzle0(topFolder: str, exportFolder: str, time: float, zabove, zunits: str = 'mm', cvar: str = 'nozzle_angle', overwrite: bool = False, export: bool = True, fontsize: int = 8, **kwargs)\n",
      "    plots line traces within the nozzle at a given z position and time. \n",
      "    topfolder is the folder holding the simulations. you can filter the folder using **kwargs, as described in plot_general.listTPvalues\n",
      "    exportFolder is the folder to export figures to\n",
      "    time is the time at which to collect the stress\n",
      "    zabove is the z position relative to the bottom of the nozzle, in units of zunits\n",
      "    zunits is 'mm' or any parameter in legend, e.g. 'nozzle_inner_width'\n",
      "    cvar is the variable to color by\n",
      "    overwrite True to overwrite existing files\n",
      "    export True to export figures\n",
      "\n"
     ]
    }
   ],
   "source": [
    "help(withinNozzle0)"
   ]
  },
  {
   "cell_type": "code",
   "execution_count": null,
   "id": "8dbf0c54",
   "metadata": {
    "tags": []
   },
   "outputs": [],
   "source": [
    "withinNozzle0(TOPFOLDERS[0], EXPORTFOLDER, 2.5, -2\n",
    "              , zunits='nozzle_inner_width'\n",
    "              , bath_depth_list=[6.05], overwrite=True\n",
    "              , volume=False, xvar='rbar')"
   ]
  },
  {
   "cell_type": "code",
   "execution_count": 11,
   "id": "56fb9273",
   "metadata": {},
   "outputs": [
    {
     "name": "stdout",
     "output_type": "stream",
     "text": [
      "Help on function XSPlots0 in module plot_slices:\n",
      "\n",
      "XSPlots0(topFolder: str, exportFolder: str, time: float, xbehind: float, xunits: str = 'mm', overwrite: bool = False, dx: float = 0.5, **kwargs) -> None\n",
      "    plot all cross-sections together\n",
      "    topFolder is the folder that holds all the files\n",
      "    time is the time at which to take the cross-section\n",
      "    xbehind is the distance behind the center of the nozzle to take the cross-section\n",
      "    xunits is 'mm' or 'nozzle_inner_width'\n",
      "    overwrite True to overwrite values\n",
      "    dx is the spacing between cross-sections, in mm\n",
      "\n"
     ]
    }
   ],
   "source": [
    "help(XSPlots0)"
   ]
  },
  {
   "cell_type": "code",
   "execution_count": null,
   "id": "7f4c02fb",
   "metadata": {
    "tags": []
   },
   "outputs": [],
   "source": [
    "XSPlots0(TOPFOLDERS[0], EXPORTFOLDER, 2.5, 8, xunits='nozzle_inner_width', \n",
    "         bath_depth_list=[6.05], cvar='nozzle_angle', \n",
    "         xvar='nozzle_angle', yvar='bath_depth', overwrite=True)"
   ]
  },
  {
   "cell_type": "code",
   "execution_count": 12,
   "id": "d7bf7e43",
   "metadata": {},
   "outputs": [
    {
     "name": "stdout",
     "output_type": "stream",
     "text": [
      "Help on function survivalRMultiRow in module plot_survival:\n",
      "\n",
      "survivalRMultiRow(topFolder: str, exportFolder: str, fontsize: int = 8, export: bool = True, overwrite: bool = False, **kwargs)\n",
      "    plot cell survival as a function of radius, at three weights of the equation\n",
      "\n"
     ]
    }
   ],
   "source": [
    "help(survivalRMultiRow)"
   ]
  },
  {
   "cell_type": "code",
   "execution_count": null,
   "id": "755fadea",
   "metadata": {
    "tags": []
   },
   "outputs": [],
   "source": [
    "survivalRMultiRow(TOPFOLDERS[0], EXPORTFOLDER, \n",
    "                  cvar='nozzle_angle', bath_depth_list=[6.05]\n",
    "                  , overwrite=True, volume=False)"
   ]
  },
  {
   "cell_type": "code",
   "execution_count": 13,
   "id": "ca82d2b3",
   "metadata": {},
   "outputs": [
    {
     "name": "stdout",
     "output_type": "stream",
     "text": [
      "Help on function survivalPlot in module plot_survival:\n",
      "\n",
      "survivalPlot(folder: str, exportFolder: str, xvar: str, time: float = 2.5, a: float = 0.001, b: float = 0.5, c: float = 0.5, zunits: str = 'nozzle_inner_width', fontsize: int = 8, dr: float = 0.05, export: bool = True, overwrite: bool = False, **kwargs)\n",
      "    plot survival as a function of z position, relative radius, or get a single value.\n",
      "    folder is the simulation folder\n",
      "    exportFolder is the folder to export results to\n",
      "    xvar is the variable on the x axis. value of xvar should be 'z', 't', 'rbar', or 'scalar' \n",
      "    time is the time at which we evaluate survival\n",
      "    a,b, and c are model parameters for the cell survival\n",
      "    zunits = mm or nozzle_inner_width\n",
      "    dr is the spacing between relative r values, as a fraction\n",
      "    export True to export images\n",
      "    overwrite True to export images even if the file already exists\n",
      "\n"
     ]
    }
   ],
   "source": [
    "help(survivalPlot)"
   ]
  },
  {
   "cell_type": "code",
   "execution_count": null,
   "id": "a6f254d4",
   "metadata": {
    "tags": []
   },
   "outputs": [],
   "source": [
    "for s in [137, 140]:\n",
    "    folder = os.path.join(SERVERFOLDER, 'orig', f'cn{s}')\n",
    "    for d in [{'a':10**-2, 'b':0.5, 'c':0.5}]:\n",
    "        survivalPlot(folder, EXPORTFOLDER, 'z',  a=d['a'], b=d['b'], c=d['c']\n",
    "                     , dr=0.1, export=True, overwrite=True)"
   ]
  },
  {
   "cell_type": "code",
   "execution_count": null,
   "id": "64c309cf",
   "metadata": {
    "tags": []
   },
   "outputs": [],
   "source": [
    "topfolder = os.path.join(SERVERFOLDER, 'orig')\n",
    "linePlots0(topfolder, EXPORTFOLDER, 'nozzle_angle', 2.5, imsize=6.5, yvar=['vz', 'vx', 'nu'], \n",
    "           x=1.4, bath_depth_list=[6.05], nozzle_angle_list=[0,10,20,30], export=True, overwrite=True)"
   ]
  },
  {
   "cell_type": "code",
   "execution_count": null,
   "id": "05b88d7c",
   "metadata": {
    "tags": []
   },
   "outputs": [],
   "source": [
    "topfolder = os.path.join(SERVERFOLDER, 'orig')\n",
    "for s in ['a_stre', 'x_viscx', 'y_viscy', 'y_umag']:\n",
    "    picPlots0(topfolder, EXPORTFOLDER, 2.5, 0, tag=s\n",
    "              , overwrite=True, xvar='nozzle_angle', yvar='bath_depth'\n",
    "          , bath_depth_list=[6.05], nozzle_angle_list=[0,10,20,30], imsize=8)"
   ]
  },
  {
   "cell_type": "code",
   "execution_count": null,
   "id": "4ba83cfc",
   "metadata": {
    "tags": []
   },
   "outputs": [],
   "source": [
    "fig,axs = plt.subplots(1,3, figsize=(6.5, 3.25))\n",
    "f = os.path.join(SERVERFOLDER, 'orig', 'cn137')\n",
    "twlist = [0.1, 0.2, 0.3, 0.4, 0.5]\n",
    "cm = sns.color_palette('viridis', n_colors=len(twlist))\n",
    "for i,tw in enumerate(twlist):\n",
    "    dlist = []\n",
    "    for di in np.arange(0.1, 1, 0.05):\n",
    "        do = di+2*tw\n",
    "        d = intm.viscRatio(f, di=di, do=do)   # get the viscosity ratio\n",
    "        d['di'] = di  # get the color\n",
    "        d['do'] = do\n",
    "        dlist.append(d)   # save these values to list\n",
    "    df = pd.DataFrame(dlist)\n",
    "    axs[0].plot(df['di'], df['ink_visc'], label=tw, color=cm[i])\n",
    "    axs[1].plot(df['di'], df['sup_visc'], label=tw, color=cm[i])\n",
    "    axs[2].plot(df['di'], df['viscRatio'], label=tw, color=cm[i])\n",
    "\n",
    "    \n",
    "axs[0].legend(title='$t_w$ (mm)')\n",
    "axs[0].set_ylabel('Ink viscosity (Pa$\\cdot$s)')\n",
    "axs[1].set_ylabel('Support viscosity (Pa$\\cdot$s)')\n",
    "for ax in [axs[0], axs[1]]:\n",
    "    ax.set_ylim([0.4, 3.5])\n",
    "axs[2].set_ylabel('Ink viscosity/support viscosity')\n",
    "for ax in axs:\n",
    "    ax.set_xlabel('$d_i$ (mm)')\n",
    "    setSquare(ax)\n",
    "fig.tight_layout()\n",
    "intm.exportIm(os.path.join(EXPORTFOLDER, 'viscRatio_d.pdf'), fig)"
   ]
  },
  {
   "cell_type": "markdown",
   "id": "935c78ab",
   "metadata": {},
   "source": [
    "### speed"
   ]
  },
  {
   "cell_type": "code",
   "execution_count": null,
   "id": "85a4db45",
   "metadata": {
    "tags": []
   },
   "outputs": [],
   "source": [
    "for na in [0, 15]:\n",
    "    withinNozzle0(os.path.join(SERVERFOLDER, 'speed_sweep'), EXPORTFOLDER, 2.5, 2\n",
    "              , zunits='nozzle_inner_width', \n",
    "              cvar='vsup', overwrite=True \n",
    "              , xvar='rbar', volume=False\n",
    "              , vsup_list=[5, 7.5, 10, 12.5, 15]\n",
    "             , nozzle_angle_list=[na])"
   ]
  },
  {
   "cell_type": "code",
   "execution_count": null,
   "id": "6f9e48e2",
   "metadata": {},
   "outputs": [],
   "source": [
    "txtPlots0(os.path.join(SERVERFOLDER, 'speed_sweep'), EXPORTFOLDER\n",
    "         , xunits='nozzle_inner_width', \n",
    "         cvar='vsup', xvar='vsup', yvar='nozzle_angle',\n",
    "         vsup_list=[5, 7.5, 10, 12.5, 15], overwrite=True, fontsize=20)"
   ]
  },
  {
   "cell_type": "code",
   "execution_count": null,
   "id": "60a74b88",
   "metadata": {
    "tags": []
   },
   "outputs": [],
   "source": [
    "XSPlots0(os.path.join(SERVERFOLDER, 'speed_sweep'), EXPORTFOLDER, 2.5, 8\n",
    "         , xunits='nozzle_inner_width', \n",
    "         cvar='vsup', xvar='vsup', yvar='nozzle_angle',\n",
    "         vsup_list=[5, 7.5, 10, 12.5, 15], overwrite=True)"
   ]
  },
  {
   "cell_type": "code",
   "execution_count": null,
   "id": "8a6e5b75",
   "metadata": {
    "tags": []
   },
   "outputs": [],
   "source": [
    "for na in [0,15]:\n",
    "    survivalRMultiRow(os.path.join(SERVERFOLDER, 'speed_sweep'), EXPORTFOLDER, cvar='vsup'\n",
    "                  , volume=False\n",
    "                  , vsup_list=[5, 7.5, 10, 12.5, 15]\n",
    "                  , nozzle_angle_list=[na], overwrite=True)"
   ]
  },
  {
   "cell_type": "code",
   "execution_count": null,
   "id": "f7846b8b",
   "metadata": {
    "tags": []
   },
   "outputs": [],
   "source": [
    "picPlots0(os.path.join(SERVERFOLDER, 'speed_sweep'), EXPORTFOLDER, 1, 0\n",
    "          , tag='y_umag', overwrite=True, xvar='vsup', yvar='nozzle_angle', vsup_list=[5, 7.5, 10, 12.5, 15])"
   ]
  },
  {
   "cell_type": "code",
   "execution_count": null,
   "id": "711e395d",
   "metadata": {},
   "outputs": [],
   "source": [
    "viscRatioPlot0(os.path.join(SERVERFOLDER, 'speed_sweep'), EXPORTFOLDER\n",
    "               , 2.5, 8, xunits='nozzle_inner_width', yvar='aspectratio', cvar='vsup', mvar='nozzle_angle'\n",
    "              , overwrite=True, export=True, vsup_list=[5, 7.5, 10, 12.5, 15])"
   ]
  },
  {
   "cell_type": "markdown",
   "id": "bbd0305b",
   "metadata": {},
   "source": [
    "### diameter"
   ]
  },
  {
   "cell_type": "code",
   "execution_count": null,
   "id": "cb125c32",
   "metadata": {
    "tags": []
   },
   "outputs": [],
   "source": [
    "topfolder = os.path.join(SERVERFOLDER, 'diameter')\n",
    "for na in [0, 15]:\n",
    "    withinNozzle0(topfolder, EXPORTFOLDER, 2.5, -2\n",
    "                  , zunits='nozzle_inner_width', cvar='nozzle_inner_width'\n",
    "                  , xvar='rbar', volume=False\n",
    "                  , nozzle_angle_list=[na], overwrite=True)"
   ]
  },
  {
   "cell_type": "code",
   "execution_count": null,
   "id": "a72987f3",
   "metadata": {
    "tags": []
   },
   "outputs": [],
   "source": [
    "topfolder = os.path.join(SERVERFOLDER, 'diameter')\n",
    "XSPlots0(topfolder, EXPORTFOLDER, 2.5, 6, xunits='nozzle_inner_width'\n",
    "         , cvar='nozzle_inner_width', xvar='nozzle_inner_width'\n",
    "         , yvar='vink', nozzle_angle_list=[0],  overwrite=True)"
   ]
  },
  {
   "cell_type": "code",
   "execution_count": null,
   "id": "590c9856",
   "metadata": {
    "tags": []
   },
   "outputs": [],
   "source": [
    "topfolder = os.path.join(SERVERFOLDER, 'diameter')\n",
    "XSPlots0(topfolder, EXPORTFOLDER, 2.5, 6, xunits='nozzle_inner_width'\n",
    "         , cvar='nozzle_inner_width', xvar='vink', bn_list=['cn209', 'cn208', 'cn137', 'cn226']\n",
    "         , yvar='vink', nozzle_angle_list=[0],  overwrite=True)"
   ]
  },
  {
   "cell_type": "code",
   "execution_count": null,
   "id": "bd15058a",
   "metadata": {
    "tags": []
   },
   "outputs": [],
   "source": [
    "topfolder = os.path.join(SERVERFOLDER, 'diameter')\n",
    "XSPlots0(topfolder, EXPORTFOLDER, 2.5, 6, xunits='nozzle_inner_width'\n",
    "         , cvar='nozzle_inner_width', xvar='ink_k', bn_list=['cn254', 'cn253', 'cn137', 'cn252']\n",
    "         , yvar='ink_k', nozzle_angle_list=[0],  overwrite=True)"
   ]
  },
  {
   "cell_type": "code",
   "execution_count": null,
   "id": "ed4745ab",
   "metadata": {},
   "outputs": [],
   "source": [
    "for f in ['cn209', 'cn208', 'cn137', 'cn226']:\n",
    "    stabilityPlot(os.path.join(SERVERFOLDER, 'diameter', f), EXPORTFOLDER, 2.5, 8, xunits='nozzle_inner_width', export=True)"
   ]
  },
  {
   "cell_type": "code",
   "execution_count": null,
   "id": "78fddcad",
   "metadata": {
    "tags": []
   },
   "outputs": [],
   "source": [
    "topfolder = os.path.join(SERVERFOLDER, 'diameter')\n",
    "txtPlots0(topfolder, EXPORTFOLDER, xunits='nozzle_inner_width'\n",
    "         , cvar='nozzle_inner_width', xvar='nozzle_inner_width'\n",
    "         , yvar='vink', nozzle_angle_list=[0], overwrite=True, fontsize=20)"
   ]
  },
  {
   "cell_type": "code",
   "execution_count": null,
   "id": "8af39354",
   "metadata": {
    "tags": []
   },
   "outputs": [],
   "source": [
    "topfolder = os.path.join(SERVERFOLDER, 'diameter')\n",
    "txtPlots0(topfolder, EXPORTFOLDER, xunits='nozzle_inner_width'\n",
    "         , cvar='nozzle_inner_width', xvar='nozzle_inner_width'\n",
    "         , yvar='nozzle_angle', vsup_list=[10], overwrite=True, fontsize=20)"
   ]
  },
  {
   "cell_type": "code",
   "execution_count": null,
   "id": "a4f28b43",
   "metadata": {
    "tags": []
   },
   "outputs": [],
   "source": [
    "topfolder = os.path.join(SERVERFOLDER, 'diameter')\n",
    "XSPlots0(topfolder, EXPORTFOLDER, 2.5, 6, xunits='nozzle_inner_width'\n",
    "         , cvar='nozzle_inner_width', xvar='nozzle_inner_width'\n",
    "         , yvar='vink', nozzle_angle_list=[0], overwrite=True)"
   ]
  },
  {
   "cell_type": "code",
   "execution_count": null,
   "id": "18949589",
   "metadata": {
    "tags": []
   },
   "outputs": [],
   "source": [
    "topfolder = os.path.join(SERVERFOLDER, 'diameter')\n",
    "for s in ['y_umag', 'y_viscy', 'a_stre', 'y_py', 'x_viscx']:\n",
    "    picPlots0(topfolder, EXPORTFOLDER, 2.5, 0, tag=s, overwrite=True, supv_list=[10]\n",
    "          , xvar='nozzle_inner_width', yvar='nozzle_angle')"
   ]
  },
  {
   "cell_type": "code",
   "execution_count": null,
   "id": "389d93a5",
   "metadata": {
    "tags": []
   },
   "outputs": [],
   "source": [
    "topfolder = os.path.join(SERVERFOLDER, 'diameter')\n",
    "for na in [0,15]:\n",
    "    survivalRMultiRow(topfolder, EXPORTFOLDER, cvar='nozzle_inner_width'\n",
    "                  , nozzle_angle_list=[na], volume=False, overwrite=True, export=True)"
   ]
  },
  {
   "cell_type": "code",
   "execution_count": null,
   "id": "78cfe921",
   "metadata": {},
   "outputs": [],
   "source": [
    "[metricVals(os.path.join(SERVERFOLDER, 'diameter', s), 2.5, 8\n",
    "           , ['aspectratio'], xunits='nozzle_inner_width') for s in ['cn208', 'cn209', 'cn226', 'cn137']]"
   ]
  },
  {
   "cell_type": "code",
   "execution_count": null,
   "id": "9c54c513",
   "metadata": {},
   "outputs": [],
   "source": [
    "0.7072309/0.6310286"
   ]
  },
  {
   "cell_type": "code",
   "execution_count": null,
   "id": "2da7e212",
   "metadata": {},
   "outputs": [],
   "source": [
    "l1 = [metricVals(os.path.join(SERVERFOLDER, 'diameter', s), 2.5, 8\n",
    "           , ['aspectratio'], xunits='nozzle_inner_width') for s in ['cn212', 'cn229']]\n",
    "print(l1)\n",
    "l1[1]['aspectratio']/l1[0]['aspectratio']"
   ]
  },
  {
   "cell_type": "code",
   "execution_count": null,
   "id": "c766e86b",
   "metadata": {},
   "outputs": [],
   "source": [
    "for s in ['cn209', 'cn226']:\n",
    "    xlist, ylist = shearStressCalcSlice(os.path.join(SERVERFOLDER, 'diameter', s), 2.5, 'nozzle_inner_width')\n",
    "    print(s, np.mean(ylist[0:20]))\n",
    "(45.585-31.377)/45.585"
   ]
  },
  {
   "cell_type": "code",
   "execution_count": null,
   "id": "cfea925d",
   "metadata": {},
   "outputs": [],
   "source": [
    "viscRatioPlot0(os.path.join(SERVERFOLDER, 'diameter'), EXPORTFOLDER\n",
    "               , 2.5, 8, xunits='nozzle_inner_width'\n",
    "               , yvar='aspectratio', cvar='nozzle_inner_width'\n",
    "               , xvar='viscRatio', mvar='vsup', nozzle_angle_list=[0]\n",
    "              , overwrite=True, export=True)"
   ]
  },
  {
   "cell_type": "code",
   "execution_count": null,
   "id": "74a346d5",
   "metadata": {
    "tags": []
   },
   "outputs": [],
   "source": [
    "topfolder = os.path.join(SERVERFOLDER, 'diameter')\n",
    "linePlots0(topfolder, EXPORTFOLDER, 'nozzle_inner_width', 2.5\n",
    "           , imsize=6.5, yvar=['vz', 'vx', 'nu'], \n",
    "           x=2, xunits='nozzle_inner_width', bn_list=['cn209', 'cn208', 'cn137', 'cn226'],\n",
    "           zunits='nozzle_inner_width', nozzle_angle_list=[0], export=True, overwrite=True)"
   ]
  },
  {
   "cell_type": "code",
   "execution_count": null,
   "id": "59e39f8a",
   "metadata": {
    "tags": []
   },
   "outputs": [],
   "source": [
    "topfolder = os.path.join(SERVERFOLDER, 'diameter')\n",
    "linePlots0(topfolder, EXPORTFOLDER, 'nozzle_inner_width', 2.5\n",
    "           , imsize=6.5, yvar=['vz', 'vx', 'nu'], \n",
    "           x=2, xunits='nozzle_inner_width', bn_list=['cn254', 'cn253', 'cn137', 'cn252'],\n",
    "           zunits='nozzle_inner_width', nozzle_angle_list=[0], export=True, overwrite=True)"
   ]
  },
  {
   "cell_type": "markdown",
   "id": "eba8812c",
   "metadata": {},
   "source": [
    "### newtonian diameter"
   ]
  },
  {
   "cell_type": "code",
   "execution_count": null,
   "id": "5210d31c",
   "metadata": {
    "tags": []
   },
   "outputs": [],
   "source": [
    "extractTP(os.path.join(SERVERFOLDER, 'newt_diameter', 'cn255'))"
   ]
  },
  {
   "cell_type": "code",
   "execution_count": null,
   "id": "4b1d3e51",
   "metadata": {
    "tags": []
   },
   "outputs": [],
   "source": [
    "topfolder = os.path.join(SERVERFOLDER, 'newt_diameter')\n",
    "withinNozzle0(topfolder, EXPORTFOLDER, 2.5, -2\n",
    "                  , zunits='nozzle_inner_width', cvar='nozzle_inner_width'\n",
    "                  , xvar='rbar', volume=False, vink_list=[10]\n",
    "                  , overwrite=True)"
   ]
  },
  {
   "cell_type": "code",
   "execution_count": null,
   "id": "c4683b86",
   "metadata": {
    "tags": []
   },
   "outputs": [],
   "source": [
    "topfolder = os.path.join(SERVERFOLDER, 'newt_diameter')\n",
    "withinNozzle0(topfolder, EXPORTFOLDER, 2.5, -2\n",
    "                  , zunits='nozzle_inner_width', cvar='nozzle_inner_width'\n",
    "                  , xvar='rbar', volume=False, vink_list=[10]\n",
    "                  , overwrite=True)"
   ]
  },
  {
   "cell_type": "code",
   "execution_count": null,
   "id": "f1051393",
   "metadata": {},
   "outputs": [],
   "source": [
    "txtPlots0(os.path.join(SERVERFOLDER, 'newt_diameter'), EXPORTFOLDER, xunits='nozzle_inner_width'\n",
    "         , cvar='nozzle_inner_width', xvar='nozzle_inner_width'\n",
    "         , yvar='vink', overwrite=True, fontsize=20)"
   ]
  },
  {
   "cell_type": "code",
   "execution_count": null,
   "id": "d0954f45",
   "metadata": {
    "tags": []
   },
   "outputs": [],
   "source": [
    "topfolder = os.path.join(SERVERFOLDER, 'newt_diameter')\n",
    "XSPlots0(topfolder, EXPORTFOLDER, 2.5, 6, xunits='nozzle_inner_width'\n",
    "         , cvar='nozzle_inner_width', xvar='nuink', bn_list=['cn243', 'cn242', 'cn200', 'cn255']\n",
    "         , yvar='nuink', overwrite=True)"
   ]
  },
  {
   "cell_type": "code",
   "execution_count": null,
   "id": "43d71c63",
   "metadata": {
    "tags": []
   },
   "outputs": [],
   "source": [
    "topfolder = os.path.join(SERVERFOLDER, 'newt_diameter')\n",
    "XSPlots0(topfolder, EXPORTFOLDER, 2.5, 6, xunits='nozzle_inner_width'\n",
    "         , cvar='nozzle_inner_width', xvar='nuink', bn_list=['cn248', 'cn247', 'cn200', 'cn244']\n",
    "         , yvar='nuink', overwrite=True)"
   ]
  },
  {
   "cell_type": "code",
   "execution_count": null,
   "id": "c4d1a173",
   "metadata": {
    "tags": []
   },
   "outputs": [],
   "source": [
    "topfolder = os.path.join(SERVERFOLDER, 'newt_diameter')\n",
    "XSPlots0(topfolder, EXPORTFOLDER, 2.5, 6, xunits='nozzle_inner_width'\n",
    "         , cvar='nozzle_inner_width', xvar='nozzle_inner_width', vink_list=[10]\n",
    "         , yvar='vink', overwrite=True)"
   ]
  },
  {
   "cell_type": "markdown",
   "id": "4f1ad481",
   "metadata": {},
   "source": [
    "## newtonian"
   ]
  },
  {
   "cell_type": "code",
   "execution_count": null,
   "id": "4b07d5f6",
   "metadata": {
    "tags": []
   },
   "outputs": [],
   "source": [
    "topfolder = os.path.join(SERVERFOLDER, 'newtonian')\n",
    "XSPlots0(topfolder, EXPORTFOLDER, 2.5 , 8, xunits='nozzle_inner_width'\n",
    "         , cvar='nozzle_angle', xvar='nozzle_angle', yvar='nuink', overwrite=True\n",
    "        , dy=0.7, dx=0.4)"
   ]
  },
  {
   "cell_type": "code",
   "execution_count": null,
   "id": "364df883",
   "metadata": {
    "tags": []
   },
   "outputs": [],
   "source": [
    "topfolder = os.path.join(SERVERFOLDER, 'newtonian')\n",
    "for nuink in [1, 10]:\n",
    "    withinNozzle0(topfolder, EXPORTFOLDER, 2.5, -2\n",
    "                  , zunits='nozzle_inner_width', cvar='nozzle_angle'\n",
    "                  , xvar='rbar', volume=False, export=True\n",
    "                  , nuink_list=[nuink], overwrite=True)"
   ]
  },
  {
   "cell_type": "code",
   "execution_count": null,
   "id": "76481e8b",
   "metadata": {
    "tags": []
   },
   "outputs": [],
   "source": [
    "topfolder = os.path.join(SERVERFOLDER, 'newtonian')\n",
    "for nuink in [1, 10]:\n",
    "    survivalRMultiRow(topfolder, EXPORTFOLDER, cvar='nozzle_angle', a3=10**-4, fontsize=8\n",
    "                  , nuink_list=[nuink], volume=False, overwrite=True, export=True)"
   ]
  },
  {
   "cell_type": "code",
   "execution_count": null,
   "id": "91474297",
   "metadata": {
    "tags": []
   },
   "outputs": [],
   "source": [
    "kwargs = {'xvar':'nozzle_angle', 'nuink_list':[10] , 'nozzle_angle_list':[0,10,20,30]\n",
    "          , 'export':True, 'overwrite':True}\n",
    "topfolder = os.path.join(SERVERFOLDER, 'newtonian')\n",
    "picPlots0(topfolder, EXPORTFOLDER, 2.5, 0, tag='a_stre', imsize=8, yvar='nuink',\n",
    "               **kwargs)"
   ]
  },
  {
   "cell_type": "code",
   "execution_count": null,
   "id": "7d62b926",
   "metadata": {
    "tags": []
   },
   "outputs": [],
   "source": [
    "kwargs = {'xvar':'nozzle_angle'\n",
    "          , 'nozzle_angle_list':[0,10,20,30], 'export':True, 'overwrite':True}\n",
    "\n",
    "for s in ['newtonian', 'orig']:\n",
    "    topfolder = os.path.join(SERVERFOLDER, s)\n",
    "    if s=='newtonian':\n",
    "        kwargs['nuink_list']=[10]\n",
    "    else:\n",
    "        kwargs.pop('nuink_list')\n",
    "        kwargs['bath_depth_list'] = [6.05]\n",
    "    linePlots0(topfolder, EXPORTFOLDER, 'nozzle_angle', 2.5, imsize=6.5\n",
    "           , yvar=['vz', 'vx', 'nu'], x=1.4, **kwargs)\n",
    "    picPlots0(topfolder, EXPORTFOLDER, 2.5, 0, tag='a_stre', imsize=8, yvar='ink_rho',\n",
    "               **kwargs)"
   ]
  },
  {
   "cell_type": "code",
   "execution_count": null,
   "id": "47c3db4d",
   "metadata": {},
   "outputs": [],
   "source": [
    "viscRatioPlot0(os.path.join(SERVERFOLDER, 'newtonian'), EXPORTFOLDER\n",
    "               , 2.5, 8, xunits='nozzle_inner_width'\n",
    "               , yvar='aspectratio', cvar='nuink'\n",
    "              , overwrite=True, export=True)"
   ]
  },
  {
   "cell_type": "markdown",
   "id": "994a1da4",
   "metadata": {},
   "source": [
    "## viscosity (k)"
   ]
  },
  {
   "cell_type": "code",
   "execution_count": null,
   "id": "5aab1677",
   "metadata": {
    "tags": []
   },
   "outputs": [],
   "source": [
    "topfolder = os.path.join(SERVERFOLDER, 'k')\n",
    "kwargs = {'xunits':'nozzle_inner_width', 'xvar':'kink', \n",
    "          'cvar':'kink', 'yvar':'nozzle_angle',\n",
    "         'overwrite':True, 'export':True}\n",
    "\n",
    "XSPlots0(topfolder, EXPORTFOLDER, 2.5 , 8, dx=0.5, **kwargs)"
   ]
  },
  {
   "cell_type": "code",
   "execution_count": null,
   "id": "1029a0d0",
   "metadata": {
    "tags": []
   },
   "outputs": [],
   "source": [
    "topfolder = os.path.join(SERVERFOLDER, 'k')\n",
    "kwargs = {'xunits':'nozzle_inner_width', 'xvar':'kink', \n",
    "          'cvar':'kink', 'yvar':'nozzle_angle',\n",
    "         'overwrite':True, 'export':True}\n",
    "\n",
    "picPlots0(topfolder, EXPORTFOLDER, 2.5,0, 'y_shearStressy'\n",
    "          , crops={'cropxl':200/1200, 'cropxr':500/1200, 'cropyt':400/1216, 'cropyb':650/1216}\n",
    "          , **kwargs)"
   ]
  },
  {
   "cell_type": "code",
   "execution_count": null,
   "id": "49319d6c",
   "metadata": {},
   "outputs": [],
   "source": [
    "topfolder = os.path.join(SERVERFOLDER, 'k')\n",
    "kwargs = {'xunits':'nozzle_inner_width', 'xvar':'kink', \n",
    "          'cvar':'kink', 'yvar':'nozzle_angle',\n",
    "         'overwrite':True, 'export':True}\n",
    "\n",
    "# for s in ['a_stre', 'y_viscy', 'x_viscx', 'y_py']:\n",
    "for s in ['y_py']:\n",
    "    picPlots0(topfolder, EXPORTFOLDER, 2.5,0, s, imsize=8\n",
    "          , **kwargs)"
   ]
  },
  {
   "cell_type": "code",
   "execution_count": null,
   "id": "2b888808",
   "metadata": {
    "tags": []
   },
   "outputs": [],
   "source": [
    "topfolder = os.path.join(SERVERFOLDER, 'k')\n",
    "kwargs = {'xunits':'nozzle_inner_width', 'xvar':'kink', \n",
    "          'cvar':'kink', 'yvar':'nozzle_angle',\n",
    "         'overwrite':True, 'export':True}\n",
    "\n",
    "txtPlots0(topfolder, EXPORTFOLDER,  **kwargs)"
   ]
  },
  {
   "cell_type": "code",
   "execution_count": null,
   "id": "5a7959ff",
   "metadata": {
    "tags": []
   },
   "outputs": [],
   "source": [
    "topfolder = os.path.join(SERVERFOLDER, 'k')\n",
    "kwargs = {'zunits':'nozzle_inner_width', 'cvar':'kink', 'xvar':'rbar', \n",
    "         'overwrite':True, 'export':True, 'volume':False, 'logy':True}\n",
    "for nozzle_angle in [0,15]:\n",
    "    withinNozzle0(topfolder, EXPORTFOLDER, 2.5, 2, nozzle_angle_list=[nozzle_angle], **kwargs)"
   ]
  },
  {
   "cell_type": "code",
   "execution_count": null,
   "id": "9677c9a4",
   "metadata": {
    "tags": []
   },
   "outputs": [],
   "source": [
    "topfolder = os.path.join(SERVERFOLDER, 'k')\n",
    "kwargs = {'zunits':'nozzle_inner_width', 'cvar':'kink',\n",
    "         'overwrite':True, 'export':True, 'volume':False, 'logx':True, 'a3':10**-4}\n",
    "for nozzle_angle in [0,15]:\n",
    "    survivalRMultiRow(topfolder, EXPORTFOLDER, nozzle_angle_list=[nozzle_angle], **kwargs)"
   ]
  },
  {
   "cell_type": "code",
   "execution_count": null,
   "id": "7b59a65f",
   "metadata": {
    "tags": []
   },
   "outputs": [],
   "source": [
    "viscRatioPlot0(os.path.join(SERVERFOLDER, 'k'), EXPORTFOLDER\n",
    "               , 2.5, 8, xunits='nozzle_inner_width'\n",
    "               , yvar='aspectratio', cvar='ink_k'\n",
    "              , overwrite=True, export=True)"
   ]
  },
  {
   "cell_type": "code",
   "execution_count": null,
   "id": "abcb2b12",
   "metadata": {
    "tags": []
   },
   "outputs": [],
   "source": [
    "topfolder = os.path.join(SERVERFOLDER, 'k')\n",
    "kwargs = {'xunits':'nozzle_inner_width', 'xvar':'kink', \n",
    "          'cvar':'kink', 'yvar':'nozzle_angle',\n",
    "         'overwrite':True, 'export':False}\n",
    "\n",
    "txtPlots0(topfolder, EXPORTFOLDER, fontsize=12, **kwargs)"
   ]
  },
  {
   "cell_type": "code",
   "execution_count": null,
   "id": "ca805a6a",
   "metadata": {},
   "outputs": [],
   "source": [
    "topfolder = os.path.join(SERVERFOLDER, 'k')\n",
    "linePlots0(topfolder, EXPORTFOLDER, 'kink', 2.5, imsize=6.5\n",
    "           , yvar=['vz', 'vx', 'nu'], \n",
    "           x=1.4, nozzle_angle_list=[0]\n",
    "           , export=True, overwrite=True)"
   ]
  },
  {
   "cell_type": "markdown",
   "id": "aab3998a",
   "metadata": {},
   "source": [
    "### Newtonian viscosity sweep"
   ]
  },
  {
   "cell_type": "code",
   "execution_count": null,
   "id": "2d31ca82",
   "metadata": {
    "tags": []
   },
   "outputs": [],
   "source": [
    "topfolder = os.path.join(SERVERFOLDER, 'newt_visc')\n",
    "kwargs = {'xunits':'nozzle_inner_width', 'xvar':'nuink', \n",
    "          'cvar':'nuink', 'yvar':'nozzle_angle',\n",
    "         'overwrite':True, 'export':True, 'imsize':8}\n",
    "\n",
    "XSPlots0(topfolder, EXPORTFOLDER, 2.5, 8, dx=0.4,  **kwargs)"
   ]
  },
  {
   "cell_type": "code",
   "execution_count": null,
   "id": "d4497715",
   "metadata": {
    "tags": []
   },
   "outputs": [],
   "source": [
    "topfolder = os.path.join(SERVERFOLDER, 'newt_visc')\n",
    "kwargs = {'xunits':'nozzle_inner_width', 'xvar':'rbar',\n",
    "          'cvar':'nuink', 'logy':True, 'zunits':'nozzle_inner_width',\n",
    "         'overwrite':True, 'export':True, 'imsize':8, 'volume':False}\n",
    "withinNozzle0(topfolder, EXPORTFOLDER, 2.5, 2, **kwargs)"
   ]
  },
  {
   "cell_type": "code",
   "execution_count": null,
   "id": "398605fe",
   "metadata": {
    "tags": []
   },
   "outputs": [],
   "source": [
    "topfolder = os.path.join(SERVERFOLDER, 'newt_visc')\n",
    "kwargs = {'xunits':'nozzle_inner_width', 'xvar':'nuink', 'zunits':'nozzle_inner_width',\n",
    "          'cvar':'nuink', 'yvar':'nozzle_angle', 'volume':False, \n",
    "         'overwrite':True, 'export':True, 'imsize':8, 'a3':10**-6, 'a2':10**-4, 'a1':1}\n",
    "survivalRMultiRow(topfolder, EXPORTFOLDER, **kwargs)"
   ]
  },
  {
   "cell_type": "code",
   "execution_count": null,
   "id": "3ddc0689",
   "metadata": {},
   "outputs": [],
   "source": [
    "viscRatioPlot0(os.path.join(SERVERFOLDER, 'newt_visc'), EXPORTFOLDER\n",
    "               , 2.5, 8, xunits='nozzle_inner_width'\n",
    "               , yvar='aspectratio', cvar='nuink'\n",
    "              , overwrite=True, export=True)"
   ]
  }
 ],
 "metadata": {
  "kernelspec": {
   "display_name": "Python 3",
   "language": "python",
   "name": "python3"
  },
  "language_info": {
   "codemirror_mode": {
    "name": "ipython",
    "version": 3
   },
   "file_extension": ".py",
   "mimetype": "text/x-python",
   "name": "python",
   "nbconvert_exporter": "python",
   "pygments_lexer": "ipython3",
   "version": "3.8.3"
  }
 },
 "nbformat": 4,
 "nbformat_minor": 5
}
